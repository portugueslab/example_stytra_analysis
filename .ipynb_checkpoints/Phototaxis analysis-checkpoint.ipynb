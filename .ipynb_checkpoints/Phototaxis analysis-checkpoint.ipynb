{
 "cells": [
  {
   "cell_type": "code",
   "execution_count": 1,
   "metadata": {
    "collapsed": true
   },
   "outputs": [],
   "source": [
    "%matplotlib widget\n",
    "import numpy as np\n",
    "import pandas as pd\n",
    "import matplotlib.pyplot as plt\n",
    "from pathlib import Path\n",
    "\n",
    "# for paper-ready export\n",
    "plt.style.use(\"v_arial\")\n",
    "import matplotlib\n",
    "matplotlib.rc('pdf', fonttype=42)"
   ]
  },
  {
   "cell_type": "code",
   "execution_count": 2,
   "metadata": {
    "collapsed": true
   },
   "outputs": [],
   "source": [
    "from ipywidgets import interact"
   ]
  },
  {
   "cell_type": "code",
   "execution_count": 3,
   "metadata": {
    "collapsed": true
   },
   "outputs": [],
   "source": [
    "import matplotlib.gridspec as gs"
   ]
  },
  {
   "cell_type": "code",
   "execution_count": 4,
   "metadata": {
    "collapsed": true
   },
   "outputs": [],
   "source": [
    "import deepdish as dd"
   ]
  },
  {
   "cell_type": "code",
   "execution_count": 7,
   "metadata": {
    "collapsed": true
   },
   "outputs": [],
   "source": [
    "folder = Path(r\"H:\\Behaviour\\Phototaxis\")\n",
    "bout_files = folder.glob(\"*_bouts.h5\")\n",
    "fish_bouts = {(f.name)[:9]: dd.io.load(str(f)) for f in bout_files}"
   ]
  },
  {
   "cell_type": "code",
   "execution_count": 8,
   "metadata": {
    "collapsed": true
   },
   "outputs": [],
   "source": [
    "scale = 0.06532239140073645"
   ]
  },
  {
   "cell_type": "markdown",
   "metadata": {},
   "source": [
    "# Plot example bouts"
   ]
  },
  {
   "cell_type": "code",
   "execution_count": 28,
   "metadata": {
    "collapsed": true
   },
   "outputs": [],
   "source": [
    "from bouter import Experiment\n",
    "from bouter.spatial.kinematic_features import normalise_bout\n",
    "from bouter.spatial.reading import extract_bouts"
   ]
  },
  {
   "cell_type": "code",
   "execution_count": 106,
   "metadata": {
    "collapsed": true
   },
   "outputs": [],
   "source": [
    "exp = Experiment(r\"J:\\_Shared\\Beh001_freeswimmingbackground\\Data\\181109_f1\\185825_metadata.json\")"
   ]
  },
  {
   "cell_type": "code",
   "execution_count": 107,
   "metadata": {
    "collapsed": true
   },
   "outputs": [],
   "source": [
    "behavior = exp.behavior_log"
   ]
  },
  {
   "cell_type": "markdown",
   "metadata": {},
   "source": [
    "Bouts are extracted using the full extract_bouts function, which we will provide, but it uses in the background bouter.linear.extract_segments_above_thresh\n",
    "Naming suggestions for this are encouraged!"
   ]
  },
  {
   "cell_type": "code",
   "execution_count": 109,
   "metadata": {
    "collapsed": true
   },
   "outputs": [],
   "source": [
    "bouts, cont = extract_bouts(r\"J:\\_Shared\\Beh001_freeswimmingbackground\\Data\\181107_f2\\151024_metadata.json\")"
   ]
  },
  {
   "cell_type": "code",
   "execution_count": 110,
   "metadata": {
    "collapsed": true
   },
   "outputs": [],
   "source": [
    "from bouter.angles import reduce_to_pi, angle_mean, rot_mat\n",
    "from scipy.ndimage.filters import gaussian_filter1d, median_filter"
   ]
  },
  {
   "cell_type": "code",
   "execution_count": 112,
   "metadata": {
    "collapsed": true
   },
   "outputs": [],
   "source": [
    "def plot_bout(i_bout, clear_axes=False):\n",
    "    if clear_axes:\n",
    "        vel_axes[0].clear()\n",
    "        vel_axes[1].clear()\n",
    "        traj_ax.clear()\n",
    "    sel = bouts[i_bout]\n",
    "    vel_axes[0].plot(sel[\"t\"]-sel[\"t\"].values[0], np.sqrt(sel[\"vx\"]**2+sel[\"vy\"]**2))\n",
    "    vel_axes[1].plot(sel[\"t\"]-sel[\"t\"].values[0], np.unwrap(sel[\"theta\"]-sel[\"theta\"].values[0]))\n",
    "    normbout= normalise_bout(sel)\n",
    "    traj_ax.plot(normbout[:,0], normbout[:,1])\n",
    "    traj_ax.plot([0,0,1],[3,2,2], color=\"k\")\n",
    "    traj_ax.set_ylim(-3,3)\n",
    "    traj_ax.set_xlim(-1,3)\n",
    "    traj_ax.axis(\"off\")\n",
    "    traj_ax.set_aspect(1)\n",
    "    vel_axes[0].set_ylabel(\"Velocity magnitude [mm/s]\")\n",
    "    vel_axes[1].set_ylabel(\"Relative angle [rad]\")\n",
    "    vel_axes[1].set_xlabel(\"Time [s]\")\n",
    "    fig.align_labels()"
   ]
  },
  {
   "cell_type": "code",
   "execution_count": 113,
   "metadata": {},
   "outputs": [
    {
     "data": {
      "application/vnd.jupyter.widget-view+json": {
       "model_id": "abfbaec2c7af4789b538a67b0bfd281e",
       "version_major": 2,
       "version_minor": 0
      },
      "text/plain": [
       "FigureCanvasNbAgg()"
      ]
     },
     "metadata": {},
     "output_type": "display_data"
    },
    {
     "data": {
      "application/vnd.jupyter.widget-view+json": {
       "model_id": "484462b0f4a44beebb9e6edd8abfbb85",
       "version_major": 2,
       "version_minor": 0
      },
      "text/plain": [
       "interactive(children=(IntSlider(value=5445, description='i_bout', max=10890), Output()), _dom_classes=('widget…"
      ]
     },
     "metadata": {},
     "output_type": "display_data"
    }
   ],
   "source": [
    "fig = plt.figure(figsize=(9,6))\n",
    "plot_grid = gs.GridSpec(2,2,width_ratios=[1.5,2])\n",
    "vel_axes = [fig.add_subplot(plot_grid[i,0]) for i in range(1)]\n",
    "vel_axes = vel_axes + [fig.add_subplot(plot_grid[i,0], sharex=vel_axes[0]) for i in range(1,2)]\n",
    "traj_ax = fig.add_subplot(plot_grid[:,1])\n",
    "\n",
    "\n",
    "@interact\n",
    "def browse_bout(i_bout:(0, len(bouts)-1)):\n",
    "    plot_bout(i_bout, clear_axes=True)"
   ]
  },
  {
   "cell_type": "code",
   "execution_count": null,
   "metadata": {
    "collapsed": true
   },
   "outputs": [],
   "source": [
    "def plot_bout(i_bout, clear_axes=False):\n",
    "    if clear_axes:\n",
    "        vel_axes[0].clear()\n",
    "        vel_axes[1].clear()\n",
    "        traj_ax.clear()\n",
    "    sel = bouts[i_bout]\n",
    "    vel_axes[0].plot(sel[\"t\"]-sel[\"t\"].values[0], np.sqrt(sel[\"vx\"]**2+sel[\"vy\"]**2))\n",
    "    vel_axes[1]\n",
    "    normbout = normalise_bout(sel)\n",
    "    traj_ax.plot(normbout[:,0], normbout[:,1])\n",
    "    traj_ax.plot([0,0,1],[3,2,2], color=\"k\")\n",
    "    traj_ax.set_ylim(-3,3)\n",
    "    traj_ax.set_xlim(-1,3)\n",
    "    traj_ax.axis(\"off\")\n",
    "    traj_ax.set_aspect(1)\n",
    "    vel_axes[0].set_ylabel(\"Velocity magnitude [mm/s]\")\n",
    "    vel_axes[1].set_ylabel(\"Relative angle [rad]\")\n",
    "    vel_axes[1].set_xlabel(\"Time [s]\")\n",
    "    fig.align_labels()"
   ]
  },
  {
   "cell_type": "code",
   "execution_count": 64,
   "metadata": {
    "collapsed": true
   },
   "outputs": [],
   "source": [
    "sel_bouts = [3547, 3765, 4090, 4870, 6523,5939]"
   ]
  },
  {
   "cell_type": "code",
   "execution_count": 93,
   "metadata": {
    "collapsed": true
   },
   "outputs": [],
   "source": [
    "import seaborn as sns"
   ]
  },
  {
   "cell_type": "code",
   "execution_count": 105,
   "metadata": {},
   "outputs": [
    {
     "data": {
      "application/vnd.jupyter.widget-view+json": {
       "model_id": "0f76ce4d569043d9bdf490a9188fd33d",
       "version_major": 2,
       "version_minor": 0
      },
      "text/plain": [
       "FigureCanvasNbAgg()"
      ]
     },
     "metadata": {},
     "output_type": "display_data"
    }
   ],
   "source": [
    "fig, axes = plt.subplots(1, 3, figsize=(7.5,2.7))\n",
    "for i_bout in sel_bouts:\n",
    "    sel = bouts[i_bout]\n",
    "    normbout = normalise_bout(bouts[i_bout])\n",
    "    ax = axes[0]\n",
    "    ax.plot(normbout[:,0], normbout[:,1])\n",
    "    ax.plot([0,0,1], [-1.5,-2.5,-2.5], color='k', lw=0.5)\n",
    "    ax.axis(\"off\")\n",
    "    ax.text(0.0, 1.8, \"Trajectories\")\n",
    "    ax.text(0.1, -2.4, \"1 mm\")\n",
    "    ax.set_aspect(1)\n",
    "    ax.set_ylim(-3, 2.5)\n",
    "    ax.set_xlim(-0.5, 3)\n",
    "    axes[1].plot(sel[\"t\"]-sel[\"t\"].values[0], np.sqrt(sel[\"vx\"]**2+sel[\"vy\"]**2))\n",
    "    axes[1].set_ylabel(\"Velocity magnitude [mm/s]\")\n",
    "    axes[2].plot(sel[\"t\"]-sel[\"t\"].values[0], np.unwrap(sel[\"theta\"]-sel[\"theta\"].values[0]))\n",
    "    axes[2].set_ylabel(\"Relative angle [rad]\")\n",
    "    for ax in axes[1:]:\n",
    "        ax.set_xlabel(\"Time [s]\")\n",
    "\n",
    "for ax in axes[1:]:\n",
    "    sns.despine(ax=ax, trim=True)\n",
    "fig.tight_layout()\n",
    "fig.savefig(\"fig4_freely_traces_results.pdf\", pad_inches=0, bbox_inches=\"tight\")"
   ]
  },
  {
   "cell_type": "markdown",
   "metadata": {},
   "source": [
    "# Analyse turning stats"
   ]
  },
  {
   "cell_type": "code",
   "execution_count": 14,
   "metadata": {
    "collapsed": true
   },
   "outputs": [],
   "source": [
    "from bouter.angles import reduce_to_pi"
   ]
  },
  {
   "cell_type": "code",
   "execution_count": 15,
   "metadata": {
    "collapsed": true
   },
   "outputs": [],
   "source": [
    "def bout_angles(bouts):\n",
    "    thetas = []\n",
    "    for i_bout, bout_df in bouts.groupby(level=0):\n",
    "        th = bout_df[\"f0_theta\"].values\n",
    "        if not np.any(np.diff(th)>0.2):\n",
    "            thetas.append(np.nanmean(th[:10])-np.nanmean(th[:-10]))\n",
    "    thetas = reduce_to_pi(np.array(thetas))\n",
    "    thetas = thetas[~np.isnan(thetas)]\n",
    "    return thetas"
   ]
  },
  {
   "cell_type": "code",
   "execution_count": 16,
   "metadata": {},
   "outputs": [
    {
     "name": "stderr",
     "output_type": "stream",
     "text": [
      "C:\\Users\\vilim\\anaconda3\\lib\\site-packages\\ipykernel_launcher.py:5: RuntimeWarning: invalid value encountered in greater\n",
      "  \"\"\"\n",
      "C:\\Users\\vilim\\anaconda3\\lib\\site-packages\\ipykernel_launcher.py:6: RuntimeWarning: Mean of empty slice\n",
      "  \n",
      "c:\\users\\vilim\\software_infrastructure\\bouter\\bouter\\angles.py:7: RuntimeWarning: invalid value encountered in remainder\n",
      "  return np.mod(ar + np.pi, np.pi * 2) - np.pi\n"
     ]
    }
   ],
   "source": [
    "angles = {fish_id: bout_angles(bouts) for fish_id, bouts in fish_bouts.items()}"
   ]
  },
  {
   "cell_type": "code",
   "execution_count": 19,
   "metadata": {
    "collapsed": true
   },
   "outputs": [],
   "source": [
    "all_angles = np.concatenate([val for key, val in angles.items() if key != \"180920_f1\" or key != \"180920_f2\"])"
   ]
  },
  {
   "cell_type": "code",
   "execution_count": 27,
   "metadata": {},
   "outputs": [
    {
     "data": {
      "application/vnd.jupyter.widget-view+json": {
       "model_id": "51ca1a2a6ef24479974d2f9b58654685",
       "version_major": 2,
       "version_minor": 0
      },
      "text/plain": [
       "FigureCanvasNbAgg()"
      ]
     },
     "metadata": {},
     "output_type": "display_data"
    }
   ],
   "source": [
    "plt.figure(figsize=(6,4))\n",
    "plt.hist(all_angles*180/np.pi, bins=151, histtype=\"step\", range=(-150, 200), density=True);\n",
    "plt.xlabel(\"bout angle\")\n",
    "plt.ylabel(\"# bouts\")\n",
    "plt.tight_layout()\n",
    "plt.xlim(-150,200)\n",
    "plt.savefig(\"phtotoaxis_angles.pdf\")"
   ]
  },
  {
   "cell_type": "markdown",
   "metadata": {},
   "source": [
    "# Individual fish"
   ]
  },
  {
   "cell_type": "code",
   "execution_count": 25,
   "metadata": {},
   "outputs": [
    {
     "data": {
      "application/vnd.jupyter.widget-view+json": {
       "model_id": "5ba81cbcbacb47b6b5b7d0884dda7740",
       "version_major": 2,
       "version_minor": 0
      },
      "text/plain": [
       "FigureCanvasNbAgg()"
      ]
     },
     "metadata": {},
     "output_type": "display_data"
    }
   ],
   "source": [
    "plt.figure(figsize=(6,4))\n",
    "plt.hist(all_angles*180/np.pi, bins=151, histtype=\"step\", range=(-150, 200), density=True);\n",
    "for fish_id, ang in angles.items():\n",
    "    plt.hist(ang*180/np.pi, bins=151, histtype=\"step\", range=(-150, 200),\n",
    "             normed=True, label=fish_id);\n",
    "plt.legend()\n",
    "plt.xlabel(\"bout angle\")\n",
    "plt.ylabel(\"# bouts\")\n",
    "plt.tight_layout()\n",
    "plt.xlim(-150,200)"
   ]
  }
 ],
 "metadata": {
  "kernelspec": {
   "display_name": "Python 3",
   "language": "python",
   "name": "python3"
  },
  "language_info": {
   "codemirror_mode": {
    "name": "ipython",
    "version": 3
   },
   "file_extension": ".py",
   "mimetype": "text/x-python",
   "name": "python",
   "nbconvert_exporter": "python",
   "pygments_lexer": "ipython3",
   "version": "3.6.3"
  }
 },
 "nbformat": 4,
 "nbformat_minor": 2
}
