{
 "cells": [
  {
   "cell_type": "code",
   "execution_count": 1,
   "metadata": {
    "collapsed": true
   },
   "outputs": [],
   "source": [
    "# we are using the ipympl backend\n",
    "%matplotlib widget\n",
    "import numpy as np\n",
    "import pandas as pd\n",
    "import matplotlib.pyplot as plt\n",
    "from pathlib import Path\n",
    "\n",
    "# for paper-ready export\n",
    "plt.style.use(\"v_arial\")\n",
    "import matplotlib\n",
    "matplotlib.rc('pdf', fonttype=42)"
   ]
  },
  {
   "cell_type": "code",
   "execution_count": 2,
   "metadata": {
    "collapsed": true
   },
   "outputs": [],
   "source": [
    "from ipywidgets import interact"
   ]
  },
  {
   "cell_type": "code",
   "execution_count": 3,
   "metadata": {
    "collapsed": true
   },
   "outputs": [],
   "source": [
    "import matplotlib.gridspec as gs"
   ]
  },
  {
   "cell_type": "code",
   "execution_count": 4,
   "metadata": {
    "collapsed": true
   },
   "outputs": [],
   "source": [
    "import deepdish as dd"
   ]
  },
  {
   "cell_type": "code",
   "execution_count": 5,
   "metadata": {},
   "outputs": [],
   "source": [
    "folder = Path(r\"J:\\_Shared\\stytra\\phototaxis\")"
   ]
  },
  {
   "cell_type": "code",
   "execution_count": 6,
   "metadata": {},
   "outputs": [],
   "source": [
    "from utilities import Experiment, extract_bouts"
   ]
  },
  {
   "cell_type": "code",
   "execution_count": 7,
   "metadata": {},
   "outputs": [
    {
     "name": "stdout",
     "output_type": "stream",
     "text": [
      "0 J:\\_Shared\\stytra\\phototaxis\\181127_f6 420\n",
      "1 J:\\_Shared\\stytra\\phototaxis\\181128_f10 440\n",
      "2 J:\\_Shared\\stytra\\phototaxis\\181128_f11 504\n",
      "3 J:\\_Shared\\stytra\\phototaxis\\181128_f12 604\n",
      "4 J:\\_Shared\\stytra\\phototaxis\\181128_f13 1063\n",
      "5 J:\\_Shared\\stytra\\phototaxis\\181128_f15 435\n",
      "6 J:\\_Shared\\stytra\\phototaxis\\181128_f7 794\n",
      "7 J:\\_Shared\\stytra\\phototaxis\\181128_f8 572\n",
      "8 J:\\_Shared\\stytra\\phototaxis\\181128_f9 909\n",
      "9 J:\\_Shared\\stytra\\phototaxis\\181129_f2 709\n"
     ]
    }
   ],
   "source": [
    "experiments = []\n",
    "for i, expfile in enumerate(folder.glob(\"**/*_metadata.json\")):\n",
    "    exp = Experiment(expfile)\n",
    "    bouts, cont = extract_bouts(exp)\n",
    "    print(i, exp.path, len(bouts))\n",
    "    exp.bouts = bouts\n",
    "    experiments.append(exp)"
   ]
  },
  {
   "cell_type": "markdown",
   "metadata": {},
   "source": [
    "## Plot bouts from an experiment"
   ]
  },
  {
   "cell_type": "code",
   "execution_count": 8,
   "metadata": {},
   "outputs": [
    {
     "data": {
      "application/vnd.jupyter.widget-view+json": {
       "model_id": "d3b377432d8049f2948f6a4545f9065c",
       "version_major": 2,
       "version_minor": 0
      },
      "text/plain": [
       "FigureCanvasNbAgg()"
      ]
     },
     "metadata": {},
     "output_type": "display_data"
    }
   ],
   "source": [
    "fig, ax = plt.subplots()\n",
    "for b in experiments[0].bouts:\n",
    "    ax.plot(b.x, b.y)\n",
    "ax.set_aspect(1)"
   ]
  },
  {
   "cell_type": "markdown",
   "metadata": {},
   "source": [
    "# Analyse turning stats"
   ]
  },
  {
   "cell_type": "code",
   "execution_count": 9,
   "metadata": {},
   "outputs": [],
   "source": [
    "from utilities import reduce_to_pi"
   ]
  },
  {
   "cell_type": "code",
   "execution_count": 10,
   "metadata": {
    "collapsed": true
   },
   "outputs": [],
   "source": [
    "def bout_angles(bouts, t_stim, stim_status):\n",
    "    thetas = []\n",
    "    for bout_df in bouts:\n",
    "        # if the bout is not within the phototaxis stimulus, do not include it\n",
    "        if np.interp(bout_df[\"t\"].iloc[0], t_stim, stim_status) == 0:\n",
    "            continue\n",
    "        th = bout_df[\"theta\"].values\n",
    "        if not np.any(np.diff(th)>0.2):\n",
    "            thetas.append(np.nanmean(th[:10])-np.nanmean(th[:-10]))\n",
    "    thetas = reduce_to_pi(np.array(thetas))\n",
    "    thetas = thetas[~np.isnan(thetas)]\n",
    "    return thetas"
   ]
  },
  {
   "cell_type": "code",
   "execution_count": 11,
   "metadata": {},
   "outputs": [
    {
     "name": "stderr",
     "output_type": "stream",
     "text": [
      "C:\\Users\\vilim\\anaconda3\\lib\\site-packages\\ipykernel_launcher.py:8: RuntimeWarning: invalid value encountered in greater\n",
      "  \n",
      "C:\\Users\\vilim\\anaconda3\\lib\\site-packages\\ipykernel_launcher.py:9: RuntimeWarning: Mean of empty slice\n",
      "  if __name__ == '__main__':\n",
      "C:\\Users\\vilim\\Analysis\\BehaviouralAnalysis\\example_stytra_analysis\\utilities.py:330: RuntimeWarning: invalid value encountered in remainder\n",
      "  return np.mod(ar + np.pi, np.pi * 2) - np.pi\n"
     ]
    }
   ],
   "source": [
    "for exp in experiments:\n",
    "    # make an array to determine the phototaxis on and off times\n",
    "    t_stim = np.empty(len(exp[\"stimulus\"][\"log\"])*2)\n",
    "    stim_status = np.empty(len(t_stim), np.bool)\n",
    "    for i, item in enumerate(exp[\"stimulus\"][\"log\"]):\n",
    "        t_stim[i*2] = item[\"t_start\"]\n",
    "        t_stim[i*2+1] = item[\"t_stop\"]\n",
    "        stim_status[i*2:(i+1)*2]= item[\"name\"] != \"flash\"\n",
    "    exp.angles = bout_angles(exp.bouts, t_stim, stim_status)"
   ]
  },
  {
   "cell_type": "code",
   "execution_count": 12,
   "metadata": {},
   "outputs": [],
   "source": [
    "hist_range = (-150,200)"
   ]
  },
  {
   "cell_type": "markdown",
   "metadata": {},
   "source": [
    "## Bin the bouts by angle"
   ]
  },
  {
   "cell_type": "code",
   "execution_count": 13,
   "metadata": {},
   "outputs": [],
   "source": [
    "bcs = []\n",
    "hist_bins = np.linspace(*hist_range, 91)\n",
    "for exp in experiments:\n",
    "    # the angles are negative to compare with Huang et al.\n",
    "    bin_counts, _ = np.histogram(-exp.angles*180/np.pi, hist_bins, density=True)\n",
    "    bcs.append(bin_counts)"
   ]
  },
  {
   "cell_type": "code",
   "execution_count": 15,
   "metadata": {},
   "outputs": [],
   "source": [
    "full_counts = np.stack(bcs, 0)"
   ]
  },
  {
   "cell_type": "code",
   "execution_count": 17,
   "metadata": {},
   "outputs": [
    {
     "data": {
      "application/vnd.jupyter.widget-view+json": {
       "model_id": "8311b5b18c0f402b80487db8891af03f",
       "version_major": 2,
       "version_minor": 0
      },
      "text/plain": [
       "FigureCanvasNbAgg()"
      ]
     },
     "metadata": {},
     "output_type": "display_data"
    }
   ],
   "source": [
    "plt.figure(figsize=(6,4))\n",
    "plt.plot((hist_bins[:-1]+hist_bins[1:])/2, np.nanmean(full_counts,0)*100)\n",
    "plt.xlabel(\"bout angle\")\n",
    "plt.tight_layout()\n",
    "plt.xlim(-150,200)\n",
    "plt.savefig(\"Plots/phtotoaxis_angles.pdf\")"
   ]
  },
  {
   "cell_type": "markdown",
   "metadata": {},
   "source": [
    "## Browse individual experiments"
   ]
  },
  {
   "cell_type": "code",
   "execution_count": 18,
   "metadata": {},
   "outputs": [
    {
     "data": {
      "application/vnd.jupyter.widget-view+json": {
       "model_id": "0a2bf8099de64891b16c1fc4f33090f5",
       "version_major": 2,
       "version_minor": 0
      },
      "text/plain": [
       "FigureCanvasNbAgg()"
      ]
     },
     "metadata": {},
     "output_type": "display_data"
    },
    {
     "data": {
      "application/vnd.jupyter.widget-view+json": {
       "model_id": "af90bea7f8434dd3b8e499fe5405e7f9",
       "version_major": 2,
       "version_minor": 0
      },
      "text/plain": [
       "interactive(children=(IntSlider(value=4, description='i', max=9), Output()), _dom_classes=('widget-interact',)…"
      ]
     },
     "metadata": {},
     "output_type": "display_data"
    }
   ],
   "source": [
    "fig, ax = plt.subplots()\n",
    "@interact\n",
    "def show_plot(i:(0, len(experiments)-1)):\n",
    "    ax.clear()\n",
    "    exp = experiments[i]\n",
    "    ax.hist(-exp.angles*180/np.pi, bins=122, histtype=\"step\", range=(-150, 200), density=True);\n",
    "    plt.xlim(-150,200)\n",
    "    plt.title(str(exp.path))"
   ]
  }
 ],
 "metadata": {
  "kernelspec": {
   "display_name": "Python 3",
   "language": "python",
   "name": "python3"
  },
  "language_info": {
   "codemirror_mode": {
    "name": "ipython",
    "version": 3
   },
   "file_extension": ".py",
   "mimetype": "text/x-python",
   "name": "python",
   "nbconvert_exporter": "python",
   "pygments_lexer": "ipython3",
   "version": "3.6.5"
  }
 },
 "nbformat": 4,
 "nbformat_minor": 2
}
