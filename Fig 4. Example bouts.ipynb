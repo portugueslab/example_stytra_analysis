{
 "cells": [
  {
   "cell_type": "code",
   "execution_count": 1,
   "metadata": {},
   "outputs": [],
   "source": [
    "# we are using the ipympl backend\n",
    "%matplotlib widget\n",
    "import numpy as np\n",
    "import matplotlib.pyplot as plt\n",
    "import seaborn as sns\n",
    "from ipywidgets import interact\n",
    "# for paper-ready export\n",
    "plt.style.use(\"v_arial\")\n",
    "import matplotlib\n",
    "matplotlib.rc('pdf', fonttype=42)"
   ]
  },
  {
   "cell_type": "code",
   "execution_count": 2,
   "metadata": {
    "collapsed": true
   },
   "outputs": [],
   "source": [
    "from utilities import Experiment, extract_bouts, normalise_bout"
   ]
  },
  {
   "cell_type": "markdown",
   "metadata": {},
   "source": [
    "## Load an experiment from the phototaxis batch"
   ]
  },
  {
   "cell_type": "code",
   "execution_count": 3,
   "metadata": {
    "collapsed": true
   },
   "outputs": [],
   "source": [
    "exp = Experiment(r\"J:\\_Shared\\stytra\\phototaxis\\181128_f9\\114818_metadata.json\")"
   ]
  },
  {
   "cell_type": "code",
   "execution_count": 4,
   "metadata": {
    "collapsed": true
   },
   "outputs": [],
   "source": [
    "bouts, cont = extract_bouts(exp)"
   ]
  },
  {
   "cell_type": "code",
   "execution_count": 5,
   "metadata": {
    "collapsed": true
   },
   "outputs": [],
   "source": [
    "def plot_bout(i_bout, clear_axes=False):\n",
    "    normbout = normalise_bout(bouts[i_bout])\n",
    "    if clear_axes:\n",
    "        for ax in axes:\n",
    "            ax.clear()\n",
    "    ax = axes[0]\n",
    "    ax.plot(normbout[:,0], normbout[:,1])\n",
    "    ax.plot([0,0,1], [-1.5,-2.5,-2.5], color='k', lw=0.5)\n",
    "    ax.axis(\"off\")\n",
    "    ax.text(0.0, 1.8, \"Trajectories\")\n",
    "    ax.text(0.1, -2.4, \"1 mm\")\n",
    "    ax.set_aspect(1)\n",
    "    ax.set_ylim(-3, 2.5)\n",
    "    ax.set_xlim(-0.5, 3)\n",
    "    \n",
    "    sel = bouts[i_bout]\n",
    "    axes[1].plot(sel[\"t\"]-sel[\"t\"].values[0], np.sqrt(sel[\"vx\"]**2+sel[\"vy\"]**2))\n",
    "    axes[1].set_ylabel(\"Velocity magnitude [mm/s]\")\n",
    "    axes[2].plot(sel[\"t\"]-sel[\"t\"].values[0], np.unwrap(sel[\"theta\"]-sel[\"theta\"].values[0]))\n",
    "    axes[2].set_ylabel(\"Relative angle [rad]\")\n",
    "    for ax in axes[1:]:\n",
    "        ax.set_xlabel(\"Time [s]\")"
   ]
  },
  {
   "cell_type": "code",
   "execution_count": 6,
   "metadata": {},
   "outputs": [
    {
     "data": {
      "application/vnd.jupyter.widget-view+json": {
       "model_id": "23ab81d5fe8141c7b8e6640eb7056be7",
       "version_major": 2,
       "version_minor": 0
      },
      "text/plain": [
       "FigureCanvasNbAgg()"
      ]
     },
     "metadata": {},
     "output_type": "display_data"
    },
    {
     "data": {
      "application/vnd.jupyter.widget-view+json": {
       "model_id": "e8ea24b2873e49e59e83b35ea5096da7",
       "version_major": 2,
       "version_minor": 0
      },
      "text/plain": [
       "interactive(children=(IntSlider(value=454, description='i_bout', max=908), Output()), _dom_classes=('widget-in…"
      ]
     },
     "metadata": {},
     "output_type": "display_data"
    }
   ],
   "source": [
    "fig, axes = plt.subplots(1, 3, figsize=(7.5,2.7))\n",
    "\n",
    "@interact\n",
    "def browse_bout(i_bout:(0, len(bouts)-1)):\n",
    "    plot_bout(i_bout, clear_axes=True)"
   ]
  },
  {
   "cell_type": "markdown",
   "metadata": {},
   "source": [
    "## We select a few different bouts to plot"
   ]
  },
  {
   "cell_type": "code",
   "execution_count": 7,
   "metadata": {
    "collapsed": true
   },
   "outputs": [],
   "source": [
    "sel_bouts = [880, 316, 175, 464, 649]"
   ]
  },
  {
   "cell_type": "code",
   "execution_count": 8,
   "metadata": {},
   "outputs": [
    {
     "data": {
      "application/vnd.jupyter.widget-view+json": {
       "model_id": "d94bb9a7293f4677a7286ea35d93e57e",
       "version_major": 2,
       "version_minor": 0
      },
      "text/plain": [
       "FigureCanvasNbAgg()"
      ]
     },
     "metadata": {},
     "output_type": "display_data"
    }
   ],
   "source": [
    "fig, axes = plt.subplots(1, 3, figsize=(7.5,2.7))\n",
    "for i_bout in sel_bouts:\n",
    "     plot_bout(i_bout, clear_axes=False)\n",
    "for ax in axes[1:]:\n",
    "    sns.despine(ax=ax, trim=True)\n",
    "fig.tight_layout()\n",
    "fig.savefig(\"Plots/fig4_freely_traces_results.pdf\", pad_inches=0, bbox_inches=\"tight\")"
   ]
  }
 ],
 "metadata": {
  "kernelspec": {
   "display_name": "Python 3",
   "language": "python",
   "name": "python3"
  },
  "language_info": {
   "codemirror_mode": {
    "name": "ipython",
    "version": 3
   },
   "file_extension": ".py",
   "mimetype": "text/x-python",
   "name": "python",
   "nbconvert_exporter": "python",
   "pygments_lexer": "ipython3",
   "version": "3.6.5"
  }
 },
 "nbformat": 4,
 "nbformat_minor": 2
}
