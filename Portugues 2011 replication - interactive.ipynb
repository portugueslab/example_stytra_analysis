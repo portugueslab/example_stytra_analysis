{
 "cells": [
  {
   "cell_type": "code",
   "execution_count": 1,
   "metadata": {
    "collapsed": true
   },
   "outputs": [],
   "source": [
    "%load_ext autoreload"
   ]
  },
  {
   "cell_type": "code",
   "execution_count": 2,
   "metadata": {
    "collapsed": true
   },
   "outputs": [],
   "source": [
    "import matplotlib.pyplot as plt\n",
    "import numpy as np\n",
    "%matplotlib inline\n",
    "import mpld3\n",
    "\n",
    "import pandas as pd\n",
    "from pathlib import Path\n",
    "from utilities import *\n",
    "\n",
    "import seaborn as sns\n",
    "sns.set(style=\"ticks\", palette=\"deep\")\n",
    "cols = sns.color_palette()\n",
    "plt.style.use('v_arial')"
   ]
  },
  {
   "cell_type": "markdown",
   "metadata": {},
   "source": [
    "Master folder with Stytra example data:"
   ]
  },
  {
   "cell_type": "code",
   "execution_count": 3,
   "metadata": {
    "collapsed": true
   },
   "outputs": [],
   "source": [
    "sample_data_path = Path(\"J:\\_Shared\\stytra\\manuscript\\datasets\")"
   ]
  },
  {
   "cell_type": "markdown",
   "metadata": {},
   "source": [
    "# Load all experiments:"
   ]
  },
  {
   "cell_type": "markdown",
   "metadata": {},
   "source": [
    "Note that in these datasets tail angles have been removed for compression"
   ]
  },
  {
   "cell_type": "code",
   "execution_count": 4,
   "metadata": {
    "collapsed": true
   },
   "outputs": [],
   "source": [
    "master_path = Path(sample_data_path / \"replication_portugues2011\")\n",
    "paths = list(master_path.glob('*f*'))\n",
    "exps = [Experiment(path) for path in paths]"
   ]
  },
  {
   "cell_type": "code",
   "execution_count": 5,
   "metadata": {
    "collapsed": true
   },
   "outputs": [],
   "source": [
    "def get_exp_stats(exp):\n",
    "    tail_log_df = exp.behavior_log.set_index(\"t\")  # DataFrame with the tail trace\n",
    "    stim_log_df = exp.stimulus_param_log.set_index(\"t\")\n",
    "    \n",
    "    tail_dt = np.diff(tail_log_df.index).mean()  # time step size in tail trace df\n",
    "    \n",
    "    # Recalculate vigor from tail trace:\n",
    "    vigor = tail_log_df[\"tail_sum\"].rolling(int(0.05/tail_dt), center=True).std().as_matrix()\n",
    "    \n",
    "    # extract bouts\n",
    "    bouts_idxs, _ = extract_segments_above_thresh(vigor, 0.6, min_duration=int(0.1/tail_dt), \n",
    "                                             pad_before=5, pad_after=5, skip_nan=True)\n",
    "    # Calculate bouts start and end times:\n",
    "    bout_starts = np.array([tail_log_df[\"tail_sum\"].index[b[0]] for b in bouts_idxs])\n",
    "    bout_ends = np.array([tail_log_df[\"tail_sum\"].index[b[1]] for b in bouts_idxs])\n",
    "\n",
    "    \n",
    "    # Exclude trailing trial of gain 1:\n",
    "    trial_s = stim_log_df.index[np.ediff1d(stim_log_df[\"closed loop 1D_gain\"], to_begin=0) > 0][1:]\n",
    "    trial_e = stim_log_df.index[np.ediff1d(stim_log_df[\"closed loop 1D_gain\"], to_begin=0) < 0][1:]\n",
    "    trial_g = stim_log_df[\"closed loop 1D_gain\"][np.ediff1d(stim_log_df[\"closed loop 1D_gain\"], to_begin=0) > 0].as_matrix()[1:]                    \n",
    "    trial_df = pd.DataFrame(dict(start=trial_s, end=trial_e, gain=trial_g, inter_bout_t=np.nan, \n",
    "                                 trial_idx = [i for i in range(6) for _ in range(18)],\n",
    "                                 bout_n=np.nan, bout_duration=np.nan, first_bout_latency=np.nan), \n",
    "                            index=np.arange(len(trial_s)))\n",
    "    for i in range(len(trial_df)):\n",
    "        bout_idxs = np.argwhere((bout_starts > trial_df.loc[i, \"start\"]) \n",
    "                                & (bout_ends < trial_df.loc[i, \"end\"]))[:,0]\n",
    "        if len(bout_idxs) > 0:\n",
    "            trial_df.loc[i, \"bout_n\"] = len(bout_idxs)\n",
    "            trial_df.loc[i, \"first_bout_latency\"] = bout_starts[bout_idxs[0]] - trial_df.loc[i, \"start\"]\n",
    "            trial_df.loc[i, \"bout_duration\"] = (bout_ends[bout_idxs] - bout_starts[bout_idxs]).mean()\n",
    "\n",
    "            if len(bout_idxs) > 3:\n",
    "                trial_df.loc[i, \"inter_bout_t\"] = (bout_starts[bout_idxs[1:]] - bout_ends[bout_idxs[:-1]]).mean()\n",
    "                \n",
    "    return trial_df\n",
    "                \n",
    "def cum_stat(stat_list, key):\n",
    "    stat = np.array([np.nanmean(stat[key].as_matrix().reshape(6, 18), 0) for stat in stat_list]).T\n",
    "    stat = stat/np.nanmean(stat[:3,:], 0)\n",
    "    return stat"
   ]
  },
  {
   "cell_type": "code",
   "execution_count": 6,
   "metadata": {
    "collapsed": true
   },
   "outputs": [],
   "source": [
    "trial_stats = [get_exp_stats(exp) for exp in exps]"
   ]
  },
  {
   "cell_type": "markdown",
   "metadata": {},
   "source": [
    "# Make figure"
   ]
  },
  {
   "cell_type": "code",
   "execution_count": 7,
   "metadata": {
    "collapsed": true
   },
   "outputs": [],
   "source": [
    "def back_color():\n",
    "    plt.axvspan(-0.5, 2.5, color=(0.9,)*3)\n",
    "    plt.axvspan(8.5, 11.5, color=(0.9,)*3)\n",
    "    plt.axvspan(5.5, 8.5, color=(0.7,)*3)\n",
    "    plt.axvspan(11.5, 14.5, color=(0.7,)*3)"
   ]
  },
  {
   "cell_type": "code",
   "execution_count": 12,
   "metadata": {},
   "outputs": [
    {
     "data": {
      "text/plain": [
       "['fish 0',\n",
       " 'fish 1',\n",
       " 'fish 2',\n",
       " 'fish 3',\n",
       " 'fish 4',\n",
       " 'fish 5',\n",
       " 'fish 6',\n",
       " 'fish 7',\n",
       " 'fish 8',\n",
       " 'fish 9',\n",
       " 'fish 10',\n",
       " 'fish 11',\n",
       " 'fish 12',\n",
       " 'fish 13',\n",
       " 'fish 14',\n",
       " 'fish 15',\n",
       " 'fish 16',\n",
       " 'fish 17',\n",
       " 'fish 18',\n",
       " 'fish 19',\n",
       " 'fish 20',\n",
       " 'fish 21',\n",
       " 'fish 22',\n",
       " 'fish 23']"
      ]
     },
     "execution_count": 12,
     "metadata": {},
     "output_type": "execute_result"
    }
   ],
   "source": [
    "labels = [\"fish {}\".format(i) for i in range(stat.shape[1])]\n",
    "labels"
   ]
  },
  {
   "cell_type": "code",
   "execution_count": 19,
   "metadata": {},
   "outputs": [],
   "source": [
    "from mpld3 import plugins, utils\n",
    "\n",
    "class HighlightLines(plugins.PluginBase):\n",
    "    \"\"\"A plugin to highlight lines on hover\"\"\"\n",
    "\n",
    "    JAVASCRIPT = \"\"\"\n",
    "    mpld3.register_plugin(\"linehighlight\", LineHighlightPlugin);\n",
    "    LineHighlightPlugin.prototype = Object.create(mpld3.Plugin.prototype);\n",
    "    LineHighlightPlugin.prototype.constructor = LineHighlightPlugin;\n",
    "    LineHighlightPlugin.prototype.requiredProps = [\"line_ids\"];\n",
    "    LineHighlightPlugin.prototype.defaultProps = {alpha_bg:0.3, alpha_fg:1.0}\n",
    "    function LineHighlightPlugin(fig, props){\n",
    "        mpld3.Plugin.call(this, fig, props);\n",
    "    };\n",
    "\n",
    "    LineHighlightPlugin.prototype.draw = function(){\n",
    "      for(var i=0; i<this.props.line_ids.length; i++){\n",
    "         var obj = mpld3.get_element(this.props.line_ids[i], this.fig),\n",
    "             alpha_fg = this.props.alpha_fg;\n",
    "             alpha_bg = this.props.alpha_bg;\n",
    "         obj.elements()\n",
    "             .on(\"mouseover\", function(d, i){\n",
    "                            d3.select(this).transition().duration(50)\n",
    "                              .style(\"stroke-opacity\", alpha_fg); })\n",
    "             .on(\"mouseout\", function(d, i){\n",
    "                            d3.select(this).transition().duration(200)\n",
    "                              .style(\"stroke-opacity\", alpha_bg); });\n",
    "      }\n",
    "    };\n",
    "    \"\"\"\n",
    "\n",
    "    def __init__(self, lines):\n",
    "        self.lines = lines\n",
    "        self.dict_ = {\"type\": \"linehighlight\",\n",
    "                      \"line_ids\": [utils.get_id(line) for line in lines],\n",
    "                      \"alpha_bg\": lines[0].get_alpha(),\n",
    "                      \"alpha_fg\": 1.0}"
   ]
  },
  {
   "cell_type": "code",
   "execution_count": 47,
   "metadata": {},
   "outputs": [
    {
     "name": "stderr",
     "output_type": "stream",
     "text": [
      "C:\\Users\\lpetrucco\\AppData\\Local\\Continuum\\anaconda3\\lib\\site-packages\\ipykernel_launcher.py:40: RuntimeWarning: Mean of empty slice\n"
     ]
    },
    {
     "data": {
      "text/html": [
       "\n",
       "\n",
       "<style>\n",
       "\n",
       "</style>\n",
       "\n",
       "<div id=\"fig_el483623853670305845896757797\"></div>\n",
       "<script>\n",
       "function mpld3_load_lib(url, callback){\n",
       "  var s = document.createElement('script');\n",
       "  s.src = url;\n",
       "  s.async = true;\n",
       "  s.onreadystatechange = s.onload = callback;\n",
       "  s.onerror = function(){console.warn(\"failed to load library \" + url);};\n",
       "  document.getElementsByTagName(\"head\")[0].appendChild(s);\n",
       "}\n",
       "\n",
       "if(typeof(mpld3) !== \"undefined\" && mpld3._mpld3IsLoaded){\n",
       "   // already loaded: just create the figure\n",
       "   !function(mpld3){\n",
       "       \n",
       "    mpld3.register_plugin(\"linehighlight\", LineHighlightPlugin);\n",
       "    LineHighlightPlugin.prototype = Object.create(mpld3.Plugin.prototype);\n",
       "    LineHighlightPlugin.prototype.constructor = LineHighlightPlugin;\n",
       "    LineHighlightPlugin.prototype.requiredProps = [\"line_ids\"];\n",
       "    LineHighlightPlugin.prototype.defaultProps = {alpha_bg:0.3, alpha_fg:1.0}\n",
       "    function LineHighlightPlugin(fig, props){\n",
       "        mpld3.Plugin.call(this, fig, props);\n",
       "    };\n",
       "\n",
       "    LineHighlightPlugin.prototype.draw = function(){\n",
       "      for(var i=0; i<this.props.line_ids.length; i++){\n",
       "         var obj = mpld3.get_element(this.props.line_ids[i], this.fig),\n",
       "             alpha_fg = this.props.alpha_fg;\n",
       "             alpha_bg = this.props.alpha_bg;\n",
       "         obj.elements()\n",
       "             .on(\"mouseover\", function(d, i){\n",
       "                            d3.select(this).transition().duration(50)\n",
       "                              .style(\"stroke-opacity\", alpha_fg); })\n",
       "             .on(\"mouseout\", function(d, i){\n",
       "                            d3.select(this).transition().duration(200)\n",
       "                              .style(\"stroke-opacity\", alpha_bg); });\n",
       "      }\n",
       "    };\n",
       "    \n",
       "       mpld3.draw_figure(\"fig_el483623853670305845896757797\", {\"width\": 504.0, \"height\": 432.0, \"axes\": [{\"bbox\": [0.125, 0.125, 0.775, 0.755], \"xlim\": [-0.8500000000000001, 17.85], \"ylim\": [0.2231743014281314, 2.2623710795006686], \"xdomain\": [-0.8500000000000001, 17.85], \"ydomain\": [0.2231743014281314, 2.2623710795006686], \"xscale\": \"linear\", \"yscale\": \"linear\", \"axes\": [{\"position\": \"bottom\", \"nticks\": 6, \"tickvalues\": [1, 4, 7, 10, 13, 16], \"tickformat\": [2, 5, 8, 11, 14, 17], \"scale\": \"linear\", \"fontsize\": 14.0, \"grid\": {\"gridOn\": false}, \"visible\": true}, {\"position\": \"left\", \"nticks\": 5, \"tickvalues\": [0.4, 0.8, 1.2000000000000002, 1.6, 2.0], \"tickformat\": null, \"scale\": \"linear\", \"fontsize\": 14.0, \"grid\": {\"gridOn\": false}, \"visible\": true}], \"axesbg\": \"none\", \"axesbgalpha\": null, \"zoomable\": true, \"id\": \"el48362385367031648\", \"lines\": [{\"data\": \"data01\", \"xindex\": 0, \"yindex\": 1, \"coordinates\": \"data\", \"id\": \"el48362385173462096\", \"color\": \"#058299\", \"linewidth\": 2.0, \"dasharray\": \"none\", \"alpha\": 1, \"zorder\": 2.1, \"drawstyle\": \"default\"}, {\"data\": \"data01\", \"xindex\": 0, \"yindex\": 2, \"coordinates\": \"data\", \"id\": \"el48362385392080320\", \"color\": \"#000000\", \"linewidth\": 1.5, \"dasharray\": \"none\", \"alpha\": 0.2, \"zorder\": 2, \"drawstyle\": \"default\"}, {\"data\": \"data01\", \"xindex\": 0, \"yindex\": 3, \"coordinates\": \"data\", \"id\": \"el48362385392080152\", \"color\": \"#000000\", \"linewidth\": 1.5, \"dasharray\": \"none\", \"alpha\": 0.2, \"zorder\": 2, \"drawstyle\": \"default\"}, {\"data\": \"data01\", \"xindex\": 0, \"yindex\": 4, \"coordinates\": \"data\", \"id\": \"el48362385392081160\", \"color\": \"#000000\", \"linewidth\": 1.5, \"dasharray\": \"none\", \"alpha\": 0.2, \"zorder\": 2, \"drawstyle\": \"default\"}, {\"data\": \"data01\", \"xindex\": 0, \"yindex\": 5, \"coordinates\": \"data\", \"id\": \"el48362385392081328\", \"color\": \"#000000\", \"linewidth\": 1.5, \"dasharray\": \"none\", \"alpha\": 0.2, \"zorder\": 2, \"drawstyle\": \"default\"}, {\"data\": \"data01\", \"xindex\": 0, \"yindex\": 6, \"coordinates\": \"data\", \"id\": \"el48362385392080656\", \"color\": \"#000000\", \"linewidth\": 1.5, \"dasharray\": \"none\", \"alpha\": 0.2, \"zorder\": 2, \"drawstyle\": \"default\"}, {\"data\": \"data01\", \"xindex\": 0, \"yindex\": 7, \"coordinates\": \"data\", \"id\": \"el48362385392082896\", \"color\": \"#000000\", \"linewidth\": 1.5, \"dasharray\": \"none\", \"alpha\": 0.2, \"zorder\": 2, \"drawstyle\": \"default\"}, {\"data\": \"data01\", \"xindex\": 0, \"yindex\": 8, \"coordinates\": \"data\", \"id\": \"el48362385392080432\", \"color\": \"#000000\", \"linewidth\": 1.5, \"dasharray\": \"none\", \"alpha\": 0.2, \"zorder\": 2, \"drawstyle\": \"default\"}, {\"data\": \"data01\", \"xindex\": 0, \"yindex\": 9, \"coordinates\": \"data\", \"id\": \"el48362385366633384\", \"color\": \"#000000\", \"linewidth\": 1.5, \"dasharray\": \"none\", \"alpha\": 0.2, \"zorder\": 2, \"drawstyle\": \"default\"}, {\"data\": \"data01\", \"xindex\": 0, \"yindex\": 10, \"coordinates\": \"data\", \"id\": \"el48362385366631760\", \"color\": \"#000000\", \"linewidth\": 1.5, \"dasharray\": \"none\", \"alpha\": 0.2, \"zorder\": 2, \"drawstyle\": \"default\"}, {\"data\": \"data01\", \"xindex\": 0, \"yindex\": 11, \"coordinates\": \"data\", \"id\": \"el48362385366634168\", \"color\": \"#000000\", \"linewidth\": 1.5, \"dasharray\": \"none\", \"alpha\": 0.2, \"zorder\": 2, \"drawstyle\": \"default\"}, {\"data\": \"data01\", \"xindex\": 0, \"yindex\": 12, \"coordinates\": \"data\", \"id\": \"el48362385366631984\", \"color\": \"#000000\", \"linewidth\": 1.5, \"dasharray\": \"none\", \"alpha\": 0.2, \"zorder\": 2, \"drawstyle\": \"default\"}, {\"data\": \"data01\", \"xindex\": 0, \"yindex\": 13, \"coordinates\": \"data\", \"id\": \"el48362385366633104\", \"color\": \"#000000\", \"linewidth\": 1.5, \"dasharray\": \"none\", \"alpha\": 0.2, \"zorder\": 2, \"drawstyle\": \"default\"}, {\"data\": \"data01\", \"xindex\": 0, \"yindex\": 14, \"coordinates\": \"data\", \"id\": \"el48362385366633664\", \"color\": \"#000000\", \"linewidth\": 1.5, \"dasharray\": \"none\", \"alpha\": 0.2, \"zorder\": 2, \"drawstyle\": \"default\"}, {\"data\": \"data01\", \"xindex\": 0, \"yindex\": 15, \"coordinates\": \"data\", \"id\": \"el48362385366632040\", \"color\": \"#000000\", \"linewidth\": 1.5, \"dasharray\": \"none\", \"alpha\": 0.2, \"zorder\": 2, \"drawstyle\": \"default\"}, {\"data\": \"data01\", \"xindex\": 0, \"yindex\": 16, \"coordinates\": \"data\", \"id\": \"el48362385174177328\", \"color\": \"#000000\", \"linewidth\": 1.5, \"dasharray\": \"none\", \"alpha\": 0.2, \"zorder\": 2, \"drawstyle\": \"default\"}, {\"data\": \"data01\", \"xindex\": 0, \"yindex\": 17, \"coordinates\": \"data\", \"id\": \"el48362385174179344\", \"color\": \"#000000\", \"linewidth\": 1.5, \"dasharray\": \"none\", \"alpha\": 0.2, \"zorder\": 2, \"drawstyle\": \"default\"}, {\"data\": \"data01\", \"xindex\": 0, \"yindex\": 18, \"coordinates\": \"data\", \"id\": \"el48362385174178952\", \"color\": \"#000000\", \"linewidth\": 1.5, \"dasharray\": \"none\", \"alpha\": 0.2, \"zorder\": 2, \"drawstyle\": \"default\"}, {\"data\": \"data01\", \"xindex\": 0, \"yindex\": 19, \"coordinates\": \"data\", \"id\": \"el48362385174176824\", \"color\": \"#000000\", \"linewidth\": 1.5, \"dasharray\": \"none\", \"alpha\": 0.2, \"zorder\": 2, \"drawstyle\": \"default\"}, {\"data\": \"data01\", \"xindex\": 0, \"yindex\": 20, \"coordinates\": \"data\", \"id\": \"el48362385174178168\", \"color\": \"#000000\", \"linewidth\": 1.5, \"dasharray\": \"none\", \"alpha\": 0.2, \"zorder\": 2, \"drawstyle\": \"default\"}, {\"data\": \"data01\", \"xindex\": 0, \"yindex\": 21, \"coordinates\": \"data\", \"id\": \"el48362385366598600\", \"color\": \"#000000\", \"linewidth\": 1.5, \"dasharray\": \"none\", \"alpha\": 0.2, \"zorder\": 2, \"drawstyle\": \"default\"}, {\"data\": \"data01\", \"xindex\": 0, \"yindex\": 22, \"coordinates\": \"data\", \"id\": \"el48362385366600672\", \"color\": \"#000000\", \"linewidth\": 1.5, \"dasharray\": \"none\", \"alpha\": 0.2, \"zorder\": 2, \"drawstyle\": \"default\"}, {\"data\": \"data01\", \"xindex\": 0, \"yindex\": 23, \"coordinates\": \"data\", \"id\": \"el48362385366599496\", \"color\": \"#000000\", \"linewidth\": 1.5, \"dasharray\": \"none\", \"alpha\": 0.2, \"zorder\": 2, \"drawstyle\": \"default\"}, {\"data\": \"data01\", \"xindex\": 0, \"yindex\": 24, \"coordinates\": \"data\", \"id\": \"el48362385366600952\", \"color\": \"#000000\", \"linewidth\": 1.5, \"dasharray\": \"none\", \"alpha\": 0.2, \"zorder\": 2, \"drawstyle\": \"default\"}, {\"data\": \"data01\", \"xindex\": 0, \"yindex\": 25, \"coordinates\": \"data\", \"id\": \"el48362385366601288\", \"color\": \"#000000\", \"linewidth\": 1.5, \"dasharray\": \"none\", \"alpha\": 0.2, \"zorder\": 2, \"drawstyle\": \"default\"}], \"paths\": [], \"markers\": [], \"texts\": [{\"text\": \"trial number\", \"position\": [0.5, -0.09504537650233014], \"coordinates\": \"axes\", \"h_anchor\": \"middle\", \"v_baseline\": \"hanging\", \"rotation\": -0.0, \"fontsize\": 18.0, \"color\": \"#333333\", \"alpha\": 1, \"zorder\": 3, \"id\": \"el48362385175084448\"}, {\"text\": \"Relative inter-bout time\", \"position\": [-0.09312596006144393, 0.5], \"coordinates\": \"axes\", \"h_anchor\": \"middle\", \"v_baseline\": \"auto\", \"rotation\": -90.0, \"fontsize\": 18.0, \"color\": \"#333333\", \"alpha\": 1, \"zorder\": 3, \"id\": \"el48362385132452720\"}], \"collections\": [{\"offsets\": \"data02\", \"xindex\": 0, \"yindex\": 1, \"paths\": [[[[0.0, 0.9911205697523999], [0.0, 1.0675869707657517]], [\"M\", \"L\"]], [[[1.0, 0.9711348638406062], [1.0, 1.029531404525795]], [\"M\", \"L\"]], [[[2.0, 0.9306852570208926], [2.0, 1.0099409340945538]], [\"M\", \"L\"]], [[[3.0, 1.068019783457625], [3.0, 1.2058896190115718]], [\"M\", \"L\"]], [[[4.0, 1.0343704872309052], [4.0, 1.1076210657824557]], [\"M\", \"L\"]], [[[5.0, 1.014202549086172], [5.0, 1.0878413696475928]], [\"M\", \"L\"]], [[[6.0, 0.7400249909104479], [6.0, 0.8229440847205092]], [\"M\", \"L\"]], [[[7.0, 0.7348136776926704], [7.0, 0.8022182308125023]], [\"M\", \"L\"]], [[[8.0, 0.7560475561120712], [8.0, 0.8563455258541552]], [\"M\", \"L\"]], [[[9.0, 1.0314558386362358], [9.0, 1.127443186912111]], [\"M\", \"L\"]], [[[10.0, 0.9526249182665325], [10.0, 1.013656826901633]], [\"M\", \"L\"]], [[[11.0, 0.9014281173607191], [11.0, 0.9684115735653799]], [\"M\", \"L\"]], [[[12.0, 0.6712518127658044], [12.0, 0.7690786426474941]], [\"M\", \"L\"]], [[[13.0, 0.6919954455149787], [13.0, 0.800875009945306]], [\"M\", \"L\"]], [[[14.0, 0.6693773490804809], [14.0, 0.7620888463127697]], [\"M\", \"L\"]], [[[15.0, 1.1263016787329008], [15.0, 1.2260515395043705]], [\"M\", \"L\"]], [[[16.0, 1.1300928921673232], [16.0, 1.250744339734611]], [\"M\", \"L\"]], [[[17.0, 1.04558075904785], [17.0, 1.1614476407604588]], [\"M\", \"L\"]]], \"pathtransforms\": [], \"alphas\": [null], \"edgecolors\": [\"#058299\"], \"facecolors\": [], \"edgewidths\": [2.0], \"offsetcoordinates\": \"display\", \"pathcoordinates\": \"data\", \"zorder\": 2, \"id\": \"el48362385174131824\"}], \"images\": [], \"sharex\": [], \"sharey\": []}], \"data\": {\"data01\": [[0.0, 1.0293537702590758, 0.8206927147171506, 0.9790536841287635, 1.1494251581592687, 1.2210352317762154, 0.860666321954009, 1.3131795669962572, 1.0283090917684832, 0.8906429137376486, 1.2580292372746185, 0.7247429389643057, 1.1459934416646997, 1.1235475222988678, 0.9053275506270654, 0.979541946483455, 0.9654926479267321, 1.1629061479901963, 1.012897800871361, 0.84041475160586, 0.8891883185075976, 0.9236101464172642, 0.911790677931937, 1.057503933464765, 1.5674118197563751, 0.9730869211949255], [1.0, 1.0003331341832007, 1.3611346814872625, 0.8114268747721863, 0.9027253165145765, 0.9856400194513185, 1.136479246930076, 1.0570948586746012, 0.9780171588130205, 1.2094294382233948, 0.9249681340328392, 0.7111380208823936, 0.8664799644655765, 0.9822300306892442, 1.1291873271430228, 1.0026082967129506, 1.10131453628123, 1.009256039759487, 0.9959407719143792, 1.215639623904599, 0.9351804547581021, 0.96174249106516, 0.9578987737556475, 1.0227533789005505, 0.8090090336326525, 0.9407007476325444], [2.0, 0.9703130955577232, 0.8181726037955869, 1.2095194410990497, 0.9478495253261546, 0.7933247487724656, 1.0028544311159142, 0.6297255743291416, 0.9936737494184962, 0.8999276480389562, 0.8170026286925423, 1.5641190401533005, 0.9875265938697237, 0.8942224470118878, 0.9654851222299117, 1.0178497568035942, 0.9331928157920378, 0.8278378122503165, 0.9911614272142596, 0.9439456244895407, 1.1756312267343, 1.1146473625175761, 1.1303105483124154, 0.9197426876346846, 0.6235791466109725, 1.0862123311725305], [3.0, 1.1369547012345984, 0.8092934517049741, 0.9551567557147315, 0.9017035090681573, 1.2499763727148954, 1.1698857150387747, 2.106397759909039, 1.1583546722295386, 1.1724732030534324, 1.0210565740788744, 0.7690474151069527, 0.9878243221761698, 0.9492639847029015, 1.15208601908279, 1.2062470114095516, 0.8158622782765509, 1.0877992401521868, 1.0182655207109765, 2.1298411992749084, 1.0334781504535224, 0.9967987106345565, 1.4336411730185945, 0.9732532385733442, 1.1515702184264858, 1.037636334118454], [4.0, 1.0709957765066804, 0.6916331944546019, 0.9128286937717405, 0.8741619950365758, 1.161788308985201, 1.0515476160042583, 1.3404512771971824, 1.3003190312424706, 1.1344310555153247, 1.2579870947828178, 0.7860371021926953, 1.1019407297916473, 0.9485230849839591, 1.2662465005102892, 1.2912882619651735, 1.016143181069044, 1.0027938891263193, 1.21297575214423, 1.2710410298072912, 1.0991746563490643, 0.8487241736143722, 1.1891648465374831, 1.0973446847503647, 0.9294347496113319, 0.9179177267168936], [5.0, 1.0510219593668824, 0.845892699225597, 0.7623183860907482, 0.8489687560611705, 1.4961679989012777, 1.413893333625247, 0.9871339150306688, 1.0461065358936192, 0.9787125413001295, 1.0331911768231938, 1.0102755658543614, 1.0162334440384533, 0.8424501182432019, 1.232667462134257, 1.173983742484099, 1.1830856378085446, 0.8947318936033668, 1.0861438928265925, 0.9781277174052755, 1.0321295200378215, 1.1808013000934043, 1.2927101140188744, 0.9859240749076996, 0.9532857042819963, 0.9495914941155856], [6.0, 0.7814845378154786, 0.6800092231074867, 1.0636707557898841, 0.8517364975818049, 0.6606993134200606, 0.7685250460312412, 0.5501025402524646, 0.9939935980519167, 0.673052618486893, 0.7011322220368585, 0.864769405200832, 0.9033523925453759, 0.6117607078657725, 0.7746347015476288, 0.9075398417816503, 0.9700345648423386, 0.3924438146296349, 0.7912553825350475, 0.5856730361748393, 0.680314074434173, 0.9947962993981317, 0.49409675544271553, 0.6627180007314405, 1.2994790777262106, 0.8798390379570828], [7.0, 0.7685159542525863, 0.5511840157537496, 0.7403164384505643, 0.8197930558917609, 0.5345889083607883, 0.5813834550300832, 0.8325347719004919, 0.8624727538465176, 0.7355737066191491, 0.844468108060603, 0.8445810213487711, 0.8074828603073927, 0.6164762108213527, 0.6964661058878652, 0.9994759049851137, 1.1047719129240996, 0.4782160257594792, 1.0294821608582407, 0.8034694804653466, 0.7074299782471978, 0.9323497029995936, 0.7200178488663552, 0.5637616090787985, NaN, 0.8695709113461682], [8.0, 0.8061965409831132, 0.8710149594470836, 0.8903679772767104, 0.7060458116873491, 0.5317386216644298, 0.55368238578587, 0.9343856095840468, 1.0320875702911843, 0.6258738211681841, 0.5222750852089711, 0.9475021556081055, 0.6763912531711597, 0.5503809105643683, 0.9024815228450063, 0.716244725994182, 1.277490238192384, 0.6212311861489958, 0.8203103823625849, 0.7210987953039703, 0.6598926643752461, 0.7538027350675666, NaN, 0.7743964082112419, 1.563693482469874, 0.8901321401830907], [9.0, 1.0794495127741734, 0.9560006444040877, 0.7237220865060392, 0.9990447446578969, 1.3122284265716506, 0.7976164518405229, 1.2997497248413636, 1.8209302548731714, 1.2793348791225114, 1.1537808870126747, 0.9416001765434435, 0.9304423815095599, 1.0093722779612173, 0.9760675462591722, 1.0696189975861963, 0.9962840828959532, 1.09497187860578, 0.966451648313667, 0.9033120943410099, 1.0034311849256086, 0.8244943563381344, 1.0991855312666399, 1.4783234697979395, 1.1620529139345155, 1.108771666471402], [10.0, 0.9831408725840828, 0.8341698478048009, 1.0199045861888383, 0.8796123143873064, 1.0553683200586352, 0.9761232515020267, 0.842568529540764, 1.183312004167991, 0.8492067588089595, 1.1666660007112681, 0.7892163536967849, 0.88669407442931, 0.9888293221828396, 0.8071429766398495, 1.1680732916973682, 0.9835270837074876, 1.0783897628942087, 1.049877243761131, 0.7363689996827018, 0.9369371418513306, 0.8591796080621802, 1.0299102940624156, 0.9631336561564572, 1.3187480634308302, 1.1924214565924984], [11.0, 0.9349198454630495, 0.6918738510217489, 0.9499927624894983, 0.8472234493438126, 1.168815238993255, 0.8684078286544293, 0.9155663413460793, 1.124751984038874, 0.8612879275640527, 1.1003168615918708, 0.6530817345360129, 0.8133512151688908, 0.7962080667063053, 1.3446763161155681, 1.0532190644036892, 1.0435015075715437, 0.8630985015590604, 1.079507751765624, 1.018711947746448, 0.8473919213281773, 0.8036168997532763, 0.9281188553957158, 0.9346070442289424, 0.708812170906991, 1.021937048883321], [12.0, 0.7201652277066493, 0.7988953025077468, 0.5902990229276355, 0.8347236780676955, 0.5661977826373163, 0.8397500775368014, 0.571935732235559, 0.3158650640677922, 0.6421906553388472, 0.6862794285703259, 0.500331969444362, 0.4405245670569878, 0.5951678994241805, 0.9947839834155341, 1.116171803264155, 1.3119052380416194, 0.4121867844794431, 0.9812746160427421, 0.7565135524145349, 0.6838410711502358, 0.8828695565697886, NaN, 0.5607915600891078, NaN, 0.7611356642638715], [13.0, 0.7464352277301424, 1.18368676630756, 0.4834788657110806, 0.7090216004186327, 0.5739417078671052, 0.8765851032877334, 0.40991532904594913, 0.33722555273780613, 0.7371030422125106, 0.5602628892343157, 0.636103382376939, 0.4780009754558432, 0.8651724368173845, 1.356526961577566, 0.7756753655720894, 1.187064475976361, 0.4071805456325332, 1.0286753619623303, 0.7453122750652926, 0.7754774895469162, 0.7666965844075135, NaN, 0.6818866898249333, NaN, 0.8465816090247369], [14.0, 0.7157330976966253, 0.7460342017323998, 0.5373783293601082, 0.819726869745585, 0.6185649777670236, 0.7437481742110278, 0.529191751313436, NaN, 0.5400908879490859, 0.6907357317384885, 0.45109206191208756, 0.6186199064693024, 0.6883182673727312, 0.4788043758269179, 1.3152626409892028, 1.167366234217281, 0.4041148788046816, 1.0247939829271229, 0.7765269277122279, 0.692978320858934, 0.6157764255802737, NaN, 0.7583243521343503, NaN, 0.8129457530068604], [15.0, 1.1761766091186356, 0.7746540751891885, 0.8061289159860814, 1.0472028511277147, 1.4081171143568012, 1.5938233718423755, 1.3734941641063894, 1.1755780642121016, 0.8127756642439808, 1.346809607339371, 1.5067025553423627, 0.9010386371060859, 1.2419440830172064, 1.205911812805719, 1.3334928979820346, 1.3114647740315566, 1.3829290612352578, 1.00488040475438, 1.2516952528105771, 0.8490105255093113, 0.8876793364063738, 1.2789577610327683, 1.4983789141930133, 1.1790712706116286, 1.056497503604976], [16.0, 1.190418615950967, 0.9125950187769443, 1.0731096406167608, 1.113254115591543, 1.300960935491016, 1.1726198968638977, 2.1696803168610077, 1.7474482298332512, 0.8783717853646383, 1.229187477773792, 1.3261582797364788, 0.8988911561773969, 0.8107903721033657, 1.1300647357598097, 1.277296136474227, 1.0835726905338334, 1.234285759284766, 1.1557196653147161, 1.3016432291281632, 1.0403123257966518, 0.8443497151585019, 1.182873722553369, 1.2791629565677887, 1.4218620705609748, 0.9858365505003135], [17.0, 1.1035141999041544, 0.7293862687736535, 1.1147946678673792, 0.7839439258004088, 1.004686920498179, 0.8792697413483841, 1.2234824732100047, 0.9071546940807546, 1.10220423361189, 1.197342176055973, 1.9150694765981084, 0.8458783089376545, 1.014782987384798, 1.292859018985166, 1.8503628669218184, 1.1381279213752613, 1.186558459137994, 1.1440227672325287, 1.095096247574381, 0.9486097919732451, 0.8372178279005127, 1.1040508430220644, 0.9311977966326983, 1.2358159428241744, 1.0024254399526724]], \"data02\": [[0.0, 0.0]]}, \"id\": \"el48362385367030584\", \"plugins\": [{\"type\": \"reset\"}, {\"type\": \"zoom\", \"button\": true, \"enabled\": false}, {\"type\": \"boxzoom\", \"button\": true, \"enabled\": false}, {\"type\": \"linehighlight\", \"line_ids\": [\"el48362385392080320\", \"el48362385392080152\", \"el48362385392081160\", \"el48362385392081328\", \"el48362385392080656\", \"el48362385392082896\", \"el48362385392080432\", \"el48362385366633384\", \"el48362385366631760\", \"el48362385366634168\", \"el48362385366631984\", \"el48362385366633104\", \"el48362385366633664\", \"el48362385366632040\", \"el48362385174177328\", \"el48362385174179344\", \"el48362385174178952\", \"el48362385174176824\", \"el48362385174178168\", \"el48362385366598600\", \"el48362385366600672\", \"el48362385366599496\", \"el48362385366600952\", \"el48362385366601288\"], \"alpha_bg\": 0.2, \"alpha_fg\": 1.0}]});\n",
       "   }(mpld3);\n",
       "}else if(typeof define === \"function\" && define.amd){\n",
       "   // require.js is available: use it to load d3/mpld3\n",
       "   require.config({paths: {d3: \"https://mpld3.github.io/js/d3.v3.min\"}});\n",
       "   require([\"d3\"], function(d3){\n",
       "      window.d3 = d3;\n",
       "      mpld3_load_lib(\"https://mpld3.github.io/js/mpld3.v0.3.js\", function(){\n",
       "         \n",
       "    mpld3.register_plugin(\"linehighlight\", LineHighlightPlugin);\n",
       "    LineHighlightPlugin.prototype = Object.create(mpld3.Plugin.prototype);\n",
       "    LineHighlightPlugin.prototype.constructor = LineHighlightPlugin;\n",
       "    LineHighlightPlugin.prototype.requiredProps = [\"line_ids\"];\n",
       "    LineHighlightPlugin.prototype.defaultProps = {alpha_bg:0.3, alpha_fg:1.0}\n",
       "    function LineHighlightPlugin(fig, props){\n",
       "        mpld3.Plugin.call(this, fig, props);\n",
       "    };\n",
       "\n",
       "    LineHighlightPlugin.prototype.draw = function(){\n",
       "      for(var i=0; i<this.props.line_ids.length; i++){\n",
       "         var obj = mpld3.get_element(this.props.line_ids[i], this.fig),\n",
       "             alpha_fg = this.props.alpha_fg;\n",
       "             alpha_bg = this.props.alpha_bg;\n",
       "         obj.elements()\n",
       "             .on(\"mouseover\", function(d, i){\n",
       "                            d3.select(this).transition().duration(50)\n",
       "                              .style(\"stroke-opacity\", alpha_fg); })\n",
       "             .on(\"mouseout\", function(d, i){\n",
       "                            d3.select(this).transition().duration(200)\n",
       "                              .style(\"stroke-opacity\", alpha_bg); });\n",
       "      }\n",
       "    };\n",
       "    \n",
       "         mpld3.draw_figure(\"fig_el483623853670305845896757797\", {\"width\": 504.0, \"height\": 432.0, \"axes\": [{\"bbox\": [0.125, 0.125, 0.775, 0.755], \"xlim\": [-0.8500000000000001, 17.85], \"ylim\": [0.2231743014281314, 2.2623710795006686], \"xdomain\": [-0.8500000000000001, 17.85], \"ydomain\": [0.2231743014281314, 2.2623710795006686], \"xscale\": \"linear\", \"yscale\": \"linear\", \"axes\": [{\"position\": \"bottom\", \"nticks\": 6, \"tickvalues\": [1, 4, 7, 10, 13, 16], \"tickformat\": [2, 5, 8, 11, 14, 17], \"scale\": \"linear\", \"fontsize\": 14.0, \"grid\": {\"gridOn\": false}, \"visible\": true}, {\"position\": \"left\", \"nticks\": 5, \"tickvalues\": [0.4, 0.8, 1.2000000000000002, 1.6, 2.0], \"tickformat\": null, \"scale\": \"linear\", \"fontsize\": 14.0, \"grid\": {\"gridOn\": false}, \"visible\": true}], \"axesbg\": \"none\", \"axesbgalpha\": null, \"zoomable\": true, \"id\": \"el48362385367031648\", \"lines\": [{\"data\": \"data01\", \"xindex\": 0, \"yindex\": 1, \"coordinates\": \"data\", \"id\": \"el48362385173462096\", \"color\": \"#058299\", \"linewidth\": 2.0, \"dasharray\": \"none\", \"alpha\": 1, \"zorder\": 2.1, \"drawstyle\": \"default\"}, {\"data\": \"data01\", \"xindex\": 0, \"yindex\": 2, \"coordinates\": \"data\", \"id\": \"el48362385392080320\", \"color\": \"#000000\", \"linewidth\": 1.5, \"dasharray\": \"none\", \"alpha\": 0.2, \"zorder\": 2, \"drawstyle\": \"default\"}, {\"data\": \"data01\", \"xindex\": 0, \"yindex\": 3, \"coordinates\": \"data\", \"id\": \"el48362385392080152\", \"color\": \"#000000\", \"linewidth\": 1.5, \"dasharray\": \"none\", \"alpha\": 0.2, \"zorder\": 2, \"drawstyle\": \"default\"}, {\"data\": \"data01\", \"xindex\": 0, \"yindex\": 4, \"coordinates\": \"data\", \"id\": \"el48362385392081160\", \"color\": \"#000000\", \"linewidth\": 1.5, \"dasharray\": \"none\", \"alpha\": 0.2, \"zorder\": 2, \"drawstyle\": \"default\"}, {\"data\": \"data01\", \"xindex\": 0, \"yindex\": 5, \"coordinates\": \"data\", \"id\": \"el48362385392081328\", \"color\": \"#000000\", \"linewidth\": 1.5, \"dasharray\": \"none\", \"alpha\": 0.2, \"zorder\": 2, \"drawstyle\": \"default\"}, {\"data\": \"data01\", \"xindex\": 0, \"yindex\": 6, \"coordinates\": \"data\", \"id\": \"el48362385392080656\", \"color\": \"#000000\", \"linewidth\": 1.5, \"dasharray\": \"none\", \"alpha\": 0.2, \"zorder\": 2, \"drawstyle\": \"default\"}, {\"data\": \"data01\", \"xindex\": 0, \"yindex\": 7, \"coordinates\": \"data\", \"id\": \"el48362385392082896\", \"color\": \"#000000\", \"linewidth\": 1.5, \"dasharray\": \"none\", \"alpha\": 0.2, \"zorder\": 2, \"drawstyle\": \"default\"}, {\"data\": \"data01\", \"xindex\": 0, \"yindex\": 8, \"coordinates\": \"data\", \"id\": \"el48362385392080432\", \"color\": \"#000000\", \"linewidth\": 1.5, \"dasharray\": \"none\", \"alpha\": 0.2, \"zorder\": 2, \"drawstyle\": \"default\"}, {\"data\": \"data01\", \"xindex\": 0, \"yindex\": 9, \"coordinates\": \"data\", \"id\": \"el48362385366633384\", \"color\": \"#000000\", \"linewidth\": 1.5, \"dasharray\": \"none\", \"alpha\": 0.2, \"zorder\": 2, \"drawstyle\": \"default\"}, {\"data\": \"data01\", \"xindex\": 0, \"yindex\": 10, \"coordinates\": \"data\", \"id\": \"el48362385366631760\", \"color\": \"#000000\", \"linewidth\": 1.5, \"dasharray\": \"none\", \"alpha\": 0.2, \"zorder\": 2, \"drawstyle\": \"default\"}, {\"data\": \"data01\", \"xindex\": 0, \"yindex\": 11, \"coordinates\": \"data\", \"id\": \"el48362385366634168\", \"color\": \"#000000\", \"linewidth\": 1.5, \"dasharray\": \"none\", \"alpha\": 0.2, \"zorder\": 2, \"drawstyle\": \"default\"}, {\"data\": \"data01\", \"xindex\": 0, \"yindex\": 12, \"coordinates\": \"data\", \"id\": \"el48362385366631984\", \"color\": \"#000000\", \"linewidth\": 1.5, \"dasharray\": \"none\", \"alpha\": 0.2, \"zorder\": 2, \"drawstyle\": \"default\"}, {\"data\": \"data01\", \"xindex\": 0, \"yindex\": 13, \"coordinates\": \"data\", \"id\": \"el48362385366633104\", \"color\": \"#000000\", \"linewidth\": 1.5, \"dasharray\": \"none\", \"alpha\": 0.2, \"zorder\": 2, \"drawstyle\": \"default\"}, {\"data\": \"data01\", \"xindex\": 0, \"yindex\": 14, \"coordinates\": \"data\", \"id\": \"el48362385366633664\", \"color\": \"#000000\", \"linewidth\": 1.5, \"dasharray\": \"none\", \"alpha\": 0.2, \"zorder\": 2, \"drawstyle\": \"default\"}, {\"data\": \"data01\", \"xindex\": 0, \"yindex\": 15, \"coordinates\": \"data\", \"id\": \"el48362385366632040\", \"color\": \"#000000\", \"linewidth\": 1.5, \"dasharray\": \"none\", \"alpha\": 0.2, \"zorder\": 2, \"drawstyle\": \"default\"}, {\"data\": \"data01\", \"xindex\": 0, \"yindex\": 16, \"coordinates\": \"data\", \"id\": \"el48362385174177328\", \"color\": \"#000000\", \"linewidth\": 1.5, \"dasharray\": \"none\", \"alpha\": 0.2, \"zorder\": 2, \"drawstyle\": \"default\"}, {\"data\": \"data01\", \"xindex\": 0, \"yindex\": 17, \"coordinates\": \"data\", \"id\": \"el48362385174179344\", \"color\": \"#000000\", \"linewidth\": 1.5, \"dasharray\": \"none\", \"alpha\": 0.2, \"zorder\": 2, \"drawstyle\": \"default\"}, {\"data\": \"data01\", \"xindex\": 0, \"yindex\": 18, \"coordinates\": \"data\", \"id\": \"el48362385174178952\", \"color\": \"#000000\", \"linewidth\": 1.5, \"dasharray\": \"none\", \"alpha\": 0.2, \"zorder\": 2, \"drawstyle\": \"default\"}, {\"data\": \"data01\", \"xindex\": 0, \"yindex\": 19, \"coordinates\": \"data\", \"id\": \"el48362385174176824\", \"color\": \"#000000\", \"linewidth\": 1.5, \"dasharray\": \"none\", \"alpha\": 0.2, \"zorder\": 2, \"drawstyle\": \"default\"}, {\"data\": \"data01\", \"xindex\": 0, \"yindex\": 20, \"coordinates\": \"data\", \"id\": \"el48362385174178168\", \"color\": \"#000000\", \"linewidth\": 1.5, \"dasharray\": \"none\", \"alpha\": 0.2, \"zorder\": 2, \"drawstyle\": \"default\"}, {\"data\": \"data01\", \"xindex\": 0, \"yindex\": 21, \"coordinates\": \"data\", \"id\": \"el48362385366598600\", \"color\": \"#000000\", \"linewidth\": 1.5, \"dasharray\": \"none\", \"alpha\": 0.2, \"zorder\": 2, \"drawstyle\": \"default\"}, {\"data\": \"data01\", \"xindex\": 0, \"yindex\": 22, \"coordinates\": \"data\", \"id\": \"el48362385366600672\", \"color\": \"#000000\", \"linewidth\": 1.5, \"dasharray\": \"none\", \"alpha\": 0.2, \"zorder\": 2, \"drawstyle\": \"default\"}, {\"data\": \"data01\", \"xindex\": 0, \"yindex\": 23, \"coordinates\": \"data\", \"id\": \"el48362385366599496\", \"color\": \"#000000\", \"linewidth\": 1.5, \"dasharray\": \"none\", \"alpha\": 0.2, \"zorder\": 2, \"drawstyle\": \"default\"}, {\"data\": \"data01\", \"xindex\": 0, \"yindex\": 24, \"coordinates\": \"data\", \"id\": \"el48362385366600952\", \"color\": \"#000000\", \"linewidth\": 1.5, \"dasharray\": \"none\", \"alpha\": 0.2, \"zorder\": 2, \"drawstyle\": \"default\"}, {\"data\": \"data01\", \"xindex\": 0, \"yindex\": 25, \"coordinates\": \"data\", \"id\": \"el48362385366601288\", \"color\": \"#000000\", \"linewidth\": 1.5, \"dasharray\": \"none\", \"alpha\": 0.2, \"zorder\": 2, \"drawstyle\": \"default\"}], \"paths\": [], \"markers\": [], \"texts\": [{\"text\": \"trial number\", \"position\": [0.5, -0.09504537650233014], \"coordinates\": \"axes\", \"h_anchor\": \"middle\", \"v_baseline\": \"hanging\", \"rotation\": -0.0, \"fontsize\": 18.0, \"color\": \"#333333\", \"alpha\": 1, \"zorder\": 3, \"id\": \"el48362385175084448\"}, {\"text\": \"Relative inter-bout time\", \"position\": [-0.09312596006144393, 0.5], \"coordinates\": \"axes\", \"h_anchor\": \"middle\", \"v_baseline\": \"auto\", \"rotation\": -90.0, \"fontsize\": 18.0, \"color\": \"#333333\", \"alpha\": 1, \"zorder\": 3, \"id\": \"el48362385132452720\"}], \"collections\": [{\"offsets\": \"data02\", \"xindex\": 0, \"yindex\": 1, \"paths\": [[[[0.0, 0.9911205697523999], [0.0, 1.0675869707657517]], [\"M\", \"L\"]], [[[1.0, 0.9711348638406062], [1.0, 1.029531404525795]], [\"M\", \"L\"]], [[[2.0, 0.9306852570208926], [2.0, 1.0099409340945538]], [\"M\", \"L\"]], [[[3.0, 1.068019783457625], [3.0, 1.2058896190115718]], [\"M\", \"L\"]], [[[4.0, 1.0343704872309052], [4.0, 1.1076210657824557]], [\"M\", \"L\"]], [[[5.0, 1.014202549086172], [5.0, 1.0878413696475928]], [\"M\", \"L\"]], [[[6.0, 0.7400249909104479], [6.0, 0.8229440847205092]], [\"M\", \"L\"]], [[[7.0, 0.7348136776926704], [7.0, 0.8022182308125023]], [\"M\", \"L\"]], [[[8.0, 0.7560475561120712], [8.0, 0.8563455258541552]], [\"M\", \"L\"]], [[[9.0, 1.0314558386362358], [9.0, 1.127443186912111]], [\"M\", \"L\"]], [[[10.0, 0.9526249182665325], [10.0, 1.013656826901633]], [\"M\", \"L\"]], [[[11.0, 0.9014281173607191], [11.0, 0.9684115735653799]], [\"M\", \"L\"]], [[[12.0, 0.6712518127658044], [12.0, 0.7690786426474941]], [\"M\", \"L\"]], [[[13.0, 0.6919954455149787], [13.0, 0.800875009945306]], [\"M\", \"L\"]], [[[14.0, 0.6693773490804809], [14.0, 0.7620888463127697]], [\"M\", \"L\"]], [[[15.0, 1.1263016787329008], [15.0, 1.2260515395043705]], [\"M\", \"L\"]], [[[16.0, 1.1300928921673232], [16.0, 1.250744339734611]], [\"M\", \"L\"]], [[[17.0, 1.04558075904785], [17.0, 1.1614476407604588]], [\"M\", \"L\"]]], \"pathtransforms\": [], \"alphas\": [null], \"edgecolors\": [\"#058299\"], \"facecolors\": [], \"edgewidths\": [2.0], \"offsetcoordinates\": \"display\", \"pathcoordinates\": \"data\", \"zorder\": 2, \"id\": \"el48362385174131824\"}], \"images\": [], \"sharex\": [], \"sharey\": []}], \"data\": {\"data01\": [[0.0, 1.0293537702590758, 0.8206927147171506, 0.9790536841287635, 1.1494251581592687, 1.2210352317762154, 0.860666321954009, 1.3131795669962572, 1.0283090917684832, 0.8906429137376486, 1.2580292372746185, 0.7247429389643057, 1.1459934416646997, 1.1235475222988678, 0.9053275506270654, 0.979541946483455, 0.9654926479267321, 1.1629061479901963, 1.012897800871361, 0.84041475160586, 0.8891883185075976, 0.9236101464172642, 0.911790677931937, 1.057503933464765, 1.5674118197563751, 0.9730869211949255], [1.0, 1.0003331341832007, 1.3611346814872625, 0.8114268747721863, 0.9027253165145765, 0.9856400194513185, 1.136479246930076, 1.0570948586746012, 0.9780171588130205, 1.2094294382233948, 0.9249681340328392, 0.7111380208823936, 0.8664799644655765, 0.9822300306892442, 1.1291873271430228, 1.0026082967129506, 1.10131453628123, 1.009256039759487, 0.9959407719143792, 1.215639623904599, 0.9351804547581021, 0.96174249106516, 0.9578987737556475, 1.0227533789005505, 0.8090090336326525, 0.9407007476325444], [2.0, 0.9703130955577232, 0.8181726037955869, 1.2095194410990497, 0.9478495253261546, 0.7933247487724656, 1.0028544311159142, 0.6297255743291416, 0.9936737494184962, 0.8999276480389562, 0.8170026286925423, 1.5641190401533005, 0.9875265938697237, 0.8942224470118878, 0.9654851222299117, 1.0178497568035942, 0.9331928157920378, 0.8278378122503165, 0.9911614272142596, 0.9439456244895407, 1.1756312267343, 1.1146473625175761, 1.1303105483124154, 0.9197426876346846, 0.6235791466109725, 1.0862123311725305], [3.0, 1.1369547012345984, 0.8092934517049741, 0.9551567557147315, 0.9017035090681573, 1.2499763727148954, 1.1698857150387747, 2.106397759909039, 1.1583546722295386, 1.1724732030534324, 1.0210565740788744, 0.7690474151069527, 0.9878243221761698, 0.9492639847029015, 1.15208601908279, 1.2062470114095516, 0.8158622782765509, 1.0877992401521868, 1.0182655207109765, 2.1298411992749084, 1.0334781504535224, 0.9967987106345565, 1.4336411730185945, 0.9732532385733442, 1.1515702184264858, 1.037636334118454], [4.0, 1.0709957765066804, 0.6916331944546019, 0.9128286937717405, 0.8741619950365758, 1.161788308985201, 1.0515476160042583, 1.3404512771971824, 1.3003190312424706, 1.1344310555153247, 1.2579870947828178, 0.7860371021926953, 1.1019407297916473, 0.9485230849839591, 1.2662465005102892, 1.2912882619651735, 1.016143181069044, 1.0027938891263193, 1.21297575214423, 1.2710410298072912, 1.0991746563490643, 0.8487241736143722, 1.1891648465374831, 1.0973446847503647, 0.9294347496113319, 0.9179177267168936], [5.0, 1.0510219593668824, 0.845892699225597, 0.7623183860907482, 0.8489687560611705, 1.4961679989012777, 1.413893333625247, 0.9871339150306688, 1.0461065358936192, 0.9787125413001295, 1.0331911768231938, 1.0102755658543614, 1.0162334440384533, 0.8424501182432019, 1.232667462134257, 1.173983742484099, 1.1830856378085446, 0.8947318936033668, 1.0861438928265925, 0.9781277174052755, 1.0321295200378215, 1.1808013000934043, 1.2927101140188744, 0.9859240749076996, 0.9532857042819963, 0.9495914941155856], [6.0, 0.7814845378154786, 0.6800092231074867, 1.0636707557898841, 0.8517364975818049, 0.6606993134200606, 0.7685250460312412, 0.5501025402524646, 0.9939935980519167, 0.673052618486893, 0.7011322220368585, 0.864769405200832, 0.9033523925453759, 0.6117607078657725, 0.7746347015476288, 0.9075398417816503, 0.9700345648423386, 0.3924438146296349, 0.7912553825350475, 0.5856730361748393, 0.680314074434173, 0.9947962993981317, 0.49409675544271553, 0.6627180007314405, 1.2994790777262106, 0.8798390379570828], [7.0, 0.7685159542525863, 0.5511840157537496, 0.7403164384505643, 0.8197930558917609, 0.5345889083607883, 0.5813834550300832, 0.8325347719004919, 0.8624727538465176, 0.7355737066191491, 0.844468108060603, 0.8445810213487711, 0.8074828603073927, 0.6164762108213527, 0.6964661058878652, 0.9994759049851137, 1.1047719129240996, 0.4782160257594792, 1.0294821608582407, 0.8034694804653466, 0.7074299782471978, 0.9323497029995936, 0.7200178488663552, 0.5637616090787985, NaN, 0.8695709113461682], [8.0, 0.8061965409831132, 0.8710149594470836, 0.8903679772767104, 0.7060458116873491, 0.5317386216644298, 0.55368238578587, 0.9343856095840468, 1.0320875702911843, 0.6258738211681841, 0.5222750852089711, 0.9475021556081055, 0.6763912531711597, 0.5503809105643683, 0.9024815228450063, 0.716244725994182, 1.277490238192384, 0.6212311861489958, 0.8203103823625849, 0.7210987953039703, 0.6598926643752461, 0.7538027350675666, NaN, 0.7743964082112419, 1.563693482469874, 0.8901321401830907], [9.0, 1.0794495127741734, 0.9560006444040877, 0.7237220865060392, 0.9990447446578969, 1.3122284265716506, 0.7976164518405229, 1.2997497248413636, 1.8209302548731714, 1.2793348791225114, 1.1537808870126747, 0.9416001765434435, 0.9304423815095599, 1.0093722779612173, 0.9760675462591722, 1.0696189975861963, 0.9962840828959532, 1.09497187860578, 0.966451648313667, 0.9033120943410099, 1.0034311849256086, 0.8244943563381344, 1.0991855312666399, 1.4783234697979395, 1.1620529139345155, 1.108771666471402], [10.0, 0.9831408725840828, 0.8341698478048009, 1.0199045861888383, 0.8796123143873064, 1.0553683200586352, 0.9761232515020267, 0.842568529540764, 1.183312004167991, 0.8492067588089595, 1.1666660007112681, 0.7892163536967849, 0.88669407442931, 0.9888293221828396, 0.8071429766398495, 1.1680732916973682, 0.9835270837074876, 1.0783897628942087, 1.049877243761131, 0.7363689996827018, 0.9369371418513306, 0.8591796080621802, 1.0299102940624156, 0.9631336561564572, 1.3187480634308302, 1.1924214565924984], [11.0, 0.9349198454630495, 0.6918738510217489, 0.9499927624894983, 0.8472234493438126, 1.168815238993255, 0.8684078286544293, 0.9155663413460793, 1.124751984038874, 0.8612879275640527, 1.1003168615918708, 0.6530817345360129, 0.8133512151688908, 0.7962080667063053, 1.3446763161155681, 1.0532190644036892, 1.0435015075715437, 0.8630985015590604, 1.079507751765624, 1.018711947746448, 0.8473919213281773, 0.8036168997532763, 0.9281188553957158, 0.9346070442289424, 0.708812170906991, 1.021937048883321], [12.0, 0.7201652277066493, 0.7988953025077468, 0.5902990229276355, 0.8347236780676955, 0.5661977826373163, 0.8397500775368014, 0.571935732235559, 0.3158650640677922, 0.6421906553388472, 0.6862794285703259, 0.500331969444362, 0.4405245670569878, 0.5951678994241805, 0.9947839834155341, 1.116171803264155, 1.3119052380416194, 0.4121867844794431, 0.9812746160427421, 0.7565135524145349, 0.6838410711502358, 0.8828695565697886, NaN, 0.5607915600891078, NaN, 0.7611356642638715], [13.0, 0.7464352277301424, 1.18368676630756, 0.4834788657110806, 0.7090216004186327, 0.5739417078671052, 0.8765851032877334, 0.40991532904594913, 0.33722555273780613, 0.7371030422125106, 0.5602628892343157, 0.636103382376939, 0.4780009754558432, 0.8651724368173845, 1.356526961577566, 0.7756753655720894, 1.187064475976361, 0.4071805456325332, 1.0286753619623303, 0.7453122750652926, 0.7754774895469162, 0.7666965844075135, NaN, 0.6818866898249333, NaN, 0.8465816090247369], [14.0, 0.7157330976966253, 0.7460342017323998, 0.5373783293601082, 0.819726869745585, 0.6185649777670236, 0.7437481742110278, 0.529191751313436, NaN, 0.5400908879490859, 0.6907357317384885, 0.45109206191208756, 0.6186199064693024, 0.6883182673727312, 0.4788043758269179, 1.3152626409892028, 1.167366234217281, 0.4041148788046816, 1.0247939829271229, 0.7765269277122279, 0.692978320858934, 0.6157764255802737, NaN, 0.7583243521343503, NaN, 0.8129457530068604], [15.0, 1.1761766091186356, 0.7746540751891885, 0.8061289159860814, 1.0472028511277147, 1.4081171143568012, 1.5938233718423755, 1.3734941641063894, 1.1755780642121016, 0.8127756642439808, 1.346809607339371, 1.5067025553423627, 0.9010386371060859, 1.2419440830172064, 1.205911812805719, 1.3334928979820346, 1.3114647740315566, 1.3829290612352578, 1.00488040475438, 1.2516952528105771, 0.8490105255093113, 0.8876793364063738, 1.2789577610327683, 1.4983789141930133, 1.1790712706116286, 1.056497503604976], [16.0, 1.190418615950967, 0.9125950187769443, 1.0731096406167608, 1.113254115591543, 1.300960935491016, 1.1726198968638977, 2.1696803168610077, 1.7474482298332512, 0.8783717853646383, 1.229187477773792, 1.3261582797364788, 0.8988911561773969, 0.8107903721033657, 1.1300647357598097, 1.277296136474227, 1.0835726905338334, 1.234285759284766, 1.1557196653147161, 1.3016432291281632, 1.0403123257966518, 0.8443497151585019, 1.182873722553369, 1.2791629565677887, 1.4218620705609748, 0.9858365505003135], [17.0, 1.1035141999041544, 0.7293862687736535, 1.1147946678673792, 0.7839439258004088, 1.004686920498179, 0.8792697413483841, 1.2234824732100047, 0.9071546940807546, 1.10220423361189, 1.197342176055973, 1.9150694765981084, 0.8458783089376545, 1.014782987384798, 1.292859018985166, 1.8503628669218184, 1.1381279213752613, 1.186558459137994, 1.1440227672325287, 1.095096247574381, 0.9486097919732451, 0.8372178279005127, 1.1040508430220644, 0.9311977966326983, 1.2358159428241744, 1.0024254399526724]], \"data02\": [[0.0, 0.0]]}, \"id\": \"el48362385367030584\", \"plugins\": [{\"type\": \"reset\"}, {\"type\": \"zoom\", \"button\": true, \"enabled\": false}, {\"type\": \"boxzoom\", \"button\": true, \"enabled\": false}, {\"type\": \"linehighlight\", \"line_ids\": [\"el48362385392080320\", \"el48362385392080152\", \"el48362385392081160\", \"el48362385392081328\", \"el48362385392080656\", \"el48362385392082896\", \"el48362385392080432\", \"el48362385366633384\", \"el48362385366631760\", \"el48362385366634168\", \"el48362385366631984\", \"el48362385366633104\", \"el48362385366633664\", \"el48362385366632040\", \"el48362385174177328\", \"el48362385174179344\", \"el48362385174178952\", \"el48362385174176824\", \"el48362385174178168\", \"el48362385366598600\", \"el48362385366600672\", \"el48362385366599496\", \"el48362385366600952\", \"el48362385366601288\"], \"alpha_bg\": 0.2, \"alpha_fg\": 1.0}]});\n",
       "      });\n",
       "    });\n",
       "}else{\n",
       "    // require.js not available: dynamically load d3 & mpld3\n",
       "    mpld3_load_lib(\"https://mpld3.github.io/js/d3.v3.min.js\", function(){\n",
       "         mpld3_load_lib(\"https://mpld3.github.io/js/mpld3.v0.3.js\", function(){\n",
       "                 \n",
       "    mpld3.register_plugin(\"linehighlight\", LineHighlightPlugin);\n",
       "    LineHighlightPlugin.prototype = Object.create(mpld3.Plugin.prototype);\n",
       "    LineHighlightPlugin.prototype.constructor = LineHighlightPlugin;\n",
       "    LineHighlightPlugin.prototype.requiredProps = [\"line_ids\"];\n",
       "    LineHighlightPlugin.prototype.defaultProps = {alpha_bg:0.3, alpha_fg:1.0}\n",
       "    function LineHighlightPlugin(fig, props){\n",
       "        mpld3.Plugin.call(this, fig, props);\n",
       "    };\n",
       "\n",
       "    LineHighlightPlugin.prototype.draw = function(){\n",
       "      for(var i=0; i<this.props.line_ids.length; i++){\n",
       "         var obj = mpld3.get_element(this.props.line_ids[i], this.fig),\n",
       "             alpha_fg = this.props.alpha_fg;\n",
       "             alpha_bg = this.props.alpha_bg;\n",
       "         obj.elements()\n",
       "             .on(\"mouseover\", function(d, i){\n",
       "                            d3.select(this).transition().duration(50)\n",
       "                              .style(\"stroke-opacity\", alpha_fg); })\n",
       "             .on(\"mouseout\", function(d, i){\n",
       "                            d3.select(this).transition().duration(200)\n",
       "                              .style(\"stroke-opacity\", alpha_bg); });\n",
       "      }\n",
       "    };\n",
       "    \n",
       "                 mpld3.draw_figure(\"fig_el483623853670305845896757797\", {\"width\": 504.0, \"height\": 432.0, \"axes\": [{\"bbox\": [0.125, 0.125, 0.775, 0.755], \"xlim\": [-0.8500000000000001, 17.85], \"ylim\": [0.2231743014281314, 2.2623710795006686], \"xdomain\": [-0.8500000000000001, 17.85], \"ydomain\": [0.2231743014281314, 2.2623710795006686], \"xscale\": \"linear\", \"yscale\": \"linear\", \"axes\": [{\"position\": \"bottom\", \"nticks\": 6, \"tickvalues\": [1, 4, 7, 10, 13, 16], \"tickformat\": [2, 5, 8, 11, 14, 17], \"scale\": \"linear\", \"fontsize\": 14.0, \"grid\": {\"gridOn\": false}, \"visible\": true}, {\"position\": \"left\", \"nticks\": 5, \"tickvalues\": [0.4, 0.8, 1.2000000000000002, 1.6, 2.0], \"tickformat\": null, \"scale\": \"linear\", \"fontsize\": 14.0, \"grid\": {\"gridOn\": false}, \"visible\": true}], \"axesbg\": \"none\", \"axesbgalpha\": null, \"zoomable\": true, \"id\": \"el48362385367031648\", \"lines\": [{\"data\": \"data01\", \"xindex\": 0, \"yindex\": 1, \"coordinates\": \"data\", \"id\": \"el48362385173462096\", \"color\": \"#058299\", \"linewidth\": 2.0, \"dasharray\": \"none\", \"alpha\": 1, \"zorder\": 2.1, \"drawstyle\": \"default\"}, {\"data\": \"data01\", \"xindex\": 0, \"yindex\": 2, \"coordinates\": \"data\", \"id\": \"el48362385392080320\", \"color\": \"#000000\", \"linewidth\": 1.5, \"dasharray\": \"none\", \"alpha\": 0.2, \"zorder\": 2, \"drawstyle\": \"default\"}, {\"data\": \"data01\", \"xindex\": 0, \"yindex\": 3, \"coordinates\": \"data\", \"id\": \"el48362385392080152\", \"color\": \"#000000\", \"linewidth\": 1.5, \"dasharray\": \"none\", \"alpha\": 0.2, \"zorder\": 2, \"drawstyle\": \"default\"}, {\"data\": \"data01\", \"xindex\": 0, \"yindex\": 4, \"coordinates\": \"data\", \"id\": \"el48362385392081160\", \"color\": \"#000000\", \"linewidth\": 1.5, \"dasharray\": \"none\", \"alpha\": 0.2, \"zorder\": 2, \"drawstyle\": \"default\"}, {\"data\": \"data01\", \"xindex\": 0, \"yindex\": 5, \"coordinates\": \"data\", \"id\": \"el48362385392081328\", \"color\": \"#000000\", \"linewidth\": 1.5, \"dasharray\": \"none\", \"alpha\": 0.2, \"zorder\": 2, \"drawstyle\": \"default\"}, {\"data\": \"data01\", \"xindex\": 0, \"yindex\": 6, \"coordinates\": \"data\", \"id\": \"el48362385392080656\", \"color\": \"#000000\", \"linewidth\": 1.5, \"dasharray\": \"none\", \"alpha\": 0.2, \"zorder\": 2, \"drawstyle\": \"default\"}, {\"data\": \"data01\", \"xindex\": 0, \"yindex\": 7, \"coordinates\": \"data\", \"id\": \"el48362385392082896\", \"color\": \"#000000\", \"linewidth\": 1.5, \"dasharray\": \"none\", \"alpha\": 0.2, \"zorder\": 2, \"drawstyle\": \"default\"}, {\"data\": \"data01\", \"xindex\": 0, \"yindex\": 8, \"coordinates\": \"data\", \"id\": \"el48362385392080432\", \"color\": \"#000000\", \"linewidth\": 1.5, \"dasharray\": \"none\", \"alpha\": 0.2, \"zorder\": 2, \"drawstyle\": \"default\"}, {\"data\": \"data01\", \"xindex\": 0, \"yindex\": 9, \"coordinates\": \"data\", \"id\": \"el48362385366633384\", \"color\": \"#000000\", \"linewidth\": 1.5, \"dasharray\": \"none\", \"alpha\": 0.2, \"zorder\": 2, \"drawstyle\": \"default\"}, {\"data\": \"data01\", \"xindex\": 0, \"yindex\": 10, \"coordinates\": \"data\", \"id\": \"el48362385366631760\", \"color\": \"#000000\", \"linewidth\": 1.5, \"dasharray\": \"none\", \"alpha\": 0.2, \"zorder\": 2, \"drawstyle\": \"default\"}, {\"data\": \"data01\", \"xindex\": 0, \"yindex\": 11, \"coordinates\": \"data\", \"id\": \"el48362385366634168\", \"color\": \"#000000\", \"linewidth\": 1.5, \"dasharray\": \"none\", \"alpha\": 0.2, \"zorder\": 2, \"drawstyle\": \"default\"}, {\"data\": \"data01\", \"xindex\": 0, \"yindex\": 12, \"coordinates\": \"data\", \"id\": \"el48362385366631984\", \"color\": \"#000000\", \"linewidth\": 1.5, \"dasharray\": \"none\", \"alpha\": 0.2, \"zorder\": 2, \"drawstyle\": \"default\"}, {\"data\": \"data01\", \"xindex\": 0, \"yindex\": 13, \"coordinates\": \"data\", \"id\": \"el48362385366633104\", \"color\": \"#000000\", \"linewidth\": 1.5, \"dasharray\": \"none\", \"alpha\": 0.2, \"zorder\": 2, \"drawstyle\": \"default\"}, {\"data\": \"data01\", \"xindex\": 0, \"yindex\": 14, \"coordinates\": \"data\", \"id\": \"el48362385366633664\", \"color\": \"#000000\", \"linewidth\": 1.5, \"dasharray\": \"none\", \"alpha\": 0.2, \"zorder\": 2, \"drawstyle\": \"default\"}, {\"data\": \"data01\", \"xindex\": 0, \"yindex\": 15, \"coordinates\": \"data\", \"id\": \"el48362385366632040\", \"color\": \"#000000\", \"linewidth\": 1.5, \"dasharray\": \"none\", \"alpha\": 0.2, \"zorder\": 2, \"drawstyle\": \"default\"}, {\"data\": \"data01\", \"xindex\": 0, \"yindex\": 16, \"coordinates\": \"data\", \"id\": \"el48362385174177328\", \"color\": \"#000000\", \"linewidth\": 1.5, \"dasharray\": \"none\", \"alpha\": 0.2, \"zorder\": 2, \"drawstyle\": \"default\"}, {\"data\": \"data01\", \"xindex\": 0, \"yindex\": 17, \"coordinates\": \"data\", \"id\": \"el48362385174179344\", \"color\": \"#000000\", \"linewidth\": 1.5, \"dasharray\": \"none\", \"alpha\": 0.2, \"zorder\": 2, \"drawstyle\": \"default\"}, {\"data\": \"data01\", \"xindex\": 0, \"yindex\": 18, \"coordinates\": \"data\", \"id\": \"el48362385174178952\", \"color\": \"#000000\", \"linewidth\": 1.5, \"dasharray\": \"none\", \"alpha\": 0.2, \"zorder\": 2, \"drawstyle\": \"default\"}, {\"data\": \"data01\", \"xindex\": 0, \"yindex\": 19, \"coordinates\": \"data\", \"id\": \"el48362385174176824\", \"color\": \"#000000\", \"linewidth\": 1.5, \"dasharray\": \"none\", \"alpha\": 0.2, \"zorder\": 2, \"drawstyle\": \"default\"}, {\"data\": \"data01\", \"xindex\": 0, \"yindex\": 20, \"coordinates\": \"data\", \"id\": \"el48362385174178168\", \"color\": \"#000000\", \"linewidth\": 1.5, \"dasharray\": \"none\", \"alpha\": 0.2, \"zorder\": 2, \"drawstyle\": \"default\"}, {\"data\": \"data01\", \"xindex\": 0, \"yindex\": 21, \"coordinates\": \"data\", \"id\": \"el48362385366598600\", \"color\": \"#000000\", \"linewidth\": 1.5, \"dasharray\": \"none\", \"alpha\": 0.2, \"zorder\": 2, \"drawstyle\": \"default\"}, {\"data\": \"data01\", \"xindex\": 0, \"yindex\": 22, \"coordinates\": \"data\", \"id\": \"el48362385366600672\", \"color\": \"#000000\", \"linewidth\": 1.5, \"dasharray\": \"none\", \"alpha\": 0.2, \"zorder\": 2, \"drawstyle\": \"default\"}, {\"data\": \"data01\", \"xindex\": 0, \"yindex\": 23, \"coordinates\": \"data\", \"id\": \"el48362385366599496\", \"color\": \"#000000\", \"linewidth\": 1.5, \"dasharray\": \"none\", \"alpha\": 0.2, \"zorder\": 2, \"drawstyle\": \"default\"}, {\"data\": \"data01\", \"xindex\": 0, \"yindex\": 24, \"coordinates\": \"data\", \"id\": \"el48362385366600952\", \"color\": \"#000000\", \"linewidth\": 1.5, \"dasharray\": \"none\", \"alpha\": 0.2, \"zorder\": 2, \"drawstyle\": \"default\"}, {\"data\": \"data01\", \"xindex\": 0, \"yindex\": 25, \"coordinates\": \"data\", \"id\": \"el48362385366601288\", \"color\": \"#000000\", \"linewidth\": 1.5, \"dasharray\": \"none\", \"alpha\": 0.2, \"zorder\": 2, \"drawstyle\": \"default\"}], \"paths\": [], \"markers\": [], \"texts\": [{\"text\": \"trial number\", \"position\": [0.5, -0.09504537650233014], \"coordinates\": \"axes\", \"h_anchor\": \"middle\", \"v_baseline\": \"hanging\", \"rotation\": -0.0, \"fontsize\": 18.0, \"color\": \"#333333\", \"alpha\": 1, \"zorder\": 3, \"id\": \"el48362385175084448\"}, {\"text\": \"Relative inter-bout time\", \"position\": [-0.09312596006144393, 0.5], \"coordinates\": \"axes\", \"h_anchor\": \"middle\", \"v_baseline\": \"auto\", \"rotation\": -90.0, \"fontsize\": 18.0, \"color\": \"#333333\", \"alpha\": 1, \"zorder\": 3, \"id\": \"el48362385132452720\"}], \"collections\": [{\"offsets\": \"data02\", \"xindex\": 0, \"yindex\": 1, \"paths\": [[[[0.0, 0.9911205697523999], [0.0, 1.0675869707657517]], [\"M\", \"L\"]], [[[1.0, 0.9711348638406062], [1.0, 1.029531404525795]], [\"M\", \"L\"]], [[[2.0, 0.9306852570208926], [2.0, 1.0099409340945538]], [\"M\", \"L\"]], [[[3.0, 1.068019783457625], [3.0, 1.2058896190115718]], [\"M\", \"L\"]], [[[4.0, 1.0343704872309052], [4.0, 1.1076210657824557]], [\"M\", \"L\"]], [[[5.0, 1.014202549086172], [5.0, 1.0878413696475928]], [\"M\", \"L\"]], [[[6.0, 0.7400249909104479], [6.0, 0.8229440847205092]], [\"M\", \"L\"]], [[[7.0, 0.7348136776926704], [7.0, 0.8022182308125023]], [\"M\", \"L\"]], [[[8.0, 0.7560475561120712], [8.0, 0.8563455258541552]], [\"M\", \"L\"]], [[[9.0, 1.0314558386362358], [9.0, 1.127443186912111]], [\"M\", \"L\"]], [[[10.0, 0.9526249182665325], [10.0, 1.013656826901633]], [\"M\", \"L\"]], [[[11.0, 0.9014281173607191], [11.0, 0.9684115735653799]], [\"M\", \"L\"]], [[[12.0, 0.6712518127658044], [12.0, 0.7690786426474941]], [\"M\", \"L\"]], [[[13.0, 0.6919954455149787], [13.0, 0.800875009945306]], [\"M\", \"L\"]], [[[14.0, 0.6693773490804809], [14.0, 0.7620888463127697]], [\"M\", \"L\"]], [[[15.0, 1.1263016787329008], [15.0, 1.2260515395043705]], [\"M\", \"L\"]], [[[16.0, 1.1300928921673232], [16.0, 1.250744339734611]], [\"M\", \"L\"]], [[[17.0, 1.04558075904785], [17.0, 1.1614476407604588]], [\"M\", \"L\"]]], \"pathtransforms\": [], \"alphas\": [null], \"edgecolors\": [\"#058299\"], \"facecolors\": [], \"edgewidths\": [2.0], \"offsetcoordinates\": \"display\", \"pathcoordinates\": \"data\", \"zorder\": 2, \"id\": \"el48362385174131824\"}], \"images\": [], \"sharex\": [], \"sharey\": []}], \"data\": {\"data01\": [[0.0, 1.0293537702590758, 0.8206927147171506, 0.9790536841287635, 1.1494251581592687, 1.2210352317762154, 0.860666321954009, 1.3131795669962572, 1.0283090917684832, 0.8906429137376486, 1.2580292372746185, 0.7247429389643057, 1.1459934416646997, 1.1235475222988678, 0.9053275506270654, 0.979541946483455, 0.9654926479267321, 1.1629061479901963, 1.012897800871361, 0.84041475160586, 0.8891883185075976, 0.9236101464172642, 0.911790677931937, 1.057503933464765, 1.5674118197563751, 0.9730869211949255], [1.0, 1.0003331341832007, 1.3611346814872625, 0.8114268747721863, 0.9027253165145765, 0.9856400194513185, 1.136479246930076, 1.0570948586746012, 0.9780171588130205, 1.2094294382233948, 0.9249681340328392, 0.7111380208823936, 0.8664799644655765, 0.9822300306892442, 1.1291873271430228, 1.0026082967129506, 1.10131453628123, 1.009256039759487, 0.9959407719143792, 1.215639623904599, 0.9351804547581021, 0.96174249106516, 0.9578987737556475, 1.0227533789005505, 0.8090090336326525, 0.9407007476325444], [2.0, 0.9703130955577232, 0.8181726037955869, 1.2095194410990497, 0.9478495253261546, 0.7933247487724656, 1.0028544311159142, 0.6297255743291416, 0.9936737494184962, 0.8999276480389562, 0.8170026286925423, 1.5641190401533005, 0.9875265938697237, 0.8942224470118878, 0.9654851222299117, 1.0178497568035942, 0.9331928157920378, 0.8278378122503165, 0.9911614272142596, 0.9439456244895407, 1.1756312267343, 1.1146473625175761, 1.1303105483124154, 0.9197426876346846, 0.6235791466109725, 1.0862123311725305], [3.0, 1.1369547012345984, 0.8092934517049741, 0.9551567557147315, 0.9017035090681573, 1.2499763727148954, 1.1698857150387747, 2.106397759909039, 1.1583546722295386, 1.1724732030534324, 1.0210565740788744, 0.7690474151069527, 0.9878243221761698, 0.9492639847029015, 1.15208601908279, 1.2062470114095516, 0.8158622782765509, 1.0877992401521868, 1.0182655207109765, 2.1298411992749084, 1.0334781504535224, 0.9967987106345565, 1.4336411730185945, 0.9732532385733442, 1.1515702184264858, 1.037636334118454], [4.0, 1.0709957765066804, 0.6916331944546019, 0.9128286937717405, 0.8741619950365758, 1.161788308985201, 1.0515476160042583, 1.3404512771971824, 1.3003190312424706, 1.1344310555153247, 1.2579870947828178, 0.7860371021926953, 1.1019407297916473, 0.9485230849839591, 1.2662465005102892, 1.2912882619651735, 1.016143181069044, 1.0027938891263193, 1.21297575214423, 1.2710410298072912, 1.0991746563490643, 0.8487241736143722, 1.1891648465374831, 1.0973446847503647, 0.9294347496113319, 0.9179177267168936], [5.0, 1.0510219593668824, 0.845892699225597, 0.7623183860907482, 0.8489687560611705, 1.4961679989012777, 1.413893333625247, 0.9871339150306688, 1.0461065358936192, 0.9787125413001295, 1.0331911768231938, 1.0102755658543614, 1.0162334440384533, 0.8424501182432019, 1.232667462134257, 1.173983742484099, 1.1830856378085446, 0.8947318936033668, 1.0861438928265925, 0.9781277174052755, 1.0321295200378215, 1.1808013000934043, 1.2927101140188744, 0.9859240749076996, 0.9532857042819963, 0.9495914941155856], [6.0, 0.7814845378154786, 0.6800092231074867, 1.0636707557898841, 0.8517364975818049, 0.6606993134200606, 0.7685250460312412, 0.5501025402524646, 0.9939935980519167, 0.673052618486893, 0.7011322220368585, 0.864769405200832, 0.9033523925453759, 0.6117607078657725, 0.7746347015476288, 0.9075398417816503, 0.9700345648423386, 0.3924438146296349, 0.7912553825350475, 0.5856730361748393, 0.680314074434173, 0.9947962993981317, 0.49409675544271553, 0.6627180007314405, 1.2994790777262106, 0.8798390379570828], [7.0, 0.7685159542525863, 0.5511840157537496, 0.7403164384505643, 0.8197930558917609, 0.5345889083607883, 0.5813834550300832, 0.8325347719004919, 0.8624727538465176, 0.7355737066191491, 0.844468108060603, 0.8445810213487711, 0.8074828603073927, 0.6164762108213527, 0.6964661058878652, 0.9994759049851137, 1.1047719129240996, 0.4782160257594792, 1.0294821608582407, 0.8034694804653466, 0.7074299782471978, 0.9323497029995936, 0.7200178488663552, 0.5637616090787985, NaN, 0.8695709113461682], [8.0, 0.8061965409831132, 0.8710149594470836, 0.8903679772767104, 0.7060458116873491, 0.5317386216644298, 0.55368238578587, 0.9343856095840468, 1.0320875702911843, 0.6258738211681841, 0.5222750852089711, 0.9475021556081055, 0.6763912531711597, 0.5503809105643683, 0.9024815228450063, 0.716244725994182, 1.277490238192384, 0.6212311861489958, 0.8203103823625849, 0.7210987953039703, 0.6598926643752461, 0.7538027350675666, NaN, 0.7743964082112419, 1.563693482469874, 0.8901321401830907], [9.0, 1.0794495127741734, 0.9560006444040877, 0.7237220865060392, 0.9990447446578969, 1.3122284265716506, 0.7976164518405229, 1.2997497248413636, 1.8209302548731714, 1.2793348791225114, 1.1537808870126747, 0.9416001765434435, 0.9304423815095599, 1.0093722779612173, 0.9760675462591722, 1.0696189975861963, 0.9962840828959532, 1.09497187860578, 0.966451648313667, 0.9033120943410099, 1.0034311849256086, 0.8244943563381344, 1.0991855312666399, 1.4783234697979395, 1.1620529139345155, 1.108771666471402], [10.0, 0.9831408725840828, 0.8341698478048009, 1.0199045861888383, 0.8796123143873064, 1.0553683200586352, 0.9761232515020267, 0.842568529540764, 1.183312004167991, 0.8492067588089595, 1.1666660007112681, 0.7892163536967849, 0.88669407442931, 0.9888293221828396, 0.8071429766398495, 1.1680732916973682, 0.9835270837074876, 1.0783897628942087, 1.049877243761131, 0.7363689996827018, 0.9369371418513306, 0.8591796080621802, 1.0299102940624156, 0.9631336561564572, 1.3187480634308302, 1.1924214565924984], [11.0, 0.9349198454630495, 0.6918738510217489, 0.9499927624894983, 0.8472234493438126, 1.168815238993255, 0.8684078286544293, 0.9155663413460793, 1.124751984038874, 0.8612879275640527, 1.1003168615918708, 0.6530817345360129, 0.8133512151688908, 0.7962080667063053, 1.3446763161155681, 1.0532190644036892, 1.0435015075715437, 0.8630985015590604, 1.079507751765624, 1.018711947746448, 0.8473919213281773, 0.8036168997532763, 0.9281188553957158, 0.9346070442289424, 0.708812170906991, 1.021937048883321], [12.0, 0.7201652277066493, 0.7988953025077468, 0.5902990229276355, 0.8347236780676955, 0.5661977826373163, 0.8397500775368014, 0.571935732235559, 0.3158650640677922, 0.6421906553388472, 0.6862794285703259, 0.500331969444362, 0.4405245670569878, 0.5951678994241805, 0.9947839834155341, 1.116171803264155, 1.3119052380416194, 0.4121867844794431, 0.9812746160427421, 0.7565135524145349, 0.6838410711502358, 0.8828695565697886, NaN, 0.5607915600891078, NaN, 0.7611356642638715], [13.0, 0.7464352277301424, 1.18368676630756, 0.4834788657110806, 0.7090216004186327, 0.5739417078671052, 0.8765851032877334, 0.40991532904594913, 0.33722555273780613, 0.7371030422125106, 0.5602628892343157, 0.636103382376939, 0.4780009754558432, 0.8651724368173845, 1.356526961577566, 0.7756753655720894, 1.187064475976361, 0.4071805456325332, 1.0286753619623303, 0.7453122750652926, 0.7754774895469162, 0.7666965844075135, NaN, 0.6818866898249333, NaN, 0.8465816090247369], [14.0, 0.7157330976966253, 0.7460342017323998, 0.5373783293601082, 0.819726869745585, 0.6185649777670236, 0.7437481742110278, 0.529191751313436, NaN, 0.5400908879490859, 0.6907357317384885, 0.45109206191208756, 0.6186199064693024, 0.6883182673727312, 0.4788043758269179, 1.3152626409892028, 1.167366234217281, 0.4041148788046816, 1.0247939829271229, 0.7765269277122279, 0.692978320858934, 0.6157764255802737, NaN, 0.7583243521343503, NaN, 0.8129457530068604], [15.0, 1.1761766091186356, 0.7746540751891885, 0.8061289159860814, 1.0472028511277147, 1.4081171143568012, 1.5938233718423755, 1.3734941641063894, 1.1755780642121016, 0.8127756642439808, 1.346809607339371, 1.5067025553423627, 0.9010386371060859, 1.2419440830172064, 1.205911812805719, 1.3334928979820346, 1.3114647740315566, 1.3829290612352578, 1.00488040475438, 1.2516952528105771, 0.8490105255093113, 0.8876793364063738, 1.2789577610327683, 1.4983789141930133, 1.1790712706116286, 1.056497503604976], [16.0, 1.190418615950967, 0.9125950187769443, 1.0731096406167608, 1.113254115591543, 1.300960935491016, 1.1726198968638977, 2.1696803168610077, 1.7474482298332512, 0.8783717853646383, 1.229187477773792, 1.3261582797364788, 0.8988911561773969, 0.8107903721033657, 1.1300647357598097, 1.277296136474227, 1.0835726905338334, 1.234285759284766, 1.1557196653147161, 1.3016432291281632, 1.0403123257966518, 0.8443497151585019, 1.182873722553369, 1.2791629565677887, 1.4218620705609748, 0.9858365505003135], [17.0, 1.1035141999041544, 0.7293862687736535, 1.1147946678673792, 0.7839439258004088, 1.004686920498179, 0.8792697413483841, 1.2234824732100047, 0.9071546940807546, 1.10220423361189, 1.197342176055973, 1.9150694765981084, 0.8458783089376545, 1.014782987384798, 1.292859018985166, 1.8503628669218184, 1.1381279213752613, 1.186558459137994, 1.1440227672325287, 1.095096247574381, 0.9486097919732451, 0.8372178279005127, 1.1040508430220644, 0.9311977966326983, 1.2358159428241744, 1.0024254399526724]], \"data02\": [[0.0, 0.0]]}, \"id\": \"el48362385367030584\", \"plugins\": [{\"type\": \"reset\"}, {\"type\": \"zoom\", \"button\": true, \"enabled\": false}, {\"type\": \"boxzoom\", \"button\": true, \"enabled\": false}, {\"type\": \"linehighlight\", \"line_ids\": [\"el48362385392080320\", \"el48362385392080152\", \"el48362385392081160\", \"el48362385392081328\", \"el48362385392080656\", \"el48362385392082896\", \"el48362385392080432\", \"el48362385366633384\", \"el48362385366631760\", \"el48362385366634168\", \"el48362385366631984\", \"el48362385366633104\", \"el48362385366633664\", \"el48362385366632040\", \"el48362385174177328\", \"el48362385174179344\", \"el48362385174178952\", \"el48362385174176824\", \"el48362385174178168\", \"el48362385366598600\", \"el48362385366600672\", \"el48362385366599496\", \"el48362385366600952\", \"el48362385366601288\"], \"alpha_bg\": 0.2, \"alpha_fg\": 1.0}]});\n",
       "            })\n",
       "         });\n",
       "}\n",
       "</script>"
      ],
      "text/plain": [
       "<IPython.core.display.HTML object>"
      ]
     },
     "execution_count": 47,
     "metadata": {},
     "output_type": "execute_result"
    }
   ],
   "source": [
    "fig = plt.figure(figsize=(7,6))\n",
    "k = 'inter_bout_t'\n",
    "stat = cum_stat(trial_stats, k)\n",
    "plt.errorbar(np.arange(stat.shape[0]), np.nanmean(stat, 1), np.nanstd(stat, 1)/np.sqrt(stat.shape[1]-1), linewidth = 2)\n",
    "plot = plt.plot(stat, linewidth = 1.5, c='k', alpha=0.2)\n",
    "# back_color()\n",
    "# plt.ylim(0.5,1.5)\n",
    "# plt.xlim((-0.5, 17.5))\n",
    "plt.xticks(np.arange(1, 17, 3), np.arange(2, 18, 3), fontsize=14)\n",
    "plt.yticks(np.arange(0.4, 2.2, 0.4), fontsize=14)\n",
    "plt.ylabel('Relative inter-bout time', fontsize=18)\n",
    "plt.xlabel('trial number', fontsize=18)\n",
    "\n",
    "labels = [\"fish {}\".format(i) for i in range(stat.shape[1])]\n",
    "tooltip = HighlightLines(plot)\n",
    "mpld3.plugins.connect(fig, tooltip)\n",
    "mpld3.save_html(fig, r\"C:\\Users\\lpetrucco\\code\\stytra\\docs\\figures\\portugues2011_replication.html\")\n",
    "mpld3.display()"
   ]
  },
  {
   "cell_type": "code",
   "execution_count": null,
   "metadata": {
    "collapsed": true
   },
   "outputs": [],
   "source": []
  }
 ],
 "metadata": {
  "kernelspec": {
   "display_name": "Python 3",
   "language": "python",
   "name": "python3"
  },
  "language_info": {
   "codemirror_mode": {
    "name": "ipython",
    "version": 3
   },
   "file_extension": ".py",
   "mimetype": "text/x-python",
   "name": "python",
   "nbconvert_exporter": "python",
   "pygments_lexer": "ipython3",
   "version": "3.6.3"
  }
 },
 "nbformat": 4,
 "nbformat_minor": 2
}
