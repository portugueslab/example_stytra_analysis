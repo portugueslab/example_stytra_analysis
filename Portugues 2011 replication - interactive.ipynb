{
 "cells": [
  {
   "cell_type": "code",
   "execution_count": 1,
   "metadata": {
    "collapsed": true
   },
   "outputs": [],
   "source": [
    "%load_ext autoreload"
   ]
  },
  {
   "cell_type": "code",
   "execution_count": 1,
   "metadata": {
    "collapsed": true
   },
   "outputs": [],
   "source": [
    "import matplotlib.pyplot as plt\n",
    "import numpy as np\n",
    "# %matplotlib inline\n",
    "import plotly.graph_objs as go\n",
    "\n",
    "import pandas as pd\n",
    "from pathlib import Path\n",
    "from utilities import *\n",
    "\n",
    "import seaborn as sns\n",
    "sns.set(style=\"ticks\", palette=\"deep\")\n",
    "cols = sns.color_palette()\n",
    "plt.style.use('v_arial')\n"
   ]
  },
  {
   "cell_type": "markdown",
   "metadata": {},
   "source": [
    "Master folder with Stytra example data:"
   ]
  },
  {
   "cell_type": "code",
   "execution_count": 2,
   "metadata": {
    "collapsed": true
   },
   "outputs": [],
   "source": [
    "sample_data_path = Path(\"J:\\_Shared\\stytra\\manuscript\\datasets\")"
   ]
  },
  {
   "cell_type": "markdown",
   "metadata": {},
   "source": [
    "# Load all experiments:"
   ]
  },
  {
   "cell_type": "markdown",
   "metadata": {},
   "source": [
    "Note that in these datasets tail angles have been removed for compression"
   ]
  },
  {
   "cell_type": "code",
   "execution_count": 3,
   "metadata": {
    "collapsed": true
   },
   "outputs": [],
   "source": [
    "master_path = Path(sample_data_path / \"replication_portugues2011\")\n",
    "paths = list(master_path.glob('*f*'))\n",
    "exps = [Experiment(path) for path in paths]"
   ]
  },
  {
   "cell_type": "code",
   "execution_count": 4,
   "metadata": {
    "collapsed": true
   },
   "outputs": [],
   "source": [
    "def get_exp_stats(exp):\n",
    "    tail_log_df = exp.behavior_log.set_index(\"t\")  # DataFrame with the tail trace\n",
    "    stim_log_df = exp.stimulus_param_log.set_index(\"t\")\n",
    "    \n",
    "    tail_dt = np.diff(tail_log_df.index).mean()  # time step size in tail trace df\n",
    "    \n",
    "    # Recalculate vigor from tail trace:\n",
    "    vigor = tail_log_df[\"tail_sum\"].rolling(int(0.05/tail_dt), center=True).std().as_matrix()\n",
    "    \n",
    "    # extract bouts\n",
    "    bouts_idxs, _ = extract_segments_above_thresh(vigor, 0.6, min_duration=int(0.1/tail_dt), \n",
    "                                             pad_before=5, pad_after=5, skip_nan=True)\n",
    "    # Calculate bouts start and end times:\n",
    "    bout_starts = np.array([tail_log_df[\"tail_sum\"].index[b[0]] for b in bouts_idxs])\n",
    "    bout_ends = np.array([tail_log_df[\"tail_sum\"].index[b[1]] for b in bouts_idxs])\n",
    "\n",
    "    \n",
    "    # Exclude trailing trial of gain 1:\n",
    "    trial_s = stim_log_df.index[np.ediff1d(stim_log_df[\"closed loop 1D_gain\"], to_begin=0) > 0][1:]\n",
    "    trial_e = stim_log_df.index[np.ediff1d(stim_log_df[\"closed loop 1D_gain\"], to_begin=0) < 0][1:]\n",
    "    trial_g = stim_log_df[\"closed loop 1D_gain\"][np.ediff1d(stim_log_df[\"closed loop 1D_gain\"], to_begin=0) > 0].as_matrix()[1:]                    \n",
    "    trial_df = pd.DataFrame(dict(start=trial_s, end=trial_e, gain=trial_g, inter_bout_t=np.nan, \n",
    "                                 trial_idx = [i for i in range(6) for _ in range(18)],\n",
    "                                 bout_n=np.nan, bout_duration=np.nan, first_bout_latency=np.nan), \n",
    "                            index=np.arange(len(trial_s)))\n",
    "    for i in range(len(trial_df)):\n",
    "        bout_idxs = np.argwhere((bout_starts > trial_df.loc[i, \"start\"]) \n",
    "                                & (bout_ends < trial_df.loc[i, \"end\"]))[:,0]\n",
    "        if len(bout_idxs) > 0:\n",
    "            trial_df.loc[i, \"bout_n\"] = len(bout_idxs)\n",
    "            trial_df.loc[i, \"first_bout_latency\"] = bout_starts[bout_idxs[0]] - trial_df.loc[i, \"start\"]\n",
    "            trial_df.loc[i, \"bout_duration\"] = (bout_ends[bout_idxs] - bout_starts[bout_idxs]).mean()\n",
    "\n",
    "            if len(bout_idxs) > 3:\n",
    "                trial_df.loc[i, \"inter_bout_t\"] = (bout_starts[bout_idxs[1:]] - bout_ends[bout_idxs[:-1]]).mean()\n",
    "                \n",
    "    return trial_df\n",
    "                \n",
    "def cum_stat(stat_list, key):\n",
    "    stat = np.array([np.nanmean(stat[key].as_matrix().reshape(6, 18), 0) for stat in stat_list]).T\n",
    "    stat = stat/np.nanmean(stat[:3,:], 0)\n",
    "    return stat"
   ]
  },
  {
   "cell_type": "code",
   "execution_count": 5,
   "metadata": {
    "collapsed": true
   },
   "outputs": [],
   "source": [
    "trial_stats = [get_exp_stats(exp) for exp in exps]"
   ]
  },
  {
   "cell_type": "markdown",
   "metadata": {},
   "source": [
    "# Make figure"
   ]
  },
  {
   "cell_type": "code",
   "execution_count": 6,
   "metadata": {
    "collapsed": true
   },
   "outputs": [],
   "source": [
    "def back_color():\n",
    "    plt.axvspan(-0.5, 2.5, color=(0.9,)*3)\n",
    "    plt.axvspan(8.5, 11.5, color=(0.9,)*3)\n",
    "    plt.axvspan(5.5, 8.5, color=(0.7,)*3)\n",
    "    plt.axvspan(11.5, 14.5, color=(0.7,)*3)"
   ]
  },
  {
   "cell_type": "code",
   "execution_count": 7,
   "metadata": {},
   "outputs": [
    {
     "name": "stderr",
     "output_type": "stream",
     "text": [
      "C:\\Users\\lpetrucco\\AppData\\Local\\Continuum\\anaconda3\\lib\\site-packages\\ipykernel_launcher.py:40: RuntimeWarning:\n",
      "\n",
      "Mean of empty slice\n",
      "\n"
     ]
    }
   ],
   "source": [
    "k = 'inter_bout_t'\n",
    "stat = cum_stat(trial_stats, k)\n",
    "labels = [\"fish {}\".format(i) for i in range(stat.shape[1])]"
   ]
  },
  {
   "cell_type": "code",
   "execution_count": 8,
   "metadata": {},
   "outputs": [
    {
     "data": {
      "text/html": [
       "<script type=\"text/javascript\">window.PlotlyConfig = {MathJaxConfig: 'local'};</script><script type=\"text/javascript\">if (window.MathJax) {MathJax.Hub.Config({SVG: {font: \"STIX-Web\"}});}</script><script>requirejs.config({paths: { 'plotly': ['https://cdn.plot.ly/plotly-latest.min']},});if(!window._Plotly) {require(['plotly'],function(plotly) {window._Plotly=plotly;});}</script>"
      ],
      "text/vnd.plotly.v1+html": [
       "<script type=\"text/javascript\">window.PlotlyConfig = {MathJaxConfig: 'local'};</script><script type=\"text/javascript\">if (window.MathJax) {MathJax.Hub.Config({SVG: {font: \"STIX-Web\"}});}</script><script>requirejs.config({paths: { 'plotly': ['https://cdn.plot.ly/plotly-latest.min']},});if(!window._Plotly) {require(['plotly'],function(plotly) {window._Plotly=plotly;});}</script>"
      ]
     },
     "metadata": {},
     "output_type": "display_data"
    }
   ],
   "source": [
    "import plotly.graph_objs as go\n",
    "from plotly import tools\n",
    "import plotly.plotly as py\n",
    "from plotly.graph_objs import Figure\n",
    "from plotly.offline import init_notebook_mode, plot, iplot\n",
    "init_notebook_mode(connected=True)"
   ]
  },
  {
   "cell_type": "code",
   "execution_count": 9,
   "metadata": {
    "collapsed": true
   },
   "outputs": [],
   "source": [
    "\n",
    "patches_x_cols = [(-1.5, 3.5, (229,)*3),\n",
    "                  (9.5, 12.5, (229,)*3),\n",
    "                  (6.5, 9.5, (178,)*3),\n",
    "                  (12.5, 15.5,(178,)*3)]\n",
    "shapes = []\n",
    "for p in patches_x_cols:\n",
    "    shapes.append(dict(x0=p[0], x1=p[1], fillcolor=\"rgb{}\".format(p[2]),\n",
    "                       xref=\"x\", y0=0, y1=1, yref=\"paper\", layer='below', line=dict(width=0)))\n",
    "    \n",
    "annotations = []\n",
    "for i, g in enumerate([1, 0.5, 1.5, 1, 1.5, 0.5]):\n",
    "    annotations.append(\n",
    "        dict(x=i*3+2,\n",
    "            y=0.95,\n",
    "            xref='x',\n",
    "            yref='paper',\n",
    "            showarrow=False,\n",
    "            text='gain {}'.format(g))\n",
    "    )"
   ]
  },
  {
   "cell_type": "code",
   "execution_count": 26,
   "metadata": {
    "collapsed": true
   },
   "outputs": [],
   "source": [
    "data=[go.Scatter(x=np.arange(stat.shape[0])+1, y=stat[:, i], \n",
    "                 mode=\"lines\", line=dict(color=\"rgb(100, 100, 100)\", width=0.5),\n",
    "                 hoverinfo='none'\n",
    "                ) for i in range(stat.shape[1])]\n",
    "\n",
    "data.append(go.Scatter(\n",
    "        x=np.arange(stat.shape[0])+1,\n",
    "        y= np.nanmean(stat, 1),\n",
    "        error_y=dict(\n",
    "            type='data',\n",
    "            array=np.nanstd(stat, 1)/np.sqrt(stat.shape[1]-1),\n",
    "            visible=True),\n",
    "        line=dict(color=\"rgb(76, 114, 176)\", width=2)))\n",
    "\n",
    "updatemenus = list([\n",
    "    dict(type=\"buttons\",\n",
    "         buttons=list([   \n",
    "            dict(label = 'nogrid',\n",
    "                 method = 'relayout',\n",
    "                 args = ['xaxis1', dict(showgrid=True)]),\n",
    "            dict(label = 'grid',\n",
    "                 method = 'relayout',\n",
    "                 args = ['xaxis1', dict(showgrid=True)])]))])\n",
    "\n",
    "\n",
    "layout = dict(autosize=True, \n",
    "              font=dict(family=\"Droid Sans, sans-serif\", \n",
    "                        size=14),\n",
    "              height=600,\n",
    "              width=800,\n",
    "              annotations=annotations,\n",
    "              shapes=shapes, \n",
    "              showlegend=False, \n",
    "              title=\"Inter-bout time with varying gains\", \n",
    "              xaxis=dict(autorange=False, \n",
    "                         range=[0.5, 19.5], \n",
    "                         type=\"linear\",\n",
    "                         title=\"Trial n.\",\n",
    "                         tick0=2,\n",
    "                         dtick=3,\n",
    "                         showline=False, \n",
    "                         zeroline=False,\n",
    "                         showgrid=False),\n",
    "             yaxis=dict(autorange=False, \n",
    "                        range=[0.5, 1.5],\n",
    "                        type=\"linear\",\n",
    "                        title=\"Relative inter-bout time\",\n",
    "                        showline=False, \n",
    "                        zeroline=False,\n",
    "                        showgrid=False),\n",
    "              paper_bgcolor='rgba(0,0,0,0)',\n",
    "              plot_bgcolor='rgba(0,0,0,0)')"
   ]
  },
  {
   "cell_type": "code",
   "execution_count": 27,
   "metadata": {},
   "outputs": [
    {
     "data": {
      "application/vnd.plotly.v1+json": {
       "config": {
        "linkText": "Export to plot.ly",
        "plotlyServerURL": "https://plot.ly",
        "showLink": false
       },
       "data": [
        {
         "hoverinfo": "none",
         "line": {
          "color": "rgb(100, 100, 100)",
          "width": 0.5
         },
         "mode": "lines",
         "type": "scatter",
         "uid": "fdd98e81-0d07-41ea-8b06-3c2db5f82de9",
         "x": [
          1,
          2,
          3,
          4,
          5,
          6,
          7,
          8,
          9,
          10,
          11,
          12,
          13,
          14,
          15,
          16,
          17,
          18
         ],
         "y": [
          0.8206927147171506,
          1.3611346814872625,
          0.8181726037955869,
          0.8092934517049741,
          0.6916331944546019,
          0.845892699225597,
          0.6800092231074867,
          0.5511840157537496,
          0.8710149594470836,
          0.9560006444040877,
          0.8341698478048009,
          0.6918738510217489,
          0.7988953025077468,
          1.18368676630756,
          0.7460342017323998,
          0.7746540751891885,
          0.9125950187769443,
          0.7293862687736535
         ]
        },
        {
         "hoverinfo": "none",
         "line": {
          "color": "rgb(100, 100, 100)",
          "width": 0.5
         },
         "mode": "lines",
         "type": "scatter",
         "uid": "91d21a3b-78f5-484f-b18d-97e373ca09a6",
         "x": [
          1,
          2,
          3,
          4,
          5,
          6,
          7,
          8,
          9,
          10,
          11,
          12,
          13,
          14,
          15,
          16,
          17,
          18
         ],
         "y": [
          0.9790536841287635,
          0.8114268747721863,
          1.2095194410990497,
          0.9551567557147315,
          0.9128286937717405,
          0.7623183860907482,
          1.0636707557898841,
          0.7403164384505643,
          0.8903679772767104,
          0.7237220865060392,
          1.0199045861888383,
          0.9499927624894983,
          0.5902990229276355,
          0.4834788657110806,
          0.5373783293601082,
          0.8061289159860814,
          1.0731096406167608,
          1.1147946678673792
         ]
        },
        {
         "hoverinfo": "none",
         "line": {
          "color": "rgb(100, 100, 100)",
          "width": 0.5
         },
         "mode": "lines",
         "type": "scatter",
         "uid": "c6e03355-6e5e-4800-aa30-c4aa780508c5",
         "x": [
          1,
          2,
          3,
          4,
          5,
          6,
          7,
          8,
          9,
          10,
          11,
          12,
          13,
          14,
          15,
          16,
          17,
          18
         ],
         "y": [
          1.1494251581592687,
          0.9027253165145765,
          0.9478495253261546,
          0.9017035090681573,
          0.8741619950365758,
          0.8489687560611705,
          0.8517364975818049,
          0.8197930558917609,
          0.7060458116873491,
          0.9990447446578969,
          0.8796123143873064,
          0.8472234493438126,
          0.8347236780676955,
          0.7090216004186327,
          0.819726869745585,
          1.0472028511277147,
          1.113254115591543,
          0.7839439258004088
         ]
        },
        {
         "hoverinfo": "none",
         "line": {
          "color": "rgb(100, 100, 100)",
          "width": 0.5
         },
         "mode": "lines",
         "type": "scatter",
         "uid": "b8390fed-7030-42e9-964a-4c16f4768855",
         "x": [
          1,
          2,
          3,
          4,
          5,
          6,
          7,
          8,
          9,
          10,
          11,
          12,
          13,
          14,
          15,
          16,
          17,
          18
         ],
         "y": [
          1.2210352317762154,
          0.9856400194513185,
          0.7933247487724656,
          1.2499763727148954,
          1.161788308985201,
          1.4961679989012777,
          0.6606993134200606,
          0.5345889083607883,
          0.5317386216644298,
          1.3122284265716506,
          1.0553683200586352,
          1.168815238993255,
          0.5661977826373163,
          0.5739417078671052,
          0.6185649777670236,
          1.4081171143568012,
          1.300960935491016,
          1.004686920498179
         ]
        },
        {
         "hoverinfo": "none",
         "line": {
          "color": "rgb(100, 100, 100)",
          "width": 0.5
         },
         "mode": "lines",
         "type": "scatter",
         "uid": "1baff671-f4c7-4812-bac1-4e8610c850d7",
         "x": [
          1,
          2,
          3,
          4,
          5,
          6,
          7,
          8,
          9,
          10,
          11,
          12,
          13,
          14,
          15,
          16,
          17,
          18
         ],
         "y": [
          0.860666321954009,
          1.136479246930076,
          1.0028544311159142,
          1.1698857150387747,
          1.0515476160042583,
          1.413893333625247,
          0.7685250460312412,
          0.5813834550300832,
          0.55368238578587,
          0.7976164518405229,
          0.9761232515020267,
          0.8684078286544293,
          0.8397500775368014,
          0.8765851032877334,
          0.7437481742110278,
          1.5938233718423755,
          1.1726198968638977,
          0.8792697413483841
         ]
        },
        {
         "hoverinfo": "none",
         "line": {
          "color": "rgb(100, 100, 100)",
          "width": 0.5
         },
         "mode": "lines",
         "type": "scatter",
         "uid": "3392af91-5d68-423e-9d65-21fc7d8b0a61",
         "x": [
          1,
          2,
          3,
          4,
          5,
          6,
          7,
          8,
          9,
          10,
          11,
          12,
          13,
          14,
          15,
          16,
          17,
          18
         ],
         "y": [
          1.3131795669962572,
          1.0570948586746012,
          0.6297255743291416,
          2.106397759909039,
          1.3404512771971824,
          0.9871339150306688,
          0.5501025402524646,
          0.8325347719004919,
          0.9343856095840468,
          1.2997497248413636,
          0.842568529540764,
          0.9155663413460793,
          0.571935732235559,
          0.40991532904594913,
          0.529191751313436,
          1.3734941641063894,
          2.1696803168610077,
          1.2234824732100047
         ]
        },
        {
         "hoverinfo": "none",
         "line": {
          "color": "rgb(100, 100, 100)",
          "width": 0.5
         },
         "mode": "lines",
         "type": "scatter",
         "uid": "a18e79e9-e8e3-411e-98e8-faba6e0b6708",
         "x": [
          1,
          2,
          3,
          4,
          5,
          6,
          7,
          8,
          9,
          10,
          11,
          12,
          13,
          14,
          15,
          16,
          17,
          18
         ],
         "y": [
          1.0283090917684832,
          0.9780171588130205,
          0.9936737494184962,
          1.1583546722295386,
          1.3003190312424706,
          1.0461065358936192,
          0.9939935980519167,
          0.8624727538465176,
          1.0320875702911843,
          1.8209302548731714,
          1.183312004167991,
          1.124751984038874,
          0.3158650640677922,
          0.33722555273780613,
          null,
          1.1755780642121016,
          1.7474482298332512,
          0.9071546940807546
         ]
        },
        {
         "hoverinfo": "none",
         "line": {
          "color": "rgb(100, 100, 100)",
          "width": 0.5
         },
         "mode": "lines",
         "type": "scatter",
         "uid": "99f0fa36-905d-4b30-83bc-48624a66fbd6",
         "x": [
          1,
          2,
          3,
          4,
          5,
          6,
          7,
          8,
          9,
          10,
          11,
          12,
          13,
          14,
          15,
          16,
          17,
          18
         ],
         "y": [
          0.8906429137376486,
          1.2094294382233948,
          0.8999276480389562,
          1.1724732030534324,
          1.1344310555153247,
          0.9787125413001295,
          0.673052618486893,
          0.7355737066191491,
          0.6258738211681841,
          1.2793348791225114,
          0.8492067588089595,
          0.8612879275640527,
          0.6421906553388472,
          0.7371030422125106,
          0.5400908879490859,
          0.8127756642439808,
          0.8783717853646383,
          1.10220423361189
         ]
        },
        {
         "hoverinfo": "none",
         "line": {
          "color": "rgb(100, 100, 100)",
          "width": 0.5
         },
         "mode": "lines",
         "type": "scatter",
         "uid": "3d0742ca-727f-46fb-825c-ca5d42b23aa0",
         "x": [
          1,
          2,
          3,
          4,
          5,
          6,
          7,
          8,
          9,
          10,
          11,
          12,
          13,
          14,
          15,
          16,
          17,
          18
         ],
         "y": [
          1.2580292372746185,
          0.9249681340328392,
          0.8170026286925423,
          1.0210565740788744,
          1.2579870947828178,
          1.0331911768231938,
          0.7011322220368585,
          0.844468108060603,
          0.5222750852089711,
          1.1537808870126747,
          1.1666660007112681,
          1.1003168615918708,
          0.6862794285703259,
          0.5602628892343157,
          0.6907357317384885,
          1.346809607339371,
          1.229187477773792,
          1.197342176055973
         ]
        },
        {
         "hoverinfo": "none",
         "line": {
          "color": "rgb(100, 100, 100)",
          "width": 0.5
         },
         "mode": "lines",
         "type": "scatter",
         "uid": "7662c2c3-da5e-4725-9994-28eea9908a5a",
         "x": [
          1,
          2,
          3,
          4,
          5,
          6,
          7,
          8,
          9,
          10,
          11,
          12,
          13,
          14,
          15,
          16,
          17,
          18
         ],
         "y": [
          0.7247429389643057,
          0.7111380208823936,
          1.5641190401533005,
          0.7690474151069527,
          0.7860371021926953,
          1.0102755658543614,
          0.864769405200832,
          0.8445810213487711,
          0.9475021556081055,
          0.9416001765434435,
          0.7892163536967849,
          0.6530817345360129,
          0.500331969444362,
          0.636103382376939,
          0.45109206191208756,
          1.5067025553423627,
          1.3261582797364788,
          1.9150694765981084
         ]
        },
        {
         "hoverinfo": "none",
         "line": {
          "color": "rgb(100, 100, 100)",
          "width": 0.5
         },
         "mode": "lines",
         "type": "scatter",
         "uid": "7db17386-b151-4c3d-9e92-acf0fd56f593",
         "x": [
          1,
          2,
          3,
          4,
          5,
          6,
          7,
          8,
          9,
          10,
          11,
          12,
          13,
          14,
          15,
          16,
          17,
          18
         ],
         "y": [
          1.1459934416646997,
          0.8664799644655765,
          0.9875265938697237,
          0.9878243221761698,
          1.1019407297916473,
          1.0162334440384533,
          0.9033523925453759,
          0.8074828603073927,
          0.6763912531711597,
          0.9304423815095599,
          0.88669407442931,
          0.8133512151688908,
          0.4405245670569878,
          0.4780009754558432,
          0.6186199064693024,
          0.9010386371060859,
          0.8988911561773969,
          0.8458783089376545
         ]
        },
        {
         "hoverinfo": "none",
         "line": {
          "color": "rgb(100, 100, 100)",
          "width": 0.5
         },
         "mode": "lines",
         "type": "scatter",
         "uid": "0b375332-0009-4bcc-8d2e-0c58a41f1b19",
         "x": [
          1,
          2,
          3,
          4,
          5,
          6,
          7,
          8,
          9,
          10,
          11,
          12,
          13,
          14,
          15,
          16,
          17,
          18
         ],
         "y": [
          1.1235475222988678,
          0.9822300306892442,
          0.8942224470118878,
          0.9492639847029015,
          0.9485230849839591,
          0.8424501182432019,
          0.6117607078657725,
          0.6164762108213527,
          0.5503809105643683,
          1.0093722779612173,
          0.9888293221828396,
          0.7962080667063053,
          0.5951678994241805,
          0.8651724368173845,
          0.6883182673727312,
          1.2419440830172064,
          0.8107903721033657,
          1.014782987384798
         ]
        },
        {
         "hoverinfo": "none",
         "line": {
          "color": "rgb(100, 100, 100)",
          "width": 0.5
         },
         "mode": "lines",
         "type": "scatter",
         "uid": "55b3f23b-091a-4236-a0b0-9b613f35270e",
         "x": [
          1,
          2,
          3,
          4,
          5,
          6,
          7,
          8,
          9,
          10,
          11,
          12,
          13,
          14,
          15,
          16,
          17,
          18
         ],
         "y": [
          0.9053275506270654,
          1.1291873271430228,
          0.9654851222299117,
          1.15208601908279,
          1.2662465005102892,
          1.232667462134257,
          0.7746347015476288,
          0.6964661058878652,
          0.9024815228450063,
          0.9760675462591722,
          0.8071429766398495,
          1.3446763161155681,
          0.9947839834155341,
          1.356526961577566,
          0.4788043758269179,
          1.205911812805719,
          1.1300647357598097,
          1.292859018985166
         ]
        },
        {
         "hoverinfo": "none",
         "line": {
          "color": "rgb(100, 100, 100)",
          "width": 0.5
         },
         "mode": "lines",
         "type": "scatter",
         "uid": "447c48d5-e93f-4c85-964c-1f9984a5d36b",
         "x": [
          1,
          2,
          3,
          4,
          5,
          6,
          7,
          8,
          9,
          10,
          11,
          12,
          13,
          14,
          15,
          16,
          17,
          18
         ],
         "y": [
          0.979541946483455,
          1.0026082967129506,
          1.0178497568035942,
          1.2062470114095516,
          1.2912882619651735,
          1.173983742484099,
          0.9075398417816503,
          0.9994759049851137,
          0.716244725994182,
          1.0696189975861963,
          1.1680732916973682,
          1.0532190644036892,
          1.116171803264155,
          0.7756753655720894,
          1.3152626409892028,
          1.3334928979820346,
          1.277296136474227,
          1.8503628669218184
         ]
        },
        {
         "hoverinfo": "none",
         "line": {
          "color": "rgb(100, 100, 100)",
          "width": 0.5
         },
         "mode": "lines",
         "type": "scatter",
         "uid": "1935d645-e9bb-48a8-81e5-185a8b4c59e4",
         "x": [
          1,
          2,
          3,
          4,
          5,
          6,
          7,
          8,
          9,
          10,
          11,
          12,
          13,
          14,
          15,
          16,
          17,
          18
         ],
         "y": [
          0.9654926479267321,
          1.10131453628123,
          0.9331928157920378,
          0.8158622782765509,
          1.016143181069044,
          1.1830856378085446,
          0.9700345648423386,
          1.1047719129240996,
          1.277490238192384,
          0.9962840828959532,
          0.9835270837074876,
          1.0435015075715437,
          1.3119052380416194,
          1.187064475976361,
          1.167366234217281,
          1.3114647740315566,
          1.0835726905338334,
          1.1381279213752613
         ]
        },
        {
         "hoverinfo": "none",
         "line": {
          "color": "rgb(100, 100, 100)",
          "width": 0.5
         },
         "mode": "lines",
         "type": "scatter",
         "uid": "0174fd65-ae19-4690-acea-9b313a242a7d",
         "x": [
          1,
          2,
          3,
          4,
          5,
          6,
          7,
          8,
          9,
          10,
          11,
          12,
          13,
          14,
          15,
          16,
          17,
          18
         ],
         "y": [
          1.1629061479901963,
          1.009256039759487,
          0.8278378122503165,
          1.0877992401521868,
          1.0027938891263193,
          0.8947318936033668,
          0.3924438146296349,
          0.4782160257594792,
          0.6212311861489958,
          1.09497187860578,
          1.0783897628942087,
          0.8630985015590604,
          0.4121867844794431,
          0.4071805456325332,
          0.4041148788046816,
          1.3829290612352578,
          1.234285759284766,
          1.186558459137994
         ]
        },
        {
         "hoverinfo": "none",
         "line": {
          "color": "rgb(100, 100, 100)",
          "width": 0.5
         },
         "mode": "lines",
         "type": "scatter",
         "uid": "80cfe12a-7e04-41be-bb0d-4456d758cc42",
         "x": [
          1,
          2,
          3,
          4,
          5,
          6,
          7,
          8,
          9,
          10,
          11,
          12,
          13,
          14,
          15,
          16,
          17,
          18
         ],
         "y": [
          1.012897800871361,
          0.9959407719143792,
          0.9911614272142596,
          1.0182655207109765,
          1.21297575214423,
          1.0861438928265925,
          0.7912553825350475,
          1.0294821608582407,
          0.8203103823625849,
          0.966451648313667,
          1.049877243761131,
          1.079507751765624,
          0.9812746160427421,
          1.0286753619623303,
          1.0247939829271229,
          1.00488040475438,
          1.1557196653147161,
          1.1440227672325287
         ]
        },
        {
         "hoverinfo": "none",
         "line": {
          "color": "rgb(100, 100, 100)",
          "width": 0.5
         },
         "mode": "lines",
         "type": "scatter",
         "uid": "9915231a-6e34-4afa-81cd-6e31453ad2d9",
         "x": [
          1,
          2,
          3,
          4,
          5,
          6,
          7,
          8,
          9,
          10,
          11,
          12,
          13,
          14,
          15,
          16,
          17,
          18
         ],
         "y": [
          0.84041475160586,
          1.215639623904599,
          0.9439456244895407,
          2.1298411992749084,
          1.2710410298072912,
          0.9781277174052755,
          0.5856730361748393,
          0.8034694804653466,
          0.7210987953039703,
          0.9033120943410099,
          0.7363689996827018,
          1.018711947746448,
          0.7565135524145349,
          0.7453122750652926,
          0.7765269277122279,
          1.2516952528105771,
          1.3016432291281632,
          1.095096247574381
         ]
        },
        {
         "hoverinfo": "none",
         "line": {
          "color": "rgb(100, 100, 100)",
          "width": 0.5
         },
         "mode": "lines",
         "type": "scatter",
         "uid": "14f01067-363c-47ae-ad8d-82c7634fed58",
         "x": [
          1,
          2,
          3,
          4,
          5,
          6,
          7,
          8,
          9,
          10,
          11,
          12,
          13,
          14,
          15,
          16,
          17,
          18
         ],
         "y": [
          0.8891883185075976,
          0.9351804547581021,
          1.1756312267343,
          1.0334781504535224,
          1.0991746563490643,
          1.0321295200378215,
          0.680314074434173,
          0.7074299782471978,
          0.6598926643752461,
          1.0034311849256086,
          0.9369371418513306,
          0.8473919213281773,
          0.6838410711502358,
          0.7754774895469162,
          0.692978320858934,
          0.8490105255093113,
          1.0403123257966518,
          0.9486097919732451
         ]
        },
        {
         "hoverinfo": "none",
         "line": {
          "color": "rgb(100, 100, 100)",
          "width": 0.5
         },
         "mode": "lines",
         "type": "scatter",
         "uid": "dee5c835-7350-444d-a8f5-1535114c3996",
         "x": [
          1,
          2,
          3,
          4,
          5,
          6,
          7,
          8,
          9,
          10,
          11,
          12,
          13,
          14,
          15,
          16,
          17,
          18
         ],
         "y": [
          0.9236101464172642,
          0.96174249106516,
          1.1146473625175761,
          0.9967987106345565,
          0.8487241736143722,
          1.1808013000934043,
          0.9947962993981317,
          0.9323497029995936,
          0.7538027350675666,
          0.8244943563381344,
          0.8591796080621802,
          0.8036168997532763,
          0.8828695565697886,
          0.7666965844075135,
          0.6157764255802737,
          0.8876793364063738,
          0.8443497151585019,
          0.8372178279005127
         ]
        },
        {
         "hoverinfo": "none",
         "line": {
          "color": "rgb(100, 100, 100)",
          "width": 0.5
         },
         "mode": "lines",
         "type": "scatter",
         "uid": "fe38c6ce-43aa-49ef-8baa-48bbcef1e1c6",
         "x": [
          1,
          2,
          3,
          4,
          5,
          6,
          7,
          8,
          9,
          10,
          11,
          12,
          13,
          14,
          15,
          16,
          17,
          18
         ],
         "y": [
          0.911790677931937,
          0.9578987737556475,
          1.1303105483124154,
          1.4336411730185945,
          1.1891648465374831,
          1.2927101140188744,
          0.49409675544271553,
          0.7200178488663552,
          null,
          1.0991855312666399,
          1.0299102940624156,
          0.9281188553957158,
          null,
          null,
          null,
          1.2789577610327683,
          1.182873722553369,
          1.1040508430220644
         ]
        },
        {
         "hoverinfo": "none",
         "line": {
          "color": "rgb(100, 100, 100)",
          "width": 0.5
         },
         "mode": "lines",
         "type": "scatter",
         "uid": "edfbcb7d-1701-4664-b420-e6a44c482beb",
         "x": [
          1,
          2,
          3,
          4,
          5,
          6,
          7,
          8,
          9,
          10,
          11,
          12,
          13,
          14,
          15,
          16,
          17,
          18
         ],
         "y": [
          1.057503933464765,
          1.0227533789005505,
          0.9197426876346846,
          0.9732532385733442,
          1.0973446847503647,
          0.9859240749076996,
          0.6627180007314405,
          0.5637616090787985,
          0.7743964082112419,
          1.4783234697979395,
          0.9631336561564572,
          0.9346070442289424,
          0.5607915600891078,
          0.6818866898249333,
          0.7583243521343503,
          1.4983789141930133,
          1.2791629565677887,
          0.9311977966326983
         ]
        },
        {
         "hoverinfo": "none",
         "line": {
          "color": "rgb(100, 100, 100)",
          "width": 0.5
         },
         "mode": "lines",
         "type": "scatter",
         "uid": "0653d3d8-32ce-4782-83b2-01bb0c94cdfc",
         "x": [
          1,
          2,
          3,
          4,
          5,
          6,
          7,
          8,
          9,
          10,
          11,
          12,
          13,
          14,
          15,
          16,
          17,
          18
         ],
         "y": [
          1.5674118197563751,
          0.8090090336326525,
          0.6235791466109725,
          1.1515702184264858,
          0.9294347496113319,
          0.9532857042819963,
          1.2994790777262106,
          null,
          1.563693482469874,
          1.1620529139345155,
          1.3187480634308302,
          0.708812170906991,
          null,
          null,
          null,
          1.1790712706116286,
          1.4218620705609748,
          1.2358159428241744
         ]
        },
        {
         "hoverinfo": "none",
         "line": {
          "color": "rgb(100, 100, 100)",
          "width": 0.5
         },
         "mode": "lines",
         "type": "scatter",
         "uid": "730b20ed-11ba-4132-8d7e-63676b9714e7",
         "x": [
          1,
          2,
          3,
          4,
          5,
          6,
          7,
          8,
          9,
          10,
          11,
          12,
          13,
          14,
          15,
          16,
          17,
          18
         ],
         "y": [
          0.9730869211949255,
          0.9407007476325444,
          1.0862123311725305,
          1.037636334118454,
          0.9179177267168936,
          0.9495914941155856,
          0.8798390379570828,
          0.8695709113461682,
          0.8901321401830907,
          1.108771666471402,
          1.1924214565924984,
          1.021937048883321,
          0.7611356642638715,
          0.8465816090247369,
          0.8129457530068604,
          1.056497503604976,
          0.9858365505003135,
          1.0024254399526724
         ]
        },
        {
         "error_y": {
          "array": [
           0.03823320050667592,
           0.029198270342594458,
           0.03962783853683055,
           0.0689349177769734,
           0.03662528927577521,
           0.03681941028071049,
           0.04145954690503067,
           0.033702276559916,
           0.050148984871042065,
           0.047993674137937536,
           0.030515954317550237,
           0.03349172810233041,
           0.048913414940844925,
           0.05443978221516364,
           0.046355748616144464,
           0.04987493038573498,
           0.06032572378364378,
           0.05793344085630439
          ],
          "type": "data",
          "visible": true
         },
         "line": {
          "color": "rgb(76, 114, 176)",
          "width": 2
         },
         "type": "scatter",
         "uid": "bfba4604-18ab-4d33-a78d-63d3af863ee7",
         "x": [
          1,
          2,
          3,
          4,
          5,
          6,
          7,
          8,
          9,
          10,
          11,
          12,
          13,
          14,
          15,
          16,
          17,
          18
         ],
         "y": [
          1.0293537702590758,
          1.0003331341832007,
          0.9703130955577232,
          1.1369547012345984,
          1.0709957765066804,
          1.0510219593668824,
          0.7814845378154786,
          0.7685159542525863,
          0.8061965409831132,
          1.0794495127741734,
          0.9831408725840828,
          0.9349198454630495,
          0.7201652277066493,
          0.7464352277301424,
          0.7157330976966253,
          1.1761766091186356,
          1.190418615950967,
          1.1035141999041544
         ]
        }
       ],
       "layout": {
        "annotations": [
         {
          "showarrow": false,
          "text": "gain 1",
          "x": 2,
          "xref": "x",
          "y": 0.95,
          "yref": "paper"
         },
         {
          "showarrow": false,
          "text": "gain 0.5",
          "x": 5,
          "xref": "x",
          "y": 0.95,
          "yref": "paper"
         },
         {
          "showarrow": false,
          "text": "gain 1.5",
          "x": 8,
          "xref": "x",
          "y": 0.95,
          "yref": "paper"
         },
         {
          "showarrow": false,
          "text": "gain 1",
          "x": 11,
          "xref": "x",
          "y": 0.95,
          "yref": "paper"
         },
         {
          "showarrow": false,
          "text": "gain 1.5",
          "x": 14,
          "xref": "x",
          "y": 0.95,
          "yref": "paper"
         },
         {
          "showarrow": false,
          "text": "gain 0.5",
          "x": 17,
          "xref": "x",
          "y": 0.95,
          "yref": "paper"
         }
        ],
        "autosize": true,
        "font": {
         "family": "Droid Sans, sans-serif",
         "size": 14
        },
        "height": 600,
        "paper_bgcolor": "rgba(0,0,0,0)",
        "plot_bgcolor": "rgba(0,0,0,0)",
        "shapes": [
         {
          "fillcolor": "rgb(229, 229, 229)",
          "layer": "below",
          "line": {
           "width": 0
          },
          "x0": -1.5,
          "x1": 3.5,
          "xref": "x",
          "y0": 0,
          "y1": 1,
          "yref": "paper"
         },
         {
          "fillcolor": "rgb(229, 229, 229)",
          "layer": "below",
          "line": {
           "width": 0
          },
          "x0": 9.5,
          "x1": 12.5,
          "xref": "x",
          "y0": 0,
          "y1": 1,
          "yref": "paper"
         },
         {
          "fillcolor": "rgb(178, 178, 178)",
          "layer": "below",
          "line": {
           "width": 0
          },
          "x0": 6.5,
          "x1": 9.5,
          "xref": "x",
          "y0": 0,
          "y1": 1,
          "yref": "paper"
         },
         {
          "fillcolor": "rgb(178, 178, 178)",
          "layer": "below",
          "line": {
           "width": 0
          },
          "x0": 12.5,
          "x1": 15.5,
          "xref": "x",
          "y0": 0,
          "y1": 1,
          "yref": "paper"
         }
        ],
        "showlegend": false,
        "title": {
         "text": "Inter-bout time with varying gains"
        },
        "width": 800,
        "xaxis": {
         "autorange": false,
         "dtick": 3,
         "range": [
          0.5,
          19.5
         ],
         "showgrid": false,
         "showline": false,
         "tick0": 2,
         "title": {
          "text": "Trial n."
         },
         "type": "linear",
         "zeroline": false
        },
        "yaxis": {
         "autorange": false,
         "range": [
          0.5,
          1.5
         ],
         "showgrid": false,
         "showline": false,
         "title": {
          "text": "Relative inter-bout time"
         },
         "type": "linear",
         "zeroline": false
        }
       }
      },
      "text/html": [
       "<div id=\"a9a44bcb-9dd0-4f2b-9885-7076a32706b4\" style=\"height: 600px; width: 800px;\" class=\"plotly-graph-div\"></div><script type=\"text/javascript\">require([\"plotly\"], function(Plotly) { window.PLOTLYENV=window.PLOTLYENV || {};window.PLOTLYENV.BASE_URL=\"https://plot.ly\";\n",
       "if (document.getElementById(\"a9a44bcb-9dd0-4f2b-9885-7076a32706b4\")) {\n",
       "    Plotly.newPlot(\"a9a44bcb-9dd0-4f2b-9885-7076a32706b4\", [{\"hoverinfo\": \"none\", \"line\": {\"color\": \"rgb(100, 100, 100)\", \"width\": 0.5}, \"mode\": \"lines\", \"x\": [1, 2, 3, 4, 5, 6, 7, 8, 9, 10, 11, 12, 13, 14, 15, 16, 17, 18], \"y\": [0.8206927147171506, 1.3611346814872625, 0.8181726037955869, 0.8092934517049741, 0.6916331944546019, 0.845892699225597, 0.6800092231074867, 0.5511840157537496, 0.8710149594470836, 0.9560006444040877, 0.8341698478048009, 0.6918738510217489, 0.7988953025077468, 1.18368676630756, 0.7460342017323998, 0.7746540751891885, 0.9125950187769443, 0.7293862687736535], \"type\": \"scatter\", \"uid\": \"fdd98e81-0d07-41ea-8b06-3c2db5f82de9\"}, {\"hoverinfo\": \"none\", \"line\": {\"color\": \"rgb(100, 100, 100)\", \"width\": 0.5}, \"mode\": \"lines\", \"x\": [1, 2, 3, 4, 5, 6, 7, 8, 9, 10, 11, 12, 13, 14, 15, 16, 17, 18], \"y\": [0.9790536841287635, 0.8114268747721863, 1.2095194410990497, 0.9551567557147315, 0.9128286937717405, 0.7623183860907482, 1.0636707557898841, 0.7403164384505643, 0.8903679772767104, 0.7237220865060392, 1.0199045861888383, 0.9499927624894983, 0.5902990229276355, 0.4834788657110806, 0.5373783293601082, 0.8061289159860814, 1.0731096406167608, 1.1147946678673792], \"type\": \"scatter\", \"uid\": \"91d21a3b-78f5-484f-b18d-97e373ca09a6\"}, {\"hoverinfo\": \"none\", \"line\": {\"color\": \"rgb(100, 100, 100)\", \"width\": 0.5}, \"mode\": \"lines\", \"x\": [1, 2, 3, 4, 5, 6, 7, 8, 9, 10, 11, 12, 13, 14, 15, 16, 17, 18], \"y\": [1.1494251581592687, 0.9027253165145765, 0.9478495253261546, 0.9017035090681573, 0.8741619950365758, 0.8489687560611705, 0.8517364975818049, 0.8197930558917609, 0.7060458116873491, 0.9990447446578969, 0.8796123143873064, 0.8472234493438126, 0.8347236780676955, 0.7090216004186327, 0.819726869745585, 1.0472028511277147, 1.113254115591543, 0.7839439258004088], \"type\": \"scatter\", \"uid\": \"c6e03355-6e5e-4800-aa30-c4aa780508c5\"}, {\"hoverinfo\": \"none\", \"line\": {\"color\": \"rgb(100, 100, 100)\", \"width\": 0.5}, \"mode\": \"lines\", \"x\": [1, 2, 3, 4, 5, 6, 7, 8, 9, 10, 11, 12, 13, 14, 15, 16, 17, 18], \"y\": [1.2210352317762154, 0.9856400194513185, 0.7933247487724656, 1.2499763727148954, 1.161788308985201, 1.4961679989012777, 0.6606993134200606, 0.5345889083607883, 0.5317386216644298, 1.3122284265716506, 1.0553683200586352, 1.168815238993255, 0.5661977826373163, 0.5739417078671052, 0.6185649777670236, 1.4081171143568012, 1.300960935491016, 1.004686920498179], \"type\": \"scatter\", \"uid\": \"b8390fed-7030-42e9-964a-4c16f4768855\"}, {\"hoverinfo\": \"none\", \"line\": {\"color\": \"rgb(100, 100, 100)\", \"width\": 0.5}, \"mode\": \"lines\", \"x\": [1, 2, 3, 4, 5, 6, 7, 8, 9, 10, 11, 12, 13, 14, 15, 16, 17, 18], \"y\": [0.860666321954009, 1.136479246930076, 1.0028544311159142, 1.1698857150387747, 1.0515476160042583, 1.413893333625247, 0.7685250460312412, 0.5813834550300832, 0.55368238578587, 0.7976164518405229, 0.9761232515020267, 0.8684078286544293, 0.8397500775368014, 0.8765851032877334, 0.7437481742110278, 1.5938233718423755, 1.1726198968638977, 0.8792697413483841], \"type\": \"scatter\", \"uid\": \"1baff671-f4c7-4812-bac1-4e8610c850d7\"}, {\"hoverinfo\": \"none\", \"line\": {\"color\": \"rgb(100, 100, 100)\", \"width\": 0.5}, \"mode\": \"lines\", \"x\": [1, 2, 3, 4, 5, 6, 7, 8, 9, 10, 11, 12, 13, 14, 15, 16, 17, 18], \"y\": [1.3131795669962572, 1.0570948586746012, 0.6297255743291416, 2.106397759909039, 1.3404512771971824, 0.9871339150306688, 0.5501025402524646, 0.8325347719004919, 0.9343856095840468, 1.2997497248413636, 0.842568529540764, 0.9155663413460793, 0.571935732235559, 0.40991532904594913, 0.529191751313436, 1.3734941641063894, 2.1696803168610077, 1.2234824732100047], \"type\": \"scatter\", \"uid\": \"3392af91-5d68-423e-9d65-21fc7d8b0a61\"}, {\"hoverinfo\": \"none\", \"line\": {\"color\": \"rgb(100, 100, 100)\", \"width\": 0.5}, \"mode\": \"lines\", \"x\": [1, 2, 3, 4, 5, 6, 7, 8, 9, 10, 11, 12, 13, 14, 15, 16, 17, 18], \"y\": [1.0283090917684832, 0.9780171588130205, 0.9936737494184962, 1.1583546722295386, 1.3003190312424706, 1.0461065358936192, 0.9939935980519167, 0.8624727538465176, 1.0320875702911843, 1.8209302548731714, 1.183312004167991, 1.124751984038874, 0.3158650640677922, 0.33722555273780613, null, 1.1755780642121016, 1.7474482298332512, 0.9071546940807546], \"type\": \"scatter\", \"uid\": \"a18e79e9-e8e3-411e-98e8-faba6e0b6708\"}, {\"hoverinfo\": \"none\", \"line\": {\"color\": \"rgb(100, 100, 100)\", \"width\": 0.5}, \"mode\": \"lines\", \"x\": [1, 2, 3, 4, 5, 6, 7, 8, 9, 10, 11, 12, 13, 14, 15, 16, 17, 18], \"y\": [0.8906429137376486, 1.2094294382233948, 0.8999276480389562, 1.1724732030534324, 1.1344310555153247, 0.9787125413001295, 0.673052618486893, 0.7355737066191491, 0.6258738211681841, 1.2793348791225114, 0.8492067588089595, 0.8612879275640527, 0.6421906553388472, 0.7371030422125106, 0.5400908879490859, 0.8127756642439808, 0.8783717853646383, 1.10220423361189], \"type\": \"scatter\", \"uid\": \"99f0fa36-905d-4b30-83bc-48624a66fbd6\"}, {\"hoverinfo\": \"none\", \"line\": {\"color\": \"rgb(100, 100, 100)\", \"width\": 0.5}, \"mode\": \"lines\", \"x\": [1, 2, 3, 4, 5, 6, 7, 8, 9, 10, 11, 12, 13, 14, 15, 16, 17, 18], \"y\": [1.2580292372746185, 0.9249681340328392, 0.8170026286925423, 1.0210565740788744, 1.2579870947828178, 1.0331911768231938, 0.7011322220368585, 0.844468108060603, 0.5222750852089711, 1.1537808870126747, 1.1666660007112681, 1.1003168615918708, 0.6862794285703259, 0.5602628892343157, 0.6907357317384885, 1.346809607339371, 1.229187477773792, 1.197342176055973], \"type\": \"scatter\", \"uid\": \"3d0742ca-727f-46fb-825c-ca5d42b23aa0\"}, {\"hoverinfo\": \"none\", \"line\": {\"color\": \"rgb(100, 100, 100)\", \"width\": 0.5}, \"mode\": \"lines\", \"x\": [1, 2, 3, 4, 5, 6, 7, 8, 9, 10, 11, 12, 13, 14, 15, 16, 17, 18], \"y\": [0.7247429389643057, 0.7111380208823936, 1.5641190401533005, 0.7690474151069527, 0.7860371021926953, 1.0102755658543614, 0.864769405200832, 0.8445810213487711, 0.9475021556081055, 0.9416001765434435, 0.7892163536967849, 0.6530817345360129, 0.500331969444362, 0.636103382376939, 0.45109206191208756, 1.5067025553423627, 1.3261582797364788, 1.9150694765981084], \"type\": \"scatter\", \"uid\": \"7662c2c3-da5e-4725-9994-28eea9908a5a\"}, {\"hoverinfo\": \"none\", \"line\": {\"color\": \"rgb(100, 100, 100)\", \"width\": 0.5}, \"mode\": \"lines\", \"x\": [1, 2, 3, 4, 5, 6, 7, 8, 9, 10, 11, 12, 13, 14, 15, 16, 17, 18], \"y\": [1.1459934416646997, 0.8664799644655765, 0.9875265938697237, 0.9878243221761698, 1.1019407297916473, 1.0162334440384533, 0.9033523925453759, 0.8074828603073927, 0.6763912531711597, 0.9304423815095599, 0.88669407442931, 0.8133512151688908, 0.4405245670569878, 0.4780009754558432, 0.6186199064693024, 0.9010386371060859, 0.8988911561773969, 0.8458783089376545], \"type\": \"scatter\", \"uid\": \"7db17386-b151-4c3d-9e92-acf0fd56f593\"}, {\"hoverinfo\": \"none\", \"line\": {\"color\": \"rgb(100, 100, 100)\", \"width\": 0.5}, \"mode\": \"lines\", \"x\": [1, 2, 3, 4, 5, 6, 7, 8, 9, 10, 11, 12, 13, 14, 15, 16, 17, 18], \"y\": [1.1235475222988678, 0.9822300306892442, 0.8942224470118878, 0.9492639847029015, 0.9485230849839591, 0.8424501182432019, 0.6117607078657725, 0.6164762108213527, 0.5503809105643683, 1.0093722779612173, 0.9888293221828396, 0.7962080667063053, 0.5951678994241805, 0.8651724368173845, 0.6883182673727312, 1.2419440830172064, 0.8107903721033657, 1.014782987384798], \"type\": \"scatter\", \"uid\": \"0b375332-0009-4bcc-8d2e-0c58a41f1b19\"}, {\"hoverinfo\": \"none\", \"line\": {\"color\": \"rgb(100, 100, 100)\", \"width\": 0.5}, \"mode\": \"lines\", \"x\": [1, 2, 3, 4, 5, 6, 7, 8, 9, 10, 11, 12, 13, 14, 15, 16, 17, 18], \"y\": [0.9053275506270654, 1.1291873271430228, 0.9654851222299117, 1.15208601908279, 1.2662465005102892, 1.232667462134257, 0.7746347015476288, 0.6964661058878652, 0.9024815228450063, 0.9760675462591722, 0.8071429766398495, 1.3446763161155681, 0.9947839834155341, 1.356526961577566, 0.4788043758269179, 1.205911812805719, 1.1300647357598097, 1.292859018985166], \"type\": \"scatter\", \"uid\": \"55b3f23b-091a-4236-a0b0-9b613f35270e\"}, {\"hoverinfo\": \"none\", \"line\": {\"color\": \"rgb(100, 100, 100)\", \"width\": 0.5}, \"mode\": \"lines\", \"x\": [1, 2, 3, 4, 5, 6, 7, 8, 9, 10, 11, 12, 13, 14, 15, 16, 17, 18], \"y\": [0.979541946483455, 1.0026082967129506, 1.0178497568035942, 1.2062470114095516, 1.2912882619651735, 1.173983742484099, 0.9075398417816503, 0.9994759049851137, 0.716244725994182, 1.0696189975861963, 1.1680732916973682, 1.0532190644036892, 1.116171803264155, 0.7756753655720894, 1.3152626409892028, 1.3334928979820346, 1.277296136474227, 1.8503628669218184], \"type\": \"scatter\", \"uid\": \"447c48d5-e93f-4c85-964c-1f9984a5d36b\"}, {\"hoverinfo\": \"none\", \"line\": {\"color\": \"rgb(100, 100, 100)\", \"width\": 0.5}, \"mode\": \"lines\", \"x\": [1, 2, 3, 4, 5, 6, 7, 8, 9, 10, 11, 12, 13, 14, 15, 16, 17, 18], \"y\": [0.9654926479267321, 1.10131453628123, 0.9331928157920378, 0.8158622782765509, 1.016143181069044, 1.1830856378085446, 0.9700345648423386, 1.1047719129240996, 1.277490238192384, 0.9962840828959532, 0.9835270837074876, 1.0435015075715437, 1.3119052380416194, 1.187064475976361, 1.167366234217281, 1.3114647740315566, 1.0835726905338334, 1.1381279213752613], \"type\": \"scatter\", \"uid\": \"1935d645-e9bb-48a8-81e5-185a8b4c59e4\"}, {\"hoverinfo\": \"none\", \"line\": {\"color\": \"rgb(100, 100, 100)\", \"width\": 0.5}, \"mode\": \"lines\", \"x\": [1, 2, 3, 4, 5, 6, 7, 8, 9, 10, 11, 12, 13, 14, 15, 16, 17, 18], \"y\": [1.1629061479901963, 1.009256039759487, 0.8278378122503165, 1.0877992401521868, 1.0027938891263193, 0.8947318936033668, 0.3924438146296349, 0.4782160257594792, 0.6212311861489958, 1.09497187860578, 1.0783897628942087, 0.8630985015590604, 0.4121867844794431, 0.4071805456325332, 0.4041148788046816, 1.3829290612352578, 1.234285759284766, 1.186558459137994], \"type\": \"scatter\", \"uid\": \"0174fd65-ae19-4690-acea-9b313a242a7d\"}, {\"hoverinfo\": \"none\", \"line\": {\"color\": \"rgb(100, 100, 100)\", \"width\": 0.5}, \"mode\": \"lines\", \"x\": [1, 2, 3, 4, 5, 6, 7, 8, 9, 10, 11, 12, 13, 14, 15, 16, 17, 18], \"y\": [1.012897800871361, 0.9959407719143792, 0.9911614272142596, 1.0182655207109765, 1.21297575214423, 1.0861438928265925, 0.7912553825350475, 1.0294821608582407, 0.8203103823625849, 0.966451648313667, 1.049877243761131, 1.079507751765624, 0.9812746160427421, 1.0286753619623303, 1.0247939829271229, 1.00488040475438, 1.1557196653147161, 1.1440227672325287], \"type\": \"scatter\", \"uid\": \"80cfe12a-7e04-41be-bb0d-4456d758cc42\"}, {\"hoverinfo\": \"none\", \"line\": {\"color\": \"rgb(100, 100, 100)\", \"width\": 0.5}, \"mode\": \"lines\", \"x\": [1, 2, 3, 4, 5, 6, 7, 8, 9, 10, 11, 12, 13, 14, 15, 16, 17, 18], \"y\": [0.84041475160586, 1.215639623904599, 0.9439456244895407, 2.1298411992749084, 1.2710410298072912, 0.9781277174052755, 0.5856730361748393, 0.8034694804653466, 0.7210987953039703, 0.9033120943410099, 0.7363689996827018, 1.018711947746448, 0.7565135524145349, 0.7453122750652926, 0.7765269277122279, 1.2516952528105771, 1.3016432291281632, 1.095096247574381], \"type\": \"scatter\", \"uid\": \"9915231a-6e34-4afa-81cd-6e31453ad2d9\"}, {\"hoverinfo\": \"none\", \"line\": {\"color\": \"rgb(100, 100, 100)\", \"width\": 0.5}, \"mode\": \"lines\", \"x\": [1, 2, 3, 4, 5, 6, 7, 8, 9, 10, 11, 12, 13, 14, 15, 16, 17, 18], \"y\": [0.8891883185075976, 0.9351804547581021, 1.1756312267343, 1.0334781504535224, 1.0991746563490643, 1.0321295200378215, 0.680314074434173, 0.7074299782471978, 0.6598926643752461, 1.0034311849256086, 0.9369371418513306, 0.8473919213281773, 0.6838410711502358, 0.7754774895469162, 0.692978320858934, 0.8490105255093113, 1.0403123257966518, 0.9486097919732451], \"type\": \"scatter\", \"uid\": \"14f01067-363c-47ae-ad8d-82c7634fed58\"}, {\"hoverinfo\": \"none\", \"line\": {\"color\": \"rgb(100, 100, 100)\", \"width\": 0.5}, \"mode\": \"lines\", \"x\": [1, 2, 3, 4, 5, 6, 7, 8, 9, 10, 11, 12, 13, 14, 15, 16, 17, 18], \"y\": [0.9236101464172642, 0.96174249106516, 1.1146473625175761, 0.9967987106345565, 0.8487241736143722, 1.1808013000934043, 0.9947962993981317, 0.9323497029995936, 0.7538027350675666, 0.8244943563381344, 0.8591796080621802, 0.8036168997532763, 0.8828695565697886, 0.7666965844075135, 0.6157764255802737, 0.8876793364063738, 0.8443497151585019, 0.8372178279005127], \"type\": \"scatter\", \"uid\": \"dee5c835-7350-444d-a8f5-1535114c3996\"}, {\"hoverinfo\": \"none\", \"line\": {\"color\": \"rgb(100, 100, 100)\", \"width\": 0.5}, \"mode\": \"lines\", \"x\": [1, 2, 3, 4, 5, 6, 7, 8, 9, 10, 11, 12, 13, 14, 15, 16, 17, 18], \"y\": [0.911790677931937, 0.9578987737556475, 1.1303105483124154, 1.4336411730185945, 1.1891648465374831, 1.2927101140188744, 0.49409675544271553, 0.7200178488663552, null, 1.0991855312666399, 1.0299102940624156, 0.9281188553957158, null, null, null, 1.2789577610327683, 1.182873722553369, 1.1040508430220644], \"type\": \"scatter\", \"uid\": \"fe38c6ce-43aa-49ef-8baa-48bbcef1e1c6\"}, {\"hoverinfo\": \"none\", \"line\": {\"color\": \"rgb(100, 100, 100)\", \"width\": 0.5}, \"mode\": \"lines\", \"x\": [1, 2, 3, 4, 5, 6, 7, 8, 9, 10, 11, 12, 13, 14, 15, 16, 17, 18], \"y\": [1.057503933464765, 1.0227533789005505, 0.9197426876346846, 0.9732532385733442, 1.0973446847503647, 0.9859240749076996, 0.6627180007314405, 0.5637616090787985, 0.7743964082112419, 1.4783234697979395, 0.9631336561564572, 0.9346070442289424, 0.5607915600891078, 0.6818866898249333, 0.7583243521343503, 1.4983789141930133, 1.2791629565677887, 0.9311977966326983], \"type\": \"scatter\", \"uid\": \"edfbcb7d-1701-4664-b420-e6a44c482beb\"}, {\"hoverinfo\": \"none\", \"line\": {\"color\": \"rgb(100, 100, 100)\", \"width\": 0.5}, \"mode\": \"lines\", \"x\": [1, 2, 3, 4, 5, 6, 7, 8, 9, 10, 11, 12, 13, 14, 15, 16, 17, 18], \"y\": [1.5674118197563751, 0.8090090336326525, 0.6235791466109725, 1.1515702184264858, 0.9294347496113319, 0.9532857042819963, 1.2994790777262106, null, 1.563693482469874, 1.1620529139345155, 1.3187480634308302, 0.708812170906991, null, null, null, 1.1790712706116286, 1.4218620705609748, 1.2358159428241744], \"type\": \"scatter\", \"uid\": \"0653d3d8-32ce-4782-83b2-01bb0c94cdfc\"}, {\"hoverinfo\": \"none\", \"line\": {\"color\": \"rgb(100, 100, 100)\", \"width\": 0.5}, \"mode\": \"lines\", \"x\": [1, 2, 3, 4, 5, 6, 7, 8, 9, 10, 11, 12, 13, 14, 15, 16, 17, 18], \"y\": [0.9730869211949255, 0.9407007476325444, 1.0862123311725305, 1.037636334118454, 0.9179177267168936, 0.9495914941155856, 0.8798390379570828, 0.8695709113461682, 0.8901321401830907, 1.108771666471402, 1.1924214565924984, 1.021937048883321, 0.7611356642638715, 0.8465816090247369, 0.8129457530068604, 1.056497503604976, 0.9858365505003135, 1.0024254399526724], \"type\": \"scatter\", \"uid\": \"730b20ed-11ba-4132-8d7e-63676b9714e7\"}, {\"error_y\": {\"array\": [0.03823320050667592, 0.029198270342594458, 0.03962783853683055, 0.0689349177769734, 0.03662528927577521, 0.03681941028071049, 0.04145954690503067, 0.033702276559916, 0.050148984871042065, 0.047993674137937536, 0.030515954317550237, 0.03349172810233041, 0.048913414940844925, 0.05443978221516364, 0.046355748616144464, 0.04987493038573498, 0.06032572378364378, 0.05793344085630439], \"type\": \"data\", \"visible\": true}, \"line\": {\"color\": \"rgb(76, 114, 176)\", \"width\": 2}, \"x\": [1, 2, 3, 4, 5, 6, 7, 8, 9, 10, 11, 12, 13, 14, 15, 16, 17, 18], \"y\": [1.0293537702590758, 1.0003331341832007, 0.9703130955577232, 1.1369547012345984, 1.0709957765066804, 1.0510219593668824, 0.7814845378154786, 0.7685159542525863, 0.8061965409831132, 1.0794495127741734, 0.9831408725840828, 0.9349198454630495, 0.7201652277066493, 0.7464352277301424, 0.7157330976966253, 1.1761766091186356, 1.190418615950967, 1.1035141999041544], \"type\": \"scatter\", \"uid\": \"bfba4604-18ab-4d33-a78d-63d3af863ee7\"}], {\"annotations\": [{\"showarrow\": false, \"text\": \"gain 1\", \"x\": 2, \"xref\": \"x\", \"y\": 0.95, \"yref\": \"paper\"}, {\"showarrow\": false, \"text\": \"gain 0.5\", \"x\": 5, \"xref\": \"x\", \"y\": 0.95, \"yref\": \"paper\"}, {\"showarrow\": false, \"text\": \"gain 1.5\", \"x\": 8, \"xref\": \"x\", \"y\": 0.95, \"yref\": \"paper\"}, {\"showarrow\": false, \"text\": \"gain 1\", \"x\": 11, \"xref\": \"x\", \"y\": 0.95, \"yref\": \"paper\"}, {\"showarrow\": false, \"text\": \"gain 1.5\", \"x\": 14, \"xref\": \"x\", \"y\": 0.95, \"yref\": \"paper\"}, {\"showarrow\": false, \"text\": \"gain 0.5\", \"x\": 17, \"xref\": \"x\", \"y\": 0.95, \"yref\": \"paper\"}], \"autosize\": true, \"font\": {\"family\": \"Droid Sans, sans-serif\", \"size\": 14}, \"height\": 600, \"paper_bgcolor\": \"rgba(0,0,0,0)\", \"plot_bgcolor\": \"rgba(0,0,0,0)\", \"shapes\": [{\"fillcolor\": \"rgb(229, 229, 229)\", \"layer\": \"below\", \"line\": {\"width\": 0}, \"x0\": -1.5, \"x1\": 3.5, \"xref\": \"x\", \"y0\": 0, \"y1\": 1, \"yref\": \"paper\"}, {\"fillcolor\": \"rgb(229, 229, 229)\", \"layer\": \"below\", \"line\": {\"width\": 0}, \"x0\": 9.5, \"x1\": 12.5, \"xref\": \"x\", \"y0\": 0, \"y1\": 1, \"yref\": \"paper\"}, {\"fillcolor\": \"rgb(178, 178, 178)\", \"layer\": \"below\", \"line\": {\"width\": 0}, \"x0\": 6.5, \"x1\": 9.5, \"xref\": \"x\", \"y0\": 0, \"y1\": 1, \"yref\": \"paper\"}, {\"fillcolor\": \"rgb(178, 178, 178)\", \"layer\": \"below\", \"line\": {\"width\": 0}, \"x0\": 12.5, \"x1\": 15.5, \"xref\": \"x\", \"y0\": 0, \"y1\": 1, \"yref\": \"paper\"}], \"showlegend\": false, \"title\": {\"text\": \"Inter-bout time with varying gains\"}, \"width\": 800, \"xaxis\": {\"autorange\": false, \"dtick\": 3, \"range\": [0.5, 19.5], \"showgrid\": false, \"showline\": false, \"tick0\": 2, \"title\": {\"text\": \"Trial n.\"}, \"type\": \"linear\", \"zeroline\": false}, \"yaxis\": {\"autorange\": false, \"range\": [0.5, 1.5], \"showgrid\": false, \"showline\": false, \"title\": {\"text\": \"Relative inter-bout time\"}, \"type\": \"linear\", \"zeroline\": false}}, {\"showLink\": false, \"linkText\": \"Export to plot.ly\", \"plotlyServerURL\": \"https://plot.ly\"}); \n",
       "}\n",
       "});</script>"
      ],
      "text/vnd.plotly.v1+html": [
       "<div id=\"a9a44bcb-9dd0-4f2b-9885-7076a32706b4\" style=\"height: 600px; width: 800px;\" class=\"plotly-graph-div\"></div><script type=\"text/javascript\">require([\"plotly\"], function(Plotly) { window.PLOTLYENV=window.PLOTLYENV || {};window.PLOTLYENV.BASE_URL=\"https://plot.ly\";\n",
       "if (document.getElementById(\"a9a44bcb-9dd0-4f2b-9885-7076a32706b4\")) {\n",
       "    Plotly.newPlot(\"a9a44bcb-9dd0-4f2b-9885-7076a32706b4\", [{\"hoverinfo\": \"none\", \"line\": {\"color\": \"rgb(100, 100, 100)\", \"width\": 0.5}, \"mode\": \"lines\", \"x\": [1, 2, 3, 4, 5, 6, 7, 8, 9, 10, 11, 12, 13, 14, 15, 16, 17, 18], \"y\": [0.8206927147171506, 1.3611346814872625, 0.8181726037955869, 0.8092934517049741, 0.6916331944546019, 0.845892699225597, 0.6800092231074867, 0.5511840157537496, 0.8710149594470836, 0.9560006444040877, 0.8341698478048009, 0.6918738510217489, 0.7988953025077468, 1.18368676630756, 0.7460342017323998, 0.7746540751891885, 0.9125950187769443, 0.7293862687736535], \"type\": \"scatter\", \"uid\": \"fdd98e81-0d07-41ea-8b06-3c2db5f82de9\"}, {\"hoverinfo\": \"none\", \"line\": {\"color\": \"rgb(100, 100, 100)\", \"width\": 0.5}, \"mode\": \"lines\", \"x\": [1, 2, 3, 4, 5, 6, 7, 8, 9, 10, 11, 12, 13, 14, 15, 16, 17, 18], \"y\": [0.9790536841287635, 0.8114268747721863, 1.2095194410990497, 0.9551567557147315, 0.9128286937717405, 0.7623183860907482, 1.0636707557898841, 0.7403164384505643, 0.8903679772767104, 0.7237220865060392, 1.0199045861888383, 0.9499927624894983, 0.5902990229276355, 0.4834788657110806, 0.5373783293601082, 0.8061289159860814, 1.0731096406167608, 1.1147946678673792], \"type\": \"scatter\", \"uid\": \"91d21a3b-78f5-484f-b18d-97e373ca09a6\"}, {\"hoverinfo\": \"none\", \"line\": {\"color\": \"rgb(100, 100, 100)\", \"width\": 0.5}, \"mode\": \"lines\", \"x\": [1, 2, 3, 4, 5, 6, 7, 8, 9, 10, 11, 12, 13, 14, 15, 16, 17, 18], \"y\": [1.1494251581592687, 0.9027253165145765, 0.9478495253261546, 0.9017035090681573, 0.8741619950365758, 0.8489687560611705, 0.8517364975818049, 0.8197930558917609, 0.7060458116873491, 0.9990447446578969, 0.8796123143873064, 0.8472234493438126, 0.8347236780676955, 0.7090216004186327, 0.819726869745585, 1.0472028511277147, 1.113254115591543, 0.7839439258004088], \"type\": \"scatter\", \"uid\": \"c6e03355-6e5e-4800-aa30-c4aa780508c5\"}, {\"hoverinfo\": \"none\", \"line\": {\"color\": \"rgb(100, 100, 100)\", \"width\": 0.5}, \"mode\": \"lines\", \"x\": [1, 2, 3, 4, 5, 6, 7, 8, 9, 10, 11, 12, 13, 14, 15, 16, 17, 18], \"y\": [1.2210352317762154, 0.9856400194513185, 0.7933247487724656, 1.2499763727148954, 1.161788308985201, 1.4961679989012777, 0.6606993134200606, 0.5345889083607883, 0.5317386216644298, 1.3122284265716506, 1.0553683200586352, 1.168815238993255, 0.5661977826373163, 0.5739417078671052, 0.6185649777670236, 1.4081171143568012, 1.300960935491016, 1.004686920498179], \"type\": \"scatter\", \"uid\": \"b8390fed-7030-42e9-964a-4c16f4768855\"}, {\"hoverinfo\": \"none\", \"line\": {\"color\": \"rgb(100, 100, 100)\", \"width\": 0.5}, \"mode\": \"lines\", \"x\": [1, 2, 3, 4, 5, 6, 7, 8, 9, 10, 11, 12, 13, 14, 15, 16, 17, 18], \"y\": [0.860666321954009, 1.136479246930076, 1.0028544311159142, 1.1698857150387747, 1.0515476160042583, 1.413893333625247, 0.7685250460312412, 0.5813834550300832, 0.55368238578587, 0.7976164518405229, 0.9761232515020267, 0.8684078286544293, 0.8397500775368014, 0.8765851032877334, 0.7437481742110278, 1.5938233718423755, 1.1726198968638977, 0.8792697413483841], \"type\": \"scatter\", \"uid\": \"1baff671-f4c7-4812-bac1-4e8610c850d7\"}, {\"hoverinfo\": \"none\", \"line\": {\"color\": \"rgb(100, 100, 100)\", \"width\": 0.5}, \"mode\": \"lines\", \"x\": [1, 2, 3, 4, 5, 6, 7, 8, 9, 10, 11, 12, 13, 14, 15, 16, 17, 18], \"y\": [1.3131795669962572, 1.0570948586746012, 0.6297255743291416, 2.106397759909039, 1.3404512771971824, 0.9871339150306688, 0.5501025402524646, 0.8325347719004919, 0.9343856095840468, 1.2997497248413636, 0.842568529540764, 0.9155663413460793, 0.571935732235559, 0.40991532904594913, 0.529191751313436, 1.3734941641063894, 2.1696803168610077, 1.2234824732100047], \"type\": \"scatter\", \"uid\": \"3392af91-5d68-423e-9d65-21fc7d8b0a61\"}, {\"hoverinfo\": \"none\", \"line\": {\"color\": \"rgb(100, 100, 100)\", \"width\": 0.5}, \"mode\": \"lines\", \"x\": [1, 2, 3, 4, 5, 6, 7, 8, 9, 10, 11, 12, 13, 14, 15, 16, 17, 18], \"y\": [1.0283090917684832, 0.9780171588130205, 0.9936737494184962, 1.1583546722295386, 1.3003190312424706, 1.0461065358936192, 0.9939935980519167, 0.8624727538465176, 1.0320875702911843, 1.8209302548731714, 1.183312004167991, 1.124751984038874, 0.3158650640677922, 0.33722555273780613, null, 1.1755780642121016, 1.7474482298332512, 0.9071546940807546], \"type\": \"scatter\", \"uid\": \"a18e79e9-e8e3-411e-98e8-faba6e0b6708\"}, {\"hoverinfo\": \"none\", \"line\": {\"color\": \"rgb(100, 100, 100)\", \"width\": 0.5}, \"mode\": \"lines\", \"x\": [1, 2, 3, 4, 5, 6, 7, 8, 9, 10, 11, 12, 13, 14, 15, 16, 17, 18], \"y\": [0.8906429137376486, 1.2094294382233948, 0.8999276480389562, 1.1724732030534324, 1.1344310555153247, 0.9787125413001295, 0.673052618486893, 0.7355737066191491, 0.6258738211681841, 1.2793348791225114, 0.8492067588089595, 0.8612879275640527, 0.6421906553388472, 0.7371030422125106, 0.5400908879490859, 0.8127756642439808, 0.8783717853646383, 1.10220423361189], \"type\": \"scatter\", \"uid\": \"99f0fa36-905d-4b30-83bc-48624a66fbd6\"}, {\"hoverinfo\": \"none\", \"line\": {\"color\": \"rgb(100, 100, 100)\", \"width\": 0.5}, \"mode\": \"lines\", \"x\": [1, 2, 3, 4, 5, 6, 7, 8, 9, 10, 11, 12, 13, 14, 15, 16, 17, 18], \"y\": [1.2580292372746185, 0.9249681340328392, 0.8170026286925423, 1.0210565740788744, 1.2579870947828178, 1.0331911768231938, 0.7011322220368585, 0.844468108060603, 0.5222750852089711, 1.1537808870126747, 1.1666660007112681, 1.1003168615918708, 0.6862794285703259, 0.5602628892343157, 0.6907357317384885, 1.346809607339371, 1.229187477773792, 1.197342176055973], \"type\": \"scatter\", \"uid\": \"3d0742ca-727f-46fb-825c-ca5d42b23aa0\"}, {\"hoverinfo\": \"none\", \"line\": {\"color\": \"rgb(100, 100, 100)\", \"width\": 0.5}, \"mode\": \"lines\", \"x\": [1, 2, 3, 4, 5, 6, 7, 8, 9, 10, 11, 12, 13, 14, 15, 16, 17, 18], \"y\": [0.7247429389643057, 0.7111380208823936, 1.5641190401533005, 0.7690474151069527, 0.7860371021926953, 1.0102755658543614, 0.864769405200832, 0.8445810213487711, 0.9475021556081055, 0.9416001765434435, 0.7892163536967849, 0.6530817345360129, 0.500331969444362, 0.636103382376939, 0.45109206191208756, 1.5067025553423627, 1.3261582797364788, 1.9150694765981084], \"type\": \"scatter\", \"uid\": \"7662c2c3-da5e-4725-9994-28eea9908a5a\"}, {\"hoverinfo\": \"none\", \"line\": {\"color\": \"rgb(100, 100, 100)\", \"width\": 0.5}, \"mode\": \"lines\", \"x\": [1, 2, 3, 4, 5, 6, 7, 8, 9, 10, 11, 12, 13, 14, 15, 16, 17, 18], \"y\": [1.1459934416646997, 0.8664799644655765, 0.9875265938697237, 0.9878243221761698, 1.1019407297916473, 1.0162334440384533, 0.9033523925453759, 0.8074828603073927, 0.6763912531711597, 0.9304423815095599, 0.88669407442931, 0.8133512151688908, 0.4405245670569878, 0.4780009754558432, 0.6186199064693024, 0.9010386371060859, 0.8988911561773969, 0.8458783089376545], \"type\": \"scatter\", \"uid\": \"7db17386-b151-4c3d-9e92-acf0fd56f593\"}, {\"hoverinfo\": \"none\", \"line\": {\"color\": \"rgb(100, 100, 100)\", \"width\": 0.5}, \"mode\": \"lines\", \"x\": [1, 2, 3, 4, 5, 6, 7, 8, 9, 10, 11, 12, 13, 14, 15, 16, 17, 18], \"y\": [1.1235475222988678, 0.9822300306892442, 0.8942224470118878, 0.9492639847029015, 0.9485230849839591, 0.8424501182432019, 0.6117607078657725, 0.6164762108213527, 0.5503809105643683, 1.0093722779612173, 0.9888293221828396, 0.7962080667063053, 0.5951678994241805, 0.8651724368173845, 0.6883182673727312, 1.2419440830172064, 0.8107903721033657, 1.014782987384798], \"type\": \"scatter\", \"uid\": \"0b375332-0009-4bcc-8d2e-0c58a41f1b19\"}, {\"hoverinfo\": \"none\", \"line\": {\"color\": \"rgb(100, 100, 100)\", \"width\": 0.5}, \"mode\": \"lines\", \"x\": [1, 2, 3, 4, 5, 6, 7, 8, 9, 10, 11, 12, 13, 14, 15, 16, 17, 18], \"y\": [0.9053275506270654, 1.1291873271430228, 0.9654851222299117, 1.15208601908279, 1.2662465005102892, 1.232667462134257, 0.7746347015476288, 0.6964661058878652, 0.9024815228450063, 0.9760675462591722, 0.8071429766398495, 1.3446763161155681, 0.9947839834155341, 1.356526961577566, 0.4788043758269179, 1.205911812805719, 1.1300647357598097, 1.292859018985166], \"type\": \"scatter\", \"uid\": \"55b3f23b-091a-4236-a0b0-9b613f35270e\"}, {\"hoverinfo\": \"none\", \"line\": {\"color\": \"rgb(100, 100, 100)\", \"width\": 0.5}, \"mode\": \"lines\", \"x\": [1, 2, 3, 4, 5, 6, 7, 8, 9, 10, 11, 12, 13, 14, 15, 16, 17, 18], \"y\": [0.979541946483455, 1.0026082967129506, 1.0178497568035942, 1.2062470114095516, 1.2912882619651735, 1.173983742484099, 0.9075398417816503, 0.9994759049851137, 0.716244725994182, 1.0696189975861963, 1.1680732916973682, 1.0532190644036892, 1.116171803264155, 0.7756753655720894, 1.3152626409892028, 1.3334928979820346, 1.277296136474227, 1.8503628669218184], \"type\": \"scatter\", \"uid\": \"447c48d5-e93f-4c85-964c-1f9984a5d36b\"}, {\"hoverinfo\": \"none\", \"line\": {\"color\": \"rgb(100, 100, 100)\", \"width\": 0.5}, \"mode\": \"lines\", \"x\": [1, 2, 3, 4, 5, 6, 7, 8, 9, 10, 11, 12, 13, 14, 15, 16, 17, 18], \"y\": [0.9654926479267321, 1.10131453628123, 0.9331928157920378, 0.8158622782765509, 1.016143181069044, 1.1830856378085446, 0.9700345648423386, 1.1047719129240996, 1.277490238192384, 0.9962840828959532, 0.9835270837074876, 1.0435015075715437, 1.3119052380416194, 1.187064475976361, 1.167366234217281, 1.3114647740315566, 1.0835726905338334, 1.1381279213752613], \"type\": \"scatter\", \"uid\": \"1935d645-e9bb-48a8-81e5-185a8b4c59e4\"}, {\"hoverinfo\": \"none\", \"line\": {\"color\": \"rgb(100, 100, 100)\", \"width\": 0.5}, \"mode\": \"lines\", \"x\": [1, 2, 3, 4, 5, 6, 7, 8, 9, 10, 11, 12, 13, 14, 15, 16, 17, 18], \"y\": [1.1629061479901963, 1.009256039759487, 0.8278378122503165, 1.0877992401521868, 1.0027938891263193, 0.8947318936033668, 0.3924438146296349, 0.4782160257594792, 0.6212311861489958, 1.09497187860578, 1.0783897628942087, 0.8630985015590604, 0.4121867844794431, 0.4071805456325332, 0.4041148788046816, 1.3829290612352578, 1.234285759284766, 1.186558459137994], \"type\": \"scatter\", \"uid\": \"0174fd65-ae19-4690-acea-9b313a242a7d\"}, {\"hoverinfo\": \"none\", \"line\": {\"color\": \"rgb(100, 100, 100)\", \"width\": 0.5}, \"mode\": \"lines\", \"x\": [1, 2, 3, 4, 5, 6, 7, 8, 9, 10, 11, 12, 13, 14, 15, 16, 17, 18], \"y\": [1.012897800871361, 0.9959407719143792, 0.9911614272142596, 1.0182655207109765, 1.21297575214423, 1.0861438928265925, 0.7912553825350475, 1.0294821608582407, 0.8203103823625849, 0.966451648313667, 1.049877243761131, 1.079507751765624, 0.9812746160427421, 1.0286753619623303, 1.0247939829271229, 1.00488040475438, 1.1557196653147161, 1.1440227672325287], \"type\": \"scatter\", \"uid\": \"80cfe12a-7e04-41be-bb0d-4456d758cc42\"}, {\"hoverinfo\": \"none\", \"line\": {\"color\": \"rgb(100, 100, 100)\", \"width\": 0.5}, \"mode\": \"lines\", \"x\": [1, 2, 3, 4, 5, 6, 7, 8, 9, 10, 11, 12, 13, 14, 15, 16, 17, 18], \"y\": [0.84041475160586, 1.215639623904599, 0.9439456244895407, 2.1298411992749084, 1.2710410298072912, 0.9781277174052755, 0.5856730361748393, 0.8034694804653466, 0.7210987953039703, 0.9033120943410099, 0.7363689996827018, 1.018711947746448, 0.7565135524145349, 0.7453122750652926, 0.7765269277122279, 1.2516952528105771, 1.3016432291281632, 1.095096247574381], \"type\": \"scatter\", \"uid\": \"9915231a-6e34-4afa-81cd-6e31453ad2d9\"}, {\"hoverinfo\": \"none\", \"line\": {\"color\": \"rgb(100, 100, 100)\", \"width\": 0.5}, \"mode\": \"lines\", \"x\": [1, 2, 3, 4, 5, 6, 7, 8, 9, 10, 11, 12, 13, 14, 15, 16, 17, 18], \"y\": [0.8891883185075976, 0.9351804547581021, 1.1756312267343, 1.0334781504535224, 1.0991746563490643, 1.0321295200378215, 0.680314074434173, 0.7074299782471978, 0.6598926643752461, 1.0034311849256086, 0.9369371418513306, 0.8473919213281773, 0.6838410711502358, 0.7754774895469162, 0.692978320858934, 0.8490105255093113, 1.0403123257966518, 0.9486097919732451], \"type\": \"scatter\", \"uid\": \"14f01067-363c-47ae-ad8d-82c7634fed58\"}, {\"hoverinfo\": \"none\", \"line\": {\"color\": \"rgb(100, 100, 100)\", \"width\": 0.5}, \"mode\": \"lines\", \"x\": [1, 2, 3, 4, 5, 6, 7, 8, 9, 10, 11, 12, 13, 14, 15, 16, 17, 18], \"y\": [0.9236101464172642, 0.96174249106516, 1.1146473625175761, 0.9967987106345565, 0.8487241736143722, 1.1808013000934043, 0.9947962993981317, 0.9323497029995936, 0.7538027350675666, 0.8244943563381344, 0.8591796080621802, 0.8036168997532763, 0.8828695565697886, 0.7666965844075135, 0.6157764255802737, 0.8876793364063738, 0.8443497151585019, 0.8372178279005127], \"type\": \"scatter\", \"uid\": \"dee5c835-7350-444d-a8f5-1535114c3996\"}, {\"hoverinfo\": \"none\", \"line\": {\"color\": \"rgb(100, 100, 100)\", \"width\": 0.5}, \"mode\": \"lines\", \"x\": [1, 2, 3, 4, 5, 6, 7, 8, 9, 10, 11, 12, 13, 14, 15, 16, 17, 18], \"y\": [0.911790677931937, 0.9578987737556475, 1.1303105483124154, 1.4336411730185945, 1.1891648465374831, 1.2927101140188744, 0.49409675544271553, 0.7200178488663552, null, 1.0991855312666399, 1.0299102940624156, 0.9281188553957158, null, null, null, 1.2789577610327683, 1.182873722553369, 1.1040508430220644], \"type\": \"scatter\", \"uid\": \"fe38c6ce-43aa-49ef-8baa-48bbcef1e1c6\"}, {\"hoverinfo\": \"none\", \"line\": {\"color\": \"rgb(100, 100, 100)\", \"width\": 0.5}, \"mode\": \"lines\", \"x\": [1, 2, 3, 4, 5, 6, 7, 8, 9, 10, 11, 12, 13, 14, 15, 16, 17, 18], \"y\": [1.057503933464765, 1.0227533789005505, 0.9197426876346846, 0.9732532385733442, 1.0973446847503647, 0.9859240749076996, 0.6627180007314405, 0.5637616090787985, 0.7743964082112419, 1.4783234697979395, 0.9631336561564572, 0.9346070442289424, 0.5607915600891078, 0.6818866898249333, 0.7583243521343503, 1.4983789141930133, 1.2791629565677887, 0.9311977966326983], \"type\": \"scatter\", \"uid\": \"edfbcb7d-1701-4664-b420-e6a44c482beb\"}, {\"hoverinfo\": \"none\", \"line\": {\"color\": \"rgb(100, 100, 100)\", \"width\": 0.5}, \"mode\": \"lines\", \"x\": [1, 2, 3, 4, 5, 6, 7, 8, 9, 10, 11, 12, 13, 14, 15, 16, 17, 18], \"y\": [1.5674118197563751, 0.8090090336326525, 0.6235791466109725, 1.1515702184264858, 0.9294347496113319, 0.9532857042819963, 1.2994790777262106, null, 1.563693482469874, 1.1620529139345155, 1.3187480634308302, 0.708812170906991, null, null, null, 1.1790712706116286, 1.4218620705609748, 1.2358159428241744], \"type\": \"scatter\", \"uid\": \"0653d3d8-32ce-4782-83b2-01bb0c94cdfc\"}, {\"hoverinfo\": \"none\", \"line\": {\"color\": \"rgb(100, 100, 100)\", \"width\": 0.5}, \"mode\": \"lines\", \"x\": [1, 2, 3, 4, 5, 6, 7, 8, 9, 10, 11, 12, 13, 14, 15, 16, 17, 18], \"y\": [0.9730869211949255, 0.9407007476325444, 1.0862123311725305, 1.037636334118454, 0.9179177267168936, 0.9495914941155856, 0.8798390379570828, 0.8695709113461682, 0.8901321401830907, 1.108771666471402, 1.1924214565924984, 1.021937048883321, 0.7611356642638715, 0.8465816090247369, 0.8129457530068604, 1.056497503604976, 0.9858365505003135, 1.0024254399526724], \"type\": \"scatter\", \"uid\": \"730b20ed-11ba-4132-8d7e-63676b9714e7\"}, {\"error_y\": {\"array\": [0.03823320050667592, 0.029198270342594458, 0.03962783853683055, 0.0689349177769734, 0.03662528927577521, 0.03681941028071049, 0.04145954690503067, 0.033702276559916, 0.050148984871042065, 0.047993674137937536, 0.030515954317550237, 0.03349172810233041, 0.048913414940844925, 0.05443978221516364, 0.046355748616144464, 0.04987493038573498, 0.06032572378364378, 0.05793344085630439], \"type\": \"data\", \"visible\": true}, \"line\": {\"color\": \"rgb(76, 114, 176)\", \"width\": 2}, \"x\": [1, 2, 3, 4, 5, 6, 7, 8, 9, 10, 11, 12, 13, 14, 15, 16, 17, 18], \"y\": [1.0293537702590758, 1.0003331341832007, 0.9703130955577232, 1.1369547012345984, 1.0709957765066804, 1.0510219593668824, 0.7814845378154786, 0.7685159542525863, 0.8061965409831132, 1.0794495127741734, 0.9831408725840828, 0.9349198454630495, 0.7201652277066493, 0.7464352277301424, 0.7157330976966253, 1.1761766091186356, 1.190418615950967, 1.1035141999041544], \"type\": \"scatter\", \"uid\": \"bfba4604-18ab-4d33-a78d-63d3af863ee7\"}], {\"annotations\": [{\"showarrow\": false, \"text\": \"gain 1\", \"x\": 2, \"xref\": \"x\", \"y\": 0.95, \"yref\": \"paper\"}, {\"showarrow\": false, \"text\": \"gain 0.5\", \"x\": 5, \"xref\": \"x\", \"y\": 0.95, \"yref\": \"paper\"}, {\"showarrow\": false, \"text\": \"gain 1.5\", \"x\": 8, \"xref\": \"x\", \"y\": 0.95, \"yref\": \"paper\"}, {\"showarrow\": false, \"text\": \"gain 1\", \"x\": 11, \"xref\": \"x\", \"y\": 0.95, \"yref\": \"paper\"}, {\"showarrow\": false, \"text\": \"gain 1.5\", \"x\": 14, \"xref\": \"x\", \"y\": 0.95, \"yref\": \"paper\"}, {\"showarrow\": false, \"text\": \"gain 0.5\", \"x\": 17, \"xref\": \"x\", \"y\": 0.95, \"yref\": \"paper\"}], \"autosize\": true, \"font\": {\"family\": \"Droid Sans, sans-serif\", \"size\": 14}, \"height\": 600, \"paper_bgcolor\": \"rgba(0,0,0,0)\", \"plot_bgcolor\": \"rgba(0,0,0,0)\", \"shapes\": [{\"fillcolor\": \"rgb(229, 229, 229)\", \"layer\": \"below\", \"line\": {\"width\": 0}, \"x0\": -1.5, \"x1\": 3.5, \"xref\": \"x\", \"y0\": 0, \"y1\": 1, \"yref\": \"paper\"}, {\"fillcolor\": \"rgb(229, 229, 229)\", \"layer\": \"below\", \"line\": {\"width\": 0}, \"x0\": 9.5, \"x1\": 12.5, \"xref\": \"x\", \"y0\": 0, \"y1\": 1, \"yref\": \"paper\"}, {\"fillcolor\": \"rgb(178, 178, 178)\", \"layer\": \"below\", \"line\": {\"width\": 0}, \"x0\": 6.5, \"x1\": 9.5, \"xref\": \"x\", \"y0\": 0, \"y1\": 1, \"yref\": \"paper\"}, {\"fillcolor\": \"rgb(178, 178, 178)\", \"layer\": \"below\", \"line\": {\"width\": 0}, \"x0\": 12.5, \"x1\": 15.5, \"xref\": \"x\", \"y0\": 0, \"y1\": 1, \"yref\": \"paper\"}], \"showlegend\": false, \"title\": {\"text\": \"Inter-bout time with varying gains\"}, \"width\": 800, \"xaxis\": {\"autorange\": false, \"dtick\": 3, \"range\": [0.5, 19.5], \"showgrid\": false, \"showline\": false, \"tick0\": 2, \"title\": {\"text\": \"Trial n.\"}, \"type\": \"linear\", \"zeroline\": false}, \"yaxis\": {\"autorange\": false, \"range\": [0.5, 1.5], \"showgrid\": false, \"showline\": false, \"title\": {\"text\": \"Relative inter-bout time\"}, \"type\": \"linear\", \"zeroline\": false}}, {\"showLink\": false, \"linkText\": \"Export to plot.ly\", \"plotlyServerURL\": \"https://plot.ly\"}); \n",
       "}\n",
       "});</script>"
      ]
     },
     "metadata": {},
     "output_type": "display_data"
    }
   ],
   "source": [
    "fig = Figure(data=data, layout=layout)\n",
    "iplot(fig)"
   ]
  },
  {
   "cell_type": "code",
   "execution_count": 119,
   "metadata": {},
   "outputs": [
    {
     "data": {
      "text/plain": [
       "'file://C:\\\\Users\\\\lpetrucco\\\\code\\\\stytra\\\\docs\\\\figures\\\\portugues2011_replication.html'"
      ]
     },
     "execution_count": 119,
     "metadata": {},
     "output_type": "execute_result"
    }
   ],
   "source": [
    "plot(fig, filename=r\"C:\\Users\\lpetrucco\\code\\stytra\\docs\\figures\\portugues2011_replication.html\", include_plotlyjs=False)"
   ]
  },
  {
   "cell_type": "code",
   "execution_count": null,
   "metadata": {
    "collapsed": true
   },
   "outputs": [],
   "source": []
  }
 ],
 "metadata": {
  "kernelspec": {
   "display_name": "Python 3",
   "language": "python",
   "name": "python3"
  },
  "language_info": {
   "codemirror_mode": {
    "name": "ipython",
    "version": 3
   },
   "file_extension": ".py",
   "mimetype": "text/x-python",
   "name": "python",
   "nbconvert_exporter": "python",
   "pygments_lexer": "ipython3",
   "version": "3.6.3"
  }
 },
 "nbformat": 4,
 "nbformat_minor": 2
}
